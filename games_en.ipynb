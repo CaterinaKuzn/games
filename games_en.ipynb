{
 "cells": [
  {
   "cell_type": "markdown",
   "metadata": {
    "toc": true
   },
   "source": [
    "<h1>Содержание<span class=\"tocSkip\"></span></h1>\n",
    "<div class=\"toc\"><ul class=\"toc-item\"><li><span><a href=\"#Изучение-входных-данных\" data-toc-modified-id=\"Изучение-входных-данных-1\"><span class=\"toc-item-num\">1&nbsp;&nbsp;</span>Изучение входных данных</a></span></li><li><span><a href=\"#Подготовка-данных\" data-toc-modified-id=\"Подготовка-данных-2\"><span class=\"toc-item-num\">2&nbsp;&nbsp;</span>Подготовка данных</a></span><ul class=\"toc-item\"><li><span><a href=\"#Предобработка-данных\" data-toc-modified-id=\"Предобработка-данных-2.1\"><span class=\"toc-item-num\">2.1&nbsp;&nbsp;</span>Предобработка данных</a></span></li><li><span><a href=\"#Расчет-и-добавление-нового-столбца\" data-toc-modified-id=\"Расчет-и-добавление-нового-столбца-2.2\"><span class=\"toc-item-num\">2.2&nbsp;&nbsp;</span>Расчет и добавление нового столбца</a></span></li></ul></li><li><span><a href=\"#Исследовательский-анализ-данных\" data-toc-modified-id=\"Исследовательский-анализ-данных-3\"><span class=\"toc-item-num\">3&nbsp;&nbsp;</span>Исследовательский анализ данных</a></span><ul class=\"toc-item\"><li><span><a href=\"#Определение-актуального-периода\" data-toc-modified-id=\"Определение-актуального-периода-3.1\"><span class=\"toc-item-num\">3.1&nbsp;&nbsp;</span>Определение актуального периода</a></span></li><li><span><a href=\"#Сравнение-платформ\" data-toc-modified-id=\"Сравнение-платформ-3.2\"><span class=\"toc-item-num\">3.2&nbsp;&nbsp;</span>Сравнение платформ</a></span></li><li><span><a href=\"#Сравнение-жанров\" data-toc-modified-id=\"Сравнение-жанров-3.3\"><span class=\"toc-item-num\">3.3&nbsp;&nbsp;</span>Сравнение жанров</a></span></li></ul></li><li><span><a href=\"#Сравнение-пользователей-по-регионам\" data-toc-modified-id=\"Сравнение-пользователей-по-регионам-4\"><span class=\"toc-item-num\">4&nbsp;&nbsp;</span>Сравнение пользователей по регионам</a></span></li><li><span><a href=\"#Проверка-гипотез\" data-toc-modified-id=\"Проверка-гипотез-5\"><span class=\"toc-item-num\">5&nbsp;&nbsp;</span>Проверка гипотез</a></span><ul class=\"toc-item\"><li><span><a href=\"#Средние-пользовательские-рейтинги-платформ-Xbox-One-и-PC-одинаковые\" data-toc-modified-id=\"Средние-пользовательские-рейтинги-платформ-Xbox-One-и-PC-одинаковые-5.1\"><span class=\"toc-item-num\">5.1&nbsp;&nbsp;</span>Средние пользовательские рейтинги платформ Xbox One и PC одинаковые</a></span></li><li><span><a href=\"#Средние-пользовательские-рейтинги-жанров-Action--и-Sports-разные\" data-toc-modified-id=\"Средние-пользовательские-рейтинги-жанров-Action--и-Sports-разные-5.2\"><span class=\"toc-item-num\">5.2&nbsp;&nbsp;</span>Средние пользовательские рейтинги жанров Action  и Sports разные</a></span></li></ul></li><li><span><a href=\"#Общие-выводы\" data-toc-modified-id=\"Общие-выводы-6\"><span class=\"toc-item-num\">6&nbsp;&nbsp;</span>Общие выводы</a></span></li></ul></div>"
   ]
  },
  {
   "attachments": {},
   "cell_type": "markdown",
   "metadata": {},
   "source": [
    "# Research on Factors Determining the Success of a Video Game"
   ]
  },
  {
   "attachments": {},
   "cell_type": "markdown",
   "metadata": {},
   "source": [
    "The video game industry is a fast-growing and highly competitive market. With the increasing number of game developers and publishers, it has become more challenging to achieve commercial success. Therefore, it is crucial to identify the factors that contribute to the success of a video game. In this study, we aim to investigate the key factors that determine the success of a video game.\n",
    "\n",
    "Building an Advertising Campaign for an Online Store Selling Computer Games\n",
    "\n",
    "\n",
    "Creating an effective advertising campaign is a crucial necessity for an online store that sells computer games. Historical data on game sales, user and expert ratings, genres, and platforms (such as Xbox or PlayStation) are available from public sources, with data provided up to 2016. Analyzing this data can help identify the factors that determine a game's success, allowing the store to invest in potentially popular products and plan advertising campaigns accordingly. We will examine factors such as genre, critic and user ratings, and test two hypotheses: that the average user ratings for Xbox One and PC are the same, and that the average user ratings for the Action and Sports genres are different.\n",
    "\n",
    "**Research process::**\n",
    "1. Study the collected data - this step involves reviewing the available data and familiarizing oneself with its sources and structure\n",
    "2. Data preprocessing: check for consistency, missing values, anomalies, and duplicates - before conducting any analysis, it is crucial to ensure the data is clean and consistent, without any missing values or duplicates. Anomalies and outliers should also be checked for and dealt with appropriately.\n",
    "3. Additional calculations\n",
    "4. Analyze data by time period, platforms, and genres \n",
    "5. Compare users across regions - comparing users across different regions can help identify any regional differences in gaming preferences, which can be used to develop targeted marketing campaigns\n",
    "6. Hypothesis testing - hypothesis testing involves using statistical methods to determine whether there is a significant difference between two groups, such as the mean user ratings for two different platforms or genres\n",
    "7. General conclusions \n",
    "\n",
    "**Research objective:** To identify the factors that influence the success of a game"
   ]
  },
  {
   "attachments": {},
   "cell_type": "markdown",
   "metadata": {},
   "source": [
    "## Examining the input"
   ]
  },
  {
   "attachments": {},
   "cell_type": "markdown",
   "metadata": {},
   "source": [
    "Import all required libraries"
   ]
  },
  {
   "cell_type": "code",
   "execution_count": 1,
   "metadata": {},
   "outputs": [],
   "source": [
    "import pandas as pd\n",
    "import numpy as np\n",
    "import matplotlib.pyplot as plt\n",
    "import seaborn as sns\n",
    "from scipy import stats as st"
   ]
  },
  {
   "attachments": {},
   "cell_type": "markdown",
   "metadata": {},
   "source": [
    "Open the dataset and see the first 10 values"
   ]
  },
  {
   "cell_type": "code",
   "execution_count": 2,
   "metadata": {},
   "outputs": [
    {
     "data": {
      "text/html": [
       "<div>\n",
       "<style scoped>\n",
       "    .dataframe tbody tr th:only-of-type {\n",
       "        vertical-align: middle;\n",
       "    }\n",
       "\n",
       "    .dataframe tbody tr th {\n",
       "        vertical-align: top;\n",
       "    }\n",
       "\n",
       "    .dataframe thead th {\n",
       "        text-align: right;\n",
       "    }\n",
       "</style>\n",
       "<table border=\"1\" class=\"dataframe\">\n",
       "  <thead>\n",
       "    <tr style=\"text-align: right;\">\n",
       "      <th></th>\n",
       "      <th>Name</th>\n",
       "      <th>Platform</th>\n",
       "      <th>Year_of_Release</th>\n",
       "      <th>Genre</th>\n",
       "      <th>NA_sales</th>\n",
       "      <th>EU_sales</th>\n",
       "      <th>JP_sales</th>\n",
       "      <th>Other_sales</th>\n",
       "      <th>Critic_Score</th>\n",
       "      <th>User_Score</th>\n",
       "      <th>Rating</th>\n",
       "    </tr>\n",
       "  </thead>\n",
       "  <tbody>\n",
       "    <tr>\n",
       "      <th>0</th>\n",
       "      <td>Wii Sports</td>\n",
       "      <td>Wii</td>\n",
       "      <td>2006.0</td>\n",
       "      <td>Sports</td>\n",
       "      <td>41.36</td>\n",
       "      <td>28.96</td>\n",
       "      <td>3.77</td>\n",
       "      <td>8.45</td>\n",
       "      <td>76.0</td>\n",
       "      <td>8</td>\n",
       "      <td>E</td>\n",
       "    </tr>\n",
       "    <tr>\n",
       "      <th>1</th>\n",
       "      <td>Super Mario Bros.</td>\n",
       "      <td>NES</td>\n",
       "      <td>1985.0</td>\n",
       "      <td>Platform</td>\n",
       "      <td>29.08</td>\n",
       "      <td>3.58</td>\n",
       "      <td>6.81</td>\n",
       "      <td>0.77</td>\n",
       "      <td>NaN</td>\n",
       "      <td>NaN</td>\n",
       "      <td>NaN</td>\n",
       "    </tr>\n",
       "    <tr>\n",
       "      <th>2</th>\n",
       "      <td>Mario Kart Wii</td>\n",
       "      <td>Wii</td>\n",
       "      <td>2008.0</td>\n",
       "      <td>Racing</td>\n",
       "      <td>15.68</td>\n",
       "      <td>12.76</td>\n",
       "      <td>3.79</td>\n",
       "      <td>3.29</td>\n",
       "      <td>82.0</td>\n",
       "      <td>8.3</td>\n",
       "      <td>E</td>\n",
       "    </tr>\n",
       "    <tr>\n",
       "      <th>3</th>\n",
       "      <td>Wii Sports Resort</td>\n",
       "      <td>Wii</td>\n",
       "      <td>2009.0</td>\n",
       "      <td>Sports</td>\n",
       "      <td>15.61</td>\n",
       "      <td>10.93</td>\n",
       "      <td>3.28</td>\n",
       "      <td>2.95</td>\n",
       "      <td>80.0</td>\n",
       "      <td>8</td>\n",
       "      <td>E</td>\n",
       "    </tr>\n",
       "    <tr>\n",
       "      <th>4</th>\n",
       "      <td>Pokemon Red/Pokemon Blue</td>\n",
       "      <td>GB</td>\n",
       "      <td>1996.0</td>\n",
       "      <td>Role-Playing</td>\n",
       "      <td>11.27</td>\n",
       "      <td>8.89</td>\n",
       "      <td>10.22</td>\n",
       "      <td>1.00</td>\n",
       "      <td>NaN</td>\n",
       "      <td>NaN</td>\n",
       "      <td>NaN</td>\n",
       "    </tr>\n",
       "    <tr>\n",
       "      <th>5</th>\n",
       "      <td>Tetris</td>\n",
       "      <td>GB</td>\n",
       "      <td>1989.0</td>\n",
       "      <td>Puzzle</td>\n",
       "      <td>23.20</td>\n",
       "      <td>2.26</td>\n",
       "      <td>4.22</td>\n",
       "      <td>0.58</td>\n",
       "      <td>NaN</td>\n",
       "      <td>NaN</td>\n",
       "      <td>NaN</td>\n",
       "    </tr>\n",
       "    <tr>\n",
       "      <th>6</th>\n",
       "      <td>New Super Mario Bros.</td>\n",
       "      <td>DS</td>\n",
       "      <td>2006.0</td>\n",
       "      <td>Platform</td>\n",
       "      <td>11.28</td>\n",
       "      <td>9.14</td>\n",
       "      <td>6.50</td>\n",
       "      <td>2.88</td>\n",
       "      <td>89.0</td>\n",
       "      <td>8.5</td>\n",
       "      <td>E</td>\n",
       "    </tr>\n",
       "    <tr>\n",
       "      <th>7</th>\n",
       "      <td>Wii Play</td>\n",
       "      <td>Wii</td>\n",
       "      <td>2006.0</td>\n",
       "      <td>Misc</td>\n",
       "      <td>13.96</td>\n",
       "      <td>9.18</td>\n",
       "      <td>2.93</td>\n",
       "      <td>2.84</td>\n",
       "      <td>58.0</td>\n",
       "      <td>6.6</td>\n",
       "      <td>E</td>\n",
       "    </tr>\n",
       "    <tr>\n",
       "      <th>8</th>\n",
       "      <td>New Super Mario Bros. Wii</td>\n",
       "      <td>Wii</td>\n",
       "      <td>2009.0</td>\n",
       "      <td>Platform</td>\n",
       "      <td>14.44</td>\n",
       "      <td>6.94</td>\n",
       "      <td>4.70</td>\n",
       "      <td>2.24</td>\n",
       "      <td>87.0</td>\n",
       "      <td>8.4</td>\n",
       "      <td>E</td>\n",
       "    </tr>\n",
       "    <tr>\n",
       "      <th>9</th>\n",
       "      <td>Duck Hunt</td>\n",
       "      <td>NES</td>\n",
       "      <td>1984.0</td>\n",
       "      <td>Shooter</td>\n",
       "      <td>26.93</td>\n",
       "      <td>0.63</td>\n",
       "      <td>0.28</td>\n",
       "      <td>0.47</td>\n",
       "      <td>NaN</td>\n",
       "      <td>NaN</td>\n",
       "      <td>NaN</td>\n",
       "    </tr>\n",
       "  </tbody>\n",
       "</table>\n",
       "</div>"
      ],
      "text/plain": [
       "                        Name Platform  Year_of_Release         Genre  \\\n",
       "0                 Wii Sports      Wii           2006.0        Sports   \n",
       "1          Super Mario Bros.      NES           1985.0      Platform   \n",
       "2             Mario Kart Wii      Wii           2008.0        Racing   \n",
       "3          Wii Sports Resort      Wii           2009.0        Sports   \n",
       "4   Pokemon Red/Pokemon Blue       GB           1996.0  Role-Playing   \n",
       "5                     Tetris       GB           1989.0        Puzzle   \n",
       "6      New Super Mario Bros.       DS           2006.0      Platform   \n",
       "7                   Wii Play      Wii           2006.0          Misc   \n",
       "8  New Super Mario Bros. Wii      Wii           2009.0      Platform   \n",
       "9                  Duck Hunt      NES           1984.0       Shooter   \n",
       "\n",
       "   NA_sales  EU_sales  JP_sales  Other_sales  Critic_Score User_Score Rating  \n",
       "0     41.36     28.96      3.77         8.45          76.0          8      E  \n",
       "1     29.08      3.58      6.81         0.77           NaN        NaN    NaN  \n",
       "2     15.68     12.76      3.79         3.29          82.0        8.3      E  \n",
       "3     15.61     10.93      3.28         2.95          80.0          8      E  \n",
       "4     11.27      8.89     10.22         1.00           NaN        NaN    NaN  \n",
       "5     23.20      2.26      4.22         0.58           NaN        NaN    NaN  \n",
       "6     11.28      9.14      6.50         2.88          89.0        8.5      E  \n",
       "7     13.96      9.18      2.93         2.84          58.0        6.6      E  \n",
       "8     14.44      6.94      4.70         2.24          87.0        8.4      E  \n",
       "9     26.93      0.63      0.28         0.47           NaN        NaN    NaN  "
      ]
     },
     "execution_count": 2,
     "metadata": {},
     "output_type": "execute_result"
    }
   ],
   "source": [
    "data = pd.read_csv('/datasets/games.csv')\n",
    "data.head(10)"
   ]
  },
  {
   "attachments": {},
   "cell_type": "markdown",
   "metadata": {},
   "source": [
    "From the project documentation:\n",
    "\n",
    "* `Name` — is the name of the game\n",
    "* `Platform` — platform\n",
    "* `Year_of_Release` — is the year of release\n",
    "* `Genre` — game genre\n",
    "* `NA_sales` — sales in North America (millions of copies sold)\n",
    "* `EU_sales` — sales in Europe (millions of copies sold)\n",
    "* `JP_sales` — sales in Japan (millions of copies sold)\n",
    "* `Other_sales` — sales in other countries (millions of copies sold)\n",
    "* `Critic_Score` — score of critics (maximum 100)\n",
    "* `User_Score` — user score (maximum 10)\n",
    "* `Rating` — rating from the ESRB (Entertainment Software Rating Board). This association determines the rating of computer games and assigns them an appropriate age category."
   ]
  },
  {
   "cell_type": "code",
   "execution_count": 3,
   "metadata": {},
   "outputs": [
    {
     "name": "stdout",
     "output_type": "stream",
     "text": [
      "<class 'pandas.core.frame.DataFrame'>\n",
      "RangeIndex: 16715 entries, 0 to 16714\n",
      "Data columns (total 11 columns):\n",
      " #   Column           Non-Null Count  Dtype  \n",
      "---  ------           --------------  -----  \n",
      " 0   Name             16713 non-null  object \n",
      " 1   Platform         16715 non-null  object \n",
      " 2   Year_of_Release  16446 non-null  float64\n",
      " 3   Genre            16713 non-null  object \n",
      " 4   NA_sales         16715 non-null  float64\n",
      " 5   EU_sales         16715 non-null  float64\n",
      " 6   JP_sales         16715 non-null  float64\n",
      " 7   Other_sales      16715 non-null  float64\n",
      " 8   Critic_Score     8137 non-null   float64\n",
      " 9   User_Score       10014 non-null  object \n",
      " 10  Rating           9949 non-null   object \n",
      "dtypes: float64(6), object(5)\n",
      "memory usage: 1.4+ MB\n"
     ]
    }
   ],
   "source": [
    "data.info()"
   ]
  },
  {
   "attachments": {},
   "cell_type": "markdown",
   "metadata": {},
   "source": [
    "**Conclusion**: It is necessary to bring the headings to a good style, also change the data type in the column: `year_of_release`, `critic_score`, `user_score`. Check for gaps, outliers and duplicates."
   ]
  },
  {
   "attachments": {},
   "cell_type": "markdown",
   "metadata": {},
   "source": [
    "## Data preparation"
   ]
  },
  {
   "attachments": {},
   "cell_type": "markdown",
   "metadata": {},
   "source": [
    "Prepare the data for further analysis."
   ]
  },
  {
   "attachments": {},
   "cell_type": "markdown",
   "metadata": {},
   "source": [
    "### Data preprocessing"
   ]
  },
  {
   "attachments": {},
   "cell_type": "markdown",
   "metadata": {},
   "source": [
    "**Column names**"
   ]
  },
  {
   "attachments": {},
   "cell_type": "markdown",
   "metadata": {},
   "source": [
    "Replace the column names in accordance with the good style."
   ]
  },
  {
   "cell_type": "code",
   "execution_count": 4,
   "metadata": {},
   "outputs": [
    {
     "data": {
      "text/html": [
       "<div>\n",
       "<style scoped>\n",
       "    .dataframe tbody tr th:only-of-type {\n",
       "        vertical-align: middle;\n",
       "    }\n",
       "\n",
       "    .dataframe tbody tr th {\n",
       "        vertical-align: top;\n",
       "    }\n",
       "\n",
       "    .dataframe thead th {\n",
       "        text-align: right;\n",
       "    }\n",
       "</style>\n",
       "<table border=\"1\" class=\"dataframe\">\n",
       "  <thead>\n",
       "    <tr style=\"text-align: right;\">\n",
       "      <th></th>\n",
       "      <th>name</th>\n",
       "      <th>platform</th>\n",
       "      <th>year_of_release</th>\n",
       "      <th>genre</th>\n",
       "      <th>na_sales</th>\n",
       "      <th>eu_sales</th>\n",
       "      <th>jp_sales</th>\n",
       "      <th>other_sales</th>\n",
       "      <th>critic_score</th>\n",
       "      <th>user_score</th>\n",
       "      <th>rating</th>\n",
       "    </tr>\n",
       "  </thead>\n",
       "  <tbody>\n",
       "    <tr>\n",
       "      <th>0</th>\n",
       "      <td>Wii Sports</td>\n",
       "      <td>Wii</td>\n",
       "      <td>2006.0</td>\n",
       "      <td>Sports</td>\n",
       "      <td>41.36</td>\n",
       "      <td>28.96</td>\n",
       "      <td>3.77</td>\n",
       "      <td>8.45</td>\n",
       "      <td>76.0</td>\n",
       "      <td>8</td>\n",
       "      <td>E</td>\n",
       "    </tr>\n",
       "    <tr>\n",
       "      <th>1</th>\n",
       "      <td>Super Mario Bros.</td>\n",
       "      <td>NES</td>\n",
       "      <td>1985.0</td>\n",
       "      <td>Platform</td>\n",
       "      <td>29.08</td>\n",
       "      <td>3.58</td>\n",
       "      <td>6.81</td>\n",
       "      <td>0.77</td>\n",
       "      <td>NaN</td>\n",
       "      <td>NaN</td>\n",
       "      <td>NaN</td>\n",
       "    </tr>\n",
       "    <tr>\n",
       "      <th>2</th>\n",
       "      <td>Mario Kart Wii</td>\n",
       "      <td>Wii</td>\n",
       "      <td>2008.0</td>\n",
       "      <td>Racing</td>\n",
       "      <td>15.68</td>\n",
       "      <td>12.76</td>\n",
       "      <td>3.79</td>\n",
       "      <td>3.29</td>\n",
       "      <td>82.0</td>\n",
       "      <td>8.3</td>\n",
       "      <td>E</td>\n",
       "    </tr>\n",
       "    <tr>\n",
       "      <th>3</th>\n",
       "      <td>Wii Sports Resort</td>\n",
       "      <td>Wii</td>\n",
       "      <td>2009.0</td>\n",
       "      <td>Sports</td>\n",
       "      <td>15.61</td>\n",
       "      <td>10.93</td>\n",
       "      <td>3.28</td>\n",
       "      <td>2.95</td>\n",
       "      <td>80.0</td>\n",
       "      <td>8</td>\n",
       "      <td>E</td>\n",
       "    </tr>\n",
       "    <tr>\n",
       "      <th>4</th>\n",
       "      <td>Pokemon Red/Pokemon Blue</td>\n",
       "      <td>GB</td>\n",
       "      <td>1996.0</td>\n",
       "      <td>Role-Playing</td>\n",
       "      <td>11.27</td>\n",
       "      <td>8.89</td>\n",
       "      <td>10.22</td>\n",
       "      <td>1.00</td>\n",
       "      <td>NaN</td>\n",
       "      <td>NaN</td>\n",
       "      <td>NaN</td>\n",
       "    </tr>\n",
       "  </tbody>\n",
       "</table>\n",
       "</div>"
      ],
      "text/plain": [
       "                       name platform  year_of_release         genre  na_sales  \\\n",
       "0                Wii Sports      Wii           2006.0        Sports     41.36   \n",
       "1         Super Mario Bros.      NES           1985.0      Platform     29.08   \n",
       "2            Mario Kart Wii      Wii           2008.0        Racing     15.68   \n",
       "3         Wii Sports Resort      Wii           2009.0        Sports     15.61   \n",
       "4  Pokemon Red/Pokemon Blue       GB           1996.0  Role-Playing     11.27   \n",
       "\n",
       "   eu_sales  jp_sales  other_sales  critic_score user_score rating  \n",
       "0     28.96      3.77         8.45          76.0          8      E  \n",
       "1      3.58      6.81         0.77           NaN        NaN    NaN  \n",
       "2     12.76      3.79         3.29          82.0        8.3      E  \n",
       "3     10.93      3.28         2.95          80.0          8      E  \n",
       "4      8.89     10.22         1.00           NaN        NaN    NaN  "
      ]
     },
     "execution_count": 4,
     "metadata": {},
     "output_type": "execute_result"
    }
   ],
   "source": [
    "data.columns = data.columns.str.lower()\n",
    "data.head()"
   ]
  },
  {
   "attachments": {},
   "cell_type": "markdown",
   "metadata": {},
   "source": [
    "**Replacing Data Types**"
   ]
  },
  {
   "attachments": {},
   "cell_type": "markdown",
   "metadata": {},
   "source": [
    "Replace the data type in the column with the release year. First, check the list of unique values in this column."
   ]
  },
  {
   "cell_type": "code",
   "execution_count": 5,
   "metadata": {},
   "outputs": [
    {
     "data": {
      "text/plain": [
       "array([1980., 1981., 1982., 1983., 1984., 1985., 1986., 1987., 1988.,\n",
       "       1989., 1990., 1991., 1992., 1993., 1994., 1995., 1996., 1997.,\n",
       "       1998., 1999., 2000., 2001., 2002., 2003., 2004., 2005., 2006.,\n",
       "       2007., 2008., 2009., 2010., 2011., 2012., 2013., 2014., 2015.,\n",
       "       2016.,   nan])"
      ]
     },
     "execution_count": 5,
     "metadata": {},
     "output_type": "execute_result"
    }
   ],
   "source": [
    "data['year_of_release'].sort_values().unique()"
   ]
  },
  {
   "attachments": {},
   "cell_type": "markdown",
   "metadata": {},
   "source": [
    "The values are OK, but there are missing ones. To make it possible to replace all values with integer type, replace the gaps with 0, then change the column type, and then change back the gaps."
   ]
  },
  {
   "cell_type": "code",
   "execution_count": 6,
   "metadata": {},
   "outputs": [
    {
     "data": {
      "text/plain": [
       "0        2006\n",
       "1        1985\n",
       "2        2008\n",
       "3        2009\n",
       "4        1996\n",
       "         ... \n",
       "16710    2016\n",
       "16711    2006\n",
       "16712    2016\n",
       "16713    2003\n",
       "16714    2016\n",
       "Name: year_of_release, Length: 16715, dtype: int64"
      ]
     },
     "execution_count": 6,
     "metadata": {},
     "output_type": "execute_result"
    }
   ],
   "source": [
    "data['year_of_release'] = data['year_of_release'].fillna(0) #Замена пропусков на ноль\n",
    "data['year_of_release'].astype('int') #Перевод в целочисленные значения"
   ]
  },
  {
   "cell_type": "code",
   "execution_count": 7,
   "metadata": {},
   "outputs": [],
   "source": [
    "data.loc[data['year_of_release'] == 0, 'year_of_release'] = np.nan"
   ]
  },
  {
   "attachments": {},
   "cell_type": "markdown",
   "metadata": {},
   "source": [
    "Check the `critic_score` column for unique values."
   ]
  },
  {
   "cell_type": "code",
   "execution_count": 8,
   "metadata": {},
   "outputs": [
    {
     "data": {
      "text/plain": [
       "array([13., 17., 19., 20., 21., 22., 23., 24., 25., 26., 27., 28., 29.,\n",
       "       30., 31., 32., 33., 34., 35., 36., 37., 38., 39., 40., 41., 42.,\n",
       "       43., 44., 45., 46., 47., 48., 49., 50., 51., 52., 53., 54., 55.,\n",
       "       56., 57., 58., 59., 60., 61., 62., 63., 64., 65., 66., 67., 68.,\n",
       "       69., 70., 71., 72., 73., 74., 75., 76., 77., 78., 79., 80., 81.,\n",
       "       82., 83., 84., 85., 86., 87., 88., 89., 90., 91., 92., 93., 94.,\n",
       "       95., 96., 97., 98., nan])"
      ]
     },
     "execution_count": 8,
     "metadata": {},
     "output_type": "execute_result"
    }
   ],
   "source": [
    "data['critic_score'].sort_values().unique()"
   ]
  },
  {
   "cell_type": "code",
   "execution_count": 9,
   "metadata": {},
   "outputs": [
    {
     "name": "stdout",
     "output_type": "stream",
     "text": [
      "<class 'pandas.core.frame.DataFrame'>\n",
      "RangeIndex: 16715 entries, 0 to 16714\n",
      "Data columns (total 11 columns):\n",
      " #   Column           Non-Null Count  Dtype  \n",
      "---  ------           --------------  -----  \n",
      " 0   name             16713 non-null  object \n",
      " 1   platform         16715 non-null  object \n",
      " 2   year_of_release  16446 non-null  float64\n",
      " 3   genre            16713 non-null  object \n",
      " 4   na_sales         16715 non-null  float64\n",
      " 5   eu_sales         16715 non-null  float64\n",
      " 6   jp_sales         16715 non-null  float64\n",
      " 7   other_sales      16715 non-null  float64\n",
      " 8   critic_score     8137 non-null   float64\n",
      " 9   user_score       10014 non-null  object \n",
      " 10  rating           9949 non-null   object \n",
      "dtypes: float64(6), object(5)\n",
      "memory usage: 1.4+ MB\n"
     ]
    }
   ],
   "source": [
    "data.info()"
   ]
  },
  {
   "attachments": {},
   "cell_type": "markdown",
   "metadata": {},
   "source": [
    "**Replacement of nan**"
   ]
  },
  {
   "attachments": {},
   "cell_type": "markdown",
   "metadata": {},
   "source": [
    "Count the number of gaps in the dataframe."
   ]
  },
  {
   "cell_type": "code",
   "execution_count": 10,
   "metadata": {},
   "outputs": [
    {
     "data": {
      "text/plain": [
       "name                  2\n",
       "platform              0\n",
       "year_of_release     269\n",
       "genre                 2\n",
       "na_sales              0\n",
       "eu_sales              0\n",
       "jp_sales              0\n",
       "other_sales           0\n",
       "critic_score       8578\n",
       "user_score         6701\n",
       "rating             6766\n",
       "dtype: int64"
      ]
     },
     "execution_count": 10,
     "metadata": {},
     "output_type": "execute_result"
    }
   ],
   "source": [
    "data.isna().sum()"
   ]
  },
  {
   "attachments": {},
   "cell_type": "markdown",
   "metadata": {},
   "source": [
    "Gaps in the year of release, as well as in ratings and ratings, cannot be filled. Therefore, it is better to just leave these gaps. Lines with gaps in the `name` and `genre` columns will have to be removed."
   ]
  },
  {
   "cell_type": "code",
   "execution_count": 11,
   "metadata": {},
   "outputs": [
    {
     "data": {
      "text/html": [
       "<div>\n",
       "<style scoped>\n",
       "    .dataframe tbody tr th:only-of-type {\n",
       "        vertical-align: middle;\n",
       "    }\n",
       "\n",
       "    .dataframe tbody tr th {\n",
       "        vertical-align: top;\n",
       "    }\n",
       "\n",
       "    .dataframe thead th {\n",
       "        text-align: right;\n",
       "    }\n",
       "</style>\n",
       "<table border=\"1\" class=\"dataframe\">\n",
       "  <thead>\n",
       "    <tr style=\"text-align: right;\">\n",
       "      <th></th>\n",
       "      <th>name</th>\n",
       "      <th>platform</th>\n",
       "      <th>year_of_release</th>\n",
       "      <th>genre</th>\n",
       "      <th>na_sales</th>\n",
       "      <th>eu_sales</th>\n",
       "      <th>jp_sales</th>\n",
       "      <th>other_sales</th>\n",
       "      <th>critic_score</th>\n",
       "      <th>user_score</th>\n",
       "      <th>rating</th>\n",
       "    </tr>\n",
       "  </thead>\n",
       "  <tbody>\n",
       "    <tr>\n",
       "      <th>659</th>\n",
       "      <td>NaN</td>\n",
       "      <td>GEN</td>\n",
       "      <td>1993.0</td>\n",
       "      <td>NaN</td>\n",
       "      <td>1.78</td>\n",
       "      <td>0.53</td>\n",
       "      <td>0.00</td>\n",
       "      <td>0.08</td>\n",
       "      <td>NaN</td>\n",
       "      <td>NaN</td>\n",
       "      <td>NaN</td>\n",
       "    </tr>\n",
       "    <tr>\n",
       "      <th>14244</th>\n",
       "      <td>NaN</td>\n",
       "      <td>GEN</td>\n",
       "      <td>1993.0</td>\n",
       "      <td>NaN</td>\n",
       "      <td>0.00</td>\n",
       "      <td>0.00</td>\n",
       "      <td>0.03</td>\n",
       "      <td>0.00</td>\n",
       "      <td>NaN</td>\n",
       "      <td>NaN</td>\n",
       "      <td>NaN</td>\n",
       "    </tr>\n",
       "  </tbody>\n",
       "</table>\n",
       "</div>"
      ],
      "text/plain": [
       "      name platform  year_of_release genre  na_sales  eu_sales  jp_sales  \\\n",
       "659    NaN      GEN           1993.0   NaN      1.78      0.53      0.00   \n",
       "14244  NaN      GEN           1993.0   NaN      0.00      0.00      0.03   \n",
       "\n",
       "       other_sales  critic_score user_score rating  \n",
       "659           0.08           NaN        NaN    NaN  \n",
       "14244         0.00           NaN        NaN    NaN  "
      ]
     },
     "execution_count": 11,
     "metadata": {},
     "output_type": "execute_result"
    }
   ],
   "source": [
    "data[data['name'].isna()] #Проверяем строки с пропуском в name"
   ]
  },
  {
   "attachments": {},
   "cell_type": "markdown",
   "metadata": {},
   "source": [
    "The gaps in `name` and `genre` matched. Delete them."
   ]
  },
  {
   "cell_type": "code",
   "execution_count": 12,
   "metadata": {},
   "outputs": [],
   "source": [
    "data = data.dropna(subset = ['name']) #Удаляем строки с пропуском"
   ]
  },
  {
   "cell_type": "code",
   "execution_count": 13,
   "metadata": {},
   "outputs": [
    {
     "data": {
      "text/plain": [
       "name                  0\n",
       "platform              0\n",
       "year_of_release     269\n",
       "genre                 0\n",
       "na_sales              0\n",
       "eu_sales              0\n",
       "jp_sales              0\n",
       "other_sales           0\n",
       "critic_score       8576\n",
       "user_score         6699\n",
       "rating             6764\n",
       "dtype: int64"
      ]
     },
     "execution_count": 13,
     "metadata": {},
     "output_type": "execute_result"
    }
   ],
   "source": [
    "data.isna().sum() #Проверка оставшихся пропусков"
   ]
  },
  {
   "cell_type": "code",
   "execution_count": 14,
   "metadata": {},
   "outputs": [
    {
     "data": {
      "text/plain": [
       "array(['0', '0.2', '0.3', '0.5', '0.6', '0.7', '0.9', '1', '1.1', '1.2',\n",
       "       '1.3', '1.4', '1.5', '1.6', '1.7', '1.8', '1.9', '2', '2.1', '2.2',\n",
       "       '2.3', '2.4', '2.5', '2.6', '2.7', '2.8', '2.9', '3', '3.1', '3.2',\n",
       "       '3.3', '3.4', '3.5', '3.6', '3.7', '3.8', '3.9', '4', '4.1', '4.2',\n",
       "       '4.3', '4.4', '4.5', '4.6', '4.7', '4.8', '4.9', '5', '5.1', '5.2',\n",
       "       '5.3', '5.4', '5.5', '5.6', '5.7', '5.8', '5.9', '6', '6.1', '6.2',\n",
       "       '6.3', '6.4', '6.5', '6.6', '6.7', '6.8', '6.9', '7', '7.1', '7.2',\n",
       "       '7.3', '7.4', '7.5', '7.6', '7.7', '7.8', '7.9', '8', '8.1', '8.2',\n",
       "       '8.3', '8.4', '8.5', '8.6', '8.7', '8.8', '8.9', '9', '9.1', '9.2',\n",
       "       '9.3', '9.4', '9.5', '9.6', '9.7', 'tbd', nan], dtype=object)"
      ]
     },
     "execution_count": 14,
     "metadata": {},
     "output_type": "execute_result"
    }
   ],
   "source": [
    "data['user_score'].sort_values().unique()"
   ]
  },
  {
   "attachments": {},
   "cell_type": "markdown",
   "metadata": {},
   "source": [
    "Value tbd - stands for as it will be determined, replace this value with a gap."
   ]
  },
  {
   "cell_type": "code",
   "execution_count": 15,
   "metadata": {},
   "outputs": [
    {
     "data": {
      "text/plain": [
       "2424"
      ]
     },
     "execution_count": 15,
     "metadata": {},
     "output_type": "execute_result"
    }
   ],
   "source": [
    "data[data['user_score'] == 'tbd']['user_score'].count()"
   ]
  },
  {
   "cell_type": "code",
   "execution_count": 16,
   "metadata": {},
   "outputs": [
    {
     "data": {
      "text/plain": [
       "name                  0\n",
       "platform              0\n",
       "year_of_release     269\n",
       "genre                 0\n",
       "na_sales              0\n",
       "eu_sales              0\n",
       "jp_sales              0\n",
       "other_sales           0\n",
       "critic_score       8576\n",
       "user_score         9123\n",
       "rating             6764\n",
       "dtype: int64"
      ]
     },
     "execution_count": 16,
     "metadata": {},
     "output_type": "execute_result"
    }
   ],
   "source": [
    "data.loc[data['user_score'] == 'tbd', 'user_score'] = np.nan\n",
    "data.isna().sum()"
   ]
  },
  {
   "cell_type": "code",
   "execution_count": 17,
   "metadata": {},
   "outputs": [],
   "source": [
    "data['user_score'] = data['user_score'].astype('float')"
   ]
  },
  {
   "attachments": {},
   "cell_type": "markdown",
   "metadata": {},
   "source": [
    "**Search for duplicates**"
   ]
  },
  {
   "attachments": {},
   "cell_type": "markdown",
   "metadata": {},
   "source": [
    "There can be explicit and implicit duplicates in a dataframe. First, check for explicit ones."
   ]
  },
  {
   "cell_type": "code",
   "execution_count": 18,
   "metadata": {},
   "outputs": [
    {
     "data": {
      "text/plain": [
       "0"
      ]
     },
     "execution_count": 18,
     "metadata": {},
     "output_type": "execute_result"
    }
   ],
   "source": [
    "data.duplicated().sum()"
   ]
  },
  {
   "attachments": {},
   "cell_type": "markdown",
   "metadata": {},
   "source": [
    "No obvious duplicates were found. Implicit duplicates may appear in the `platform` and `rating` columns."
   ]
  },
  {
   "cell_type": "code",
   "execution_count": 19,
   "metadata": {},
   "outputs": [
    {
     "data": {
      "text/plain": [
       "PS2     2161\n",
       "DS      2151\n",
       "PS3     1331\n",
       "Wii     1320\n",
       "X360    1262\n",
       "PSP     1209\n",
       "PS      1197\n",
       "PC       974\n",
       "XB       824\n",
       "GBA      822\n",
       "GC       556\n",
       "3DS      520\n",
       "PSV      430\n",
       "PS4      392\n",
       "N64      319\n",
       "XOne     247\n",
       "SNES     239\n",
       "SAT      173\n",
       "WiiU     147\n",
       "2600     133\n",
       "GB        98\n",
       "NES       98\n",
       "DC        52\n",
       "GEN       27\n",
       "NG        12\n",
       "WS         6\n",
       "SCD        6\n",
       "3DO        3\n",
       "TG16       2\n",
       "PCFX       1\n",
       "GG         1\n",
       "Name: platform, dtype: int64"
      ]
     },
     "execution_count": 19,
     "metadata": {},
     "output_type": "execute_result"
    }
   ],
   "source": [
    "data['platform'].value_counts()"
   ]
  },
  {
   "attachments": {},
   "cell_type": "markdown",
   "metadata": {},
   "source": [
    "There are no duplicates in the platform name column. Check the rating."
   ]
  },
  {
   "cell_type": "code",
   "execution_count": 20,
   "metadata": {},
   "outputs": [
    {
     "data": {
      "text/plain": [
       "E       3990\n",
       "T       2961\n",
       "M       1563\n",
       "E10+    1420\n",
       "EC         8\n",
       "K-A        3\n",
       "RP         3\n",
       "AO         1\n",
       "Name: rating, dtype: int64"
      ]
     },
     "execution_count": 20,
     "metadata": {},
     "output_type": "execute_result"
    }
   ],
   "source": [
    "data['rating'].value_counts()"
   ]
  },
  {
   "attachments": {},
   "cell_type": "markdown",
   "metadata": {},
   "source": [
    "According to the definition of K-A it's the obsolete name of E."
   ]
  },
  {
   "cell_type": "code",
   "execution_count": 21,
   "metadata": {},
   "outputs": [
    {
     "data": {
      "text/plain": [
       "E       3993\n",
       "T       2961\n",
       "M       1563\n",
       "E10+    1420\n",
       "EC         8\n",
       "RP         3\n",
       "AO         1\n",
       "Name: rating, dtype: int64"
      ]
     },
     "execution_count": 21,
     "metadata": {},
     "output_type": "execute_result"
    }
   ],
   "source": [
    "data['rating'] = data['rating'].replace('K-A','E')\n",
    "data['rating'].value_counts()"
   ]
  },
  {
   "attachments": {},
   "cell_type": "markdown",
   "metadata": {},
   "source": [
    "Replace gaps in this column with `undefined`"
   ]
  },
  {
   "cell_type": "code",
   "execution_count": 22,
   "metadata": {},
   "outputs": [
    {
     "data": {
      "text/plain": [
       "undefined    6764\n",
       "E            3993\n",
       "T            2961\n",
       "M            1563\n",
       "E10+         1420\n",
       "EC              8\n",
       "RP              3\n",
       "AO              1\n",
       "Name: rating, dtype: int64"
      ]
     },
     "execution_count": 22,
     "metadata": {},
     "output_type": "execute_result"
    }
   ],
   "source": [
    "data['rating'] = data['rating'].fillna('undefined')\n",
    "data['rating'].value_counts()"
   ]
  },
  {
   "attachments": {},
   "cell_type": "markdown",
   "metadata": {},
   "source": [
    "**Check for anomalies**"
   ]
  },
  {
   "attachments": {},
   "cell_type": "markdown",
   "metadata": {},
   "source": [
    "Abnormal values may be in columns with sales by region. Build histograms for these 4 columns and look at the distribution."
   ]
  },
  {
   "cell_type": "code",
   "execution_count": 23,
   "metadata": {},
   "outputs": [
    {
     "data": {
      "image/png": "[encoded data removed]",
      "text/plain": [
       "<Figure size 1152x864 with 4 Axes>"
      ]
     },
     "metadata": {
      "needs_background": "light"
     },
     "output_type": "display_data"
    }
   ],
   "source": [
    "fig, ax = plt.subplots(nrows = 2, ncols =2 )\n",
    "\n",
    "ax[0,0].hist(data['na_sales'], bins = 50)\n",
    "ax[1,0].hist(data['eu_sales'], bins = 50)\n",
    "ax[0,1].hist(data['jp_sales'], bins = 50)\n",
    "ax[1,1].hist(data['other_sales'], bins = 50)\n",
    "\n",
    "ax[0,0].set_title('Проданных млн копий в Северной Америке')\n",
    "ax[1,0].set_title('Проданных млн копий в Европе')\n",
    "ax[0,1].set_title('Проданных млн копий в Японии')\n",
    "ax[1,1].set_title('Проданных млн копий в других странах')\n",
    "\n",
    "ax[0,0].grid(linestyle = '--')\n",
    "ax[1,0].grid(linestyle = '--')\n",
    "ax[0,1].grid(linestyle = '--')\n",
    "ax[1,1].grid(linestyle = '--')\n",
    "\n",
    "fig.set_figwidth(16)\n",
    "fig.set_figheight(12)\n",
    "\n",
    "plt.show()"
   ]
  },
  {
   "attachments": {},
   "cell_type": "markdown",
   "metadata": {},
   "source": [
    "The distributions look about the same: a strongly prominent peak at 0 and a long tail. Since the data is given in millions of copies, the games sold less than a thousand copies turned into 0 when rounded off. The graphs show that there are an absolute majority of such games. And the small number of successful and super-successful games that have sold tens of millions of copies create a tail. For the convenience of sales analysis, it is better to combine these 4 columns."
   ]
  },
  {
   "attachments": {},
   "cell_type": "markdown",
   "metadata": {},
   "source": [
    "### Calculation and adding a new column"
   ]
  },
  {
   "attachments": {},
   "cell_type": "markdown",
   "metadata": {},
   "source": [
    "Add a column with the sum of sales for all regions."
   ]
  },
  {
   "cell_type": "code",
   "execution_count": 1,
   "metadata": {},
   "outputs": [
    {
     "ename": "NameError",
     "evalue": "name 'data' is not defined",
     "output_type": "error",
     "traceback": [
      "\u001b[1;31m---------------------------------------------------------------------------\u001b[0m",
      "\u001b[1;31mNameError\u001b[0m                                 Traceback (most recent call last)",
      "\u001b[1;32m~\\AppData\\Local\\Temp\\ipykernel_25824\\284014021.py\u001b[0m in \u001b[0;36m<module>\u001b[1;34m\u001b[0m\n\u001b[1;32m----> 1\u001b[1;33m \u001b[0mdata\u001b[0m\u001b[1;33m[\u001b[0m\u001b[1;33m[\u001b[0m\u001b[1;34m'na_sales'\u001b[0m\u001b[1;33m,\u001b[0m\u001b[1;34m'eu_sales'\u001b[0m\u001b[1;33m,\u001b[0m\u001b[1;34m'jp_sales'\u001b[0m\u001b[1;33m,\u001b[0m \u001b[1;34m'other_sales'\u001b[0m\u001b[1;33m]\u001b[0m\u001b[1;33m]\u001b[0m\u001b[1;33m.\u001b[0m\u001b[0msum\u001b[0m\u001b[1;33m(\u001b[0m\u001b[0maxis\u001b[0m \u001b[1;33m=\u001b[0m \u001b[1;36m1\u001b[0m\u001b[1;33m)\u001b[0m\u001b[1;33m\u001b[0m\u001b[1;33m\u001b[0m\u001b[0m\n\u001b[0m\u001b[0;32m      2\u001b[0m \u001b[0mdata\u001b[0m\u001b[1;33m.\u001b[0m\u001b[0mhead\u001b[0m\u001b[1;33m(\u001b[0m\u001b[1;33m)\u001b[0m\u001b[1;33m\u001b[0m\u001b[1;33m\u001b[0m\u001b[0m\n",
      "\u001b[1;31mNameError\u001b[0m: name 'data' is not defined"
     ]
    }
   ],
   "source": [
    "data[['na_sales','eu_sales','jp_sales', 'other_sales']].sum(axis = 1)\n",
    "data.head()"
   ]
  },
  {
   "attachments": {},
   "cell_type": "markdown",
   "metadata": {},
   "source": [
    "## Data analysis"
   ]
  },
  {
   "attachments": {},
   "cell_type": "markdown",
   "metadata": {},
   "source": [
    "Analyze sales of games depending on the platform and genre and find out how the ratings of critics and users affect the sales of the game depending on the platform. The analysis must be carried out on the current time period."
   ]
  },
  {
   "attachments": {},
   "cell_type": "markdown",
   "metadata": {},
   "source": [
    "### Current period search"
   ]
  },
  {
   "attachments": {},
   "cell_type": "markdown",
   "metadata": {},
   "source": [
    "Since platforms have a limited lifetime, there is a period of time of data affects the forecast. To determine this period, consider how sales on different platforms have changed over time. First, consider a histogram of the distribution of game release years in a dataframe."
   ]
  },
  {
   "cell_type": "code",
   "execution_count": 25,
   "metadata": {},
   "outputs": [
    {
     "data": {
      "text/plain": [
       "<AxesSubplot:>"
      ]
     },
     "execution_count": 25,
     "metadata": {},
     "output_type": "execute_result"
    },
    {
     "data": {
      "image/png": "[encoded data removed]",
      "text/plain": [
       "<Figure size 432x288 with 1 Axes>"
      ]
     },
     "metadata": {
      "needs_background": "light"
     },
     "output_type": "display_data"
    }
   ],
   "source": [
    "data['year_of_release'].hist(bins=30)"
   ]
  },
  {
   "attachments": {},
   "cell_type": "markdown",
   "metadata": {},
   "source": [
    "The largest number of games in the data provided falls on 2005-2015. It can be seen that since 1990 the gaming industry has been actively developing. Consider the distribution of sales by platform."
   ]
  },
  {
   "cell_type": "code",
   "execution_count": 26,
   "metadata": {},
   "outputs": [
    {
     "data": {
      "text/plain": [
       "platform\n",
       "PS2     1255.77\n",
       "X360     971.42\n",
       "PS3      939.65\n",
       "Wii      907.51\n",
       "DS       806.12\n",
       "PS       730.86\n",
       "GBA      317.85\n",
       "PS4      314.14\n",
       "PSP      294.05\n",
       "PC       259.52\n",
       "3DS      259.00\n",
       "XB       257.74\n",
       "GB       255.46\n",
       "NES      251.05\n",
       "N64      218.68\n",
       "SNES     200.04\n",
       "GC       198.93\n",
       "XOne     159.32\n",
       "2600      96.98\n",
       "WiiU      82.19\n",
       "PSV       54.07\n",
       "SAT       33.59\n",
       "GEN       28.35\n",
       "DC        15.95\n",
       "SCD        1.86\n",
       "NG         1.44\n",
       "WS         1.42\n",
       "TG16       0.16\n",
       "3DO        0.10\n",
       "GG         0.04\n",
       "PCFX       0.03\n",
       "Name: sales, dtype: float64"
      ]
     },
     "execution_count": 26,
     "metadata": {},
     "output_type": "execute_result"
    }
   ],
   "source": [
    "data.groupby('platform')['sales'].sum().sort_values(ascending=False)"
   ]
  },
  {
   "attachments": {},
   "cell_type": "markdown",
   "metadata": {},
   "source": [
    "The largest number of sold copies of games on the PS2 platform. The top also includes X-box, PlayStation 3, Wii and Nintendo. These data are summarized for all years. Using the example of the PlayStation, consider the lifespan of each generation of consoles."
   ]
  },
  {
   "cell_type": "code",
   "execution_count": 27,
   "metadata": {},
   "outputs": [],
   "source": [
    "data_ps = data.query('platform == \"PS4\" or platform == \"PS3\" or platform == \"PS2\" or platform == \"PS\"') #Срез только по PlayStation"
   ]
  },
  {
   "cell_type": "code",
   "execution_count": 28,
   "metadata": {},
   "outputs": [
    {
     "data": {
      "image/png": "[encoded data removed]",
      "text/plain": [
       "<Figure size 1080x576 with 1 Axes>"
      ]
     },
     "metadata": {
      "needs_background": "light"
     },
     "output_type": "display_data"
    }
   ],
   "source": [
    "g = sns.catplot(\n",
    "    data=data_ps, kind=\"bar\",\n",
    "    x=\"year_of_release\", y=\"sales\", hue=\"platform\",\n",
    "    ci=None,  palette=\"husl\"\n",
    ")\n",
    "\n",
    "g.set_axis_labels(\"Год\", \"Млн проданных копий\")\n",
    "g.legend.set_title(\"\")\n",
    "g.fig.set_size_inches(15,8)"
   ]
  },
  {
   "attachments": {},
   "cell_type": "markdown",
   "metadata": {},
   "source": [
    "One generation of consoles lives approximately 10 years. At the same time, games are released actively in the first 5 years, and then a decline begins. Check the distribution over the years, how sales changed by platforms with the largest total sales."
   ]
  },
  {
   "cell_type": "code",
   "execution_count": 29,
   "metadata": {},
   "outputs": [],
   "source": [
    "data_platforms = data.query('platform == \"PS4\" or platform == \"PS3\" or platform == \"X360\" or platform == \"XOne\" or platform ==\"PC\" or platform ==\"3DS\"')"
   ]
  },
  {
   "cell_type": "code",
   "execution_count": 30,
   "metadata": {},
   "outputs": [
    {
     "data": {
      "image/png": "[encoded data removed]",
      "text/plain": [
       "<Figure size 1224x576 with 1 Axes>"
      ]
     },
     "metadata": {
      "needs_background": "light"
     },
     "output_type": "display_data"
    }
   ],
   "source": [
    "g = sns.catplot(\n",
    "    data=data_platforms, kind=\"bar\",\n",
    "    x=\"year_of_release\", y=\"sales\", hue=\"platform\",\n",
    "    ci=None,  palette=\"husl\"\n",
    ")\n",
    "\n",
    "g.set_axis_labels(\"Год\", \"Млн проданных копий\")\n",
    "g.legend.set_title(\"\")\n",
    "g.fig.set_size_inches(17,8)"
   ]
  },
  {
   "attachments": {},
   "cell_type": "markdown",
   "metadata": {},
   "source": [
    "In about 7-10 years, platforms appear and disappear, with the exception of the PC. It can be concluded that the actual period is approximately 5 years."
   ]
  },
  {
   "cell_type": "code",
   "execution_count": 31,
   "metadata": {},
   "outputs": [],
   "source": [
    "data_actual = data[data['year_of_release'] > 2011]"
   ]
  },
  {
   "attachments": {},
   "cell_type": "markdown",
   "metadata": {},
   "source": [
    "### Platform Comparison"
   ]
  },
  {
   "attachments": {},
   "cell_type": "markdown",
   "metadata": {},
   "source": [
    "Determine the actual platforms for a current period. Check on which platforms sales are growing and on which they are falling. Consider global sales by platform for the current period."
   ]
  },
  {
   "cell_type": "code",
   "execution_count": 33,
   "metadata": {},
   "outputs": [
    {
     "data": {
      "image/png": "[encoded data removed]",
      "text/plain": [
       "<Figure size 864x1440 with 1 Axes>"
      ]
     },
     "metadata": {
      "needs_background": "light"
     },
     "output_type": "display_data"
    }
   ],
   "source": [
    "g = sns.catplot(y='platform', x= 'sales', kind=\"box\", data= data_actual, orient='h', palette = 'pastel', )\n",
    "g.set(xlim=(0, 0.9))\n",
    "g.fig.set_figwidth(12)\n",
    "g.fig.set_figheight(20)"
   ]
  },
  {
   "attachments": {},
   "cell_type": "markdown",
   "metadata": {},
   "source": [
    "The boxplots show that the majority of games do not step over 1 million copies sold. At the same time, a large number of \"emissions\" are visible - games sold in huge numbers. PS3, PS4, Xone, X360 and Wii stand out. For popular platforms such as: XOne, X360, PS4, PS3 and Wii, the median lies around 250,000 copies sold. About 25% of games on these platforms sell less than 50,000 copies and 25% sell more than 700,000 copies. Check the dynamics of sales by platform."
   ]
  },
  {
   "cell_type": "code",
   "execution_count": 34,
   "metadata": {},
   "outputs": [
    {
     "data": {
      "image/png": "[encoded data removed]",
      "text/plain": [
       "<Figure size 1008x576 with 1 Axes>"
      ]
     },
     "metadata": {
      "needs_background": "light"
     },
     "output_type": "display_data"
    }
   ],
   "source": [
    "(data_actual\n",
    " .pivot_table(index='platform', columns='year_of_release', values='sales', aggfunc='count')\n",
    " .T\n",
    " .plot(kind='line', figsize=(14,8),  style = 'o-')\n",
    ")\n",
    "plt.title('Продажи за актуальный период')\n",
    "plt.xlabel('Год')\n",
    "plt.ylabel('Кол-во');"
   ]
  },
  {
   "attachments": {},
   "cell_type": "markdown",
   "metadata": {},
   "source": [
    "The graph shows that the sales of games on the console of the previous generation (PS3, Wii, X360, DS) are decreasing, while sales on PS4, XOne are going up. More ambiguous situation with 3DS and PC. In October 2016, the Nintendo Switch was announced, which may explain the drop in sales for the 3DS. On PC sales are stable, there is a slight increase. As relevant platforms, we define: PS4, PC and XOne."
   ]
  },
  {
   "cell_type": "code",
   "execution_count": 35,
   "metadata": {},
   "outputs": [],
   "source": [
    "data_actual_platform = data_actual.query('platform == \"PS4\" or platform == \"PC\" or platform == \"XOne\"')"
   ]
  },
  {
   "attachments": {},
   "cell_type": "markdown",
   "metadata": {},
   "source": [
    "Let's consider how user and critic reviews affect sales among current platforms. We construct scatterplots and find the correlation coefficient."
   ]
  },
  {
   "cell_type": "code",
   "execution_count": 36,
   "metadata": {},
   "outputs": [
    {
     "data": {
      "image/png": "[encoded data removed]",
      "text/plain": [
       "<Figure size 1080x360 with 3 Axes>"
      ]
     },
     "metadata": {},
     "output_type": "display_data"
    }
   ],
   "source": [
    "sns.set_theme(style=\"whitegrid\")\n",
    "sns.relplot(\n",
    "    data=data_actual_platform, x=\"critic_score\", y=\"sales\",  #Зависимость продаж от оценки критиков\n",
    "    col='platform',\n",
    "    kind=\"scatter\"\n",
    ")\n",
    "None"
   ]
  },
  {
   "attachments": {},
   "cell_type": "markdown",
   "metadata": {},
   "source": [
    "The scatterplots show that there is a dependence on the score of critics for the XOne and PS4 consoles. A higher score means better sales. For PC, the dependence is very weak."
   ]
  },
  {
   "cell_type": "code",
   "execution_count": 37,
   "metadata": {},
   "outputs": [
    {
     "data": {
      "image/png": "[encoded data removed]",
      "text/plain": [
       "<Figure size 1080x360 with 3 Axes>"
      ]
     },
     "metadata": {},
     "output_type": "display_data"
    }
   ],
   "source": [
    "sns.relplot(\n",
    "    data=data_actual_platform, x=\"user_score\", y=\"sales\", #Зависимость продаж от оценки пользователей\n",
    "    col='platform',\n",
    "    kind=\"scatter\"\n",
    ")\n",
    "None"
   ]
  },
  {
   "attachments": {},
   "cell_type": "markdown",
   "metadata": {},
   "source": [
    "The dependence on user ratings in the charts is not noticeable for any platform. Let's calculate the correlation coefficient."
   ]
  },
  {
   "cell_type": "code",
   "execution_count": 38,
   "metadata": {},
   "outputs": [
    {
     "name": "stdout",
     "output_type": "stream",
     "text": [
      "Корреляция с оценкой критиков\n",
      "PS4 0.40656790206178095\n",
      "PC 0.23724324311567915\n",
      "XOne 0.4169983280084017\n"
     ]
    }
   ],
   "source": [
    "platforms = ['PS4', 'PC', 'XOne']\n",
    "print('Корреляция с оценкой критиков')\n",
    "for platform in platforms:\n",
    "    print(platform, data_actual_platform[data_actual_platform['platform'] == platform]['critic_score'].corr(data_actual_platform['sales']))\n",
    "    "
   ]
  },
  {
   "attachments": {},
   "cell_type": "markdown",
   "metadata": {},
   "source": [
    "A coefficient of 0.4 indicates a weak dependence. For PC, the coefficient is less than for consoles."
   ]
  },
  {
   "cell_type": "code",
   "execution_count": 39,
   "metadata": {},
   "outputs": [
    {
     "name": "stdout",
     "output_type": "stream",
     "text": [
      "Корреляция с оценкой пользователей\n",
      "PS4 -0.031957110204556376\n",
      "PC -0.12186747630735577\n",
      "XOne -0.06892505328279414\n"
     ]
    }
   ],
   "source": [
    "print('Корреляция с оценкой пользователей')\n",
    "for platform in platforms:\n",
    "    print(platform, data_actual_platform[data_actual_platform['platform'] == platform]['user_score'].corr(data_actual_platform['sales']))"
   ]
  },
  {
   "attachments": {},
   "cell_type": "markdown",
   "metadata": {},
   "source": [
    "There is no dependence of sales on user ratings. Let's compare the data obtained for potentially profitable platforms with data for all other platforms. To do this, we will create a column in which we categorize the platforms into one of the potentially profitable ones (PC, XOne and PS4) and the rest."
   ]
  },
  {
   "cell_type": "code",
   "execution_count": 40,
   "metadata": {},
   "outputs": [
    {
     "name": "stderr",
     "output_type": "stream",
     "text": [
      "/tmp/ipykernel_104/3819124871.py:1: SettingWithCopyWarning: \n",
      "A value is trying to be set on a copy of a slice from a DataFrame.\n",
      "Try using .loc[row_indexer,col_indexer] = value instead\n",
      "\n",
      "See the caveats in the documentation: https://pandas.pydata.org/pandas-docs/stable/user_guide/indexing.html#returning-a-view-versus-a-copy\n",
      "  data_actual['group_platform'] = data_actual['platform'].where(data_actual['platform'].isin(data_actual_platform['platform']), 'Other')\n"
     ]
    },
    {
     "data": {
      "text/html": [
       "<div>\n",
       "<style scoped>\n",
       "    .dataframe tbody tr th:only-of-type {\n",
       "        vertical-align: middle;\n",
       "    }\n",
       "\n",
       "    .dataframe tbody tr th {\n",
       "        vertical-align: top;\n",
       "    }\n",
       "\n",
       "    .dataframe thead th {\n",
       "        text-align: right;\n",
       "    }\n",
       "</style>\n",
       "<table border=\"1\" class=\"dataframe\">\n",
       "  <thead>\n",
       "    <tr style=\"text-align: right;\">\n",
       "      <th></th>\n",
       "      <th>name</th>\n",
       "      <th>platform</th>\n",
       "      <th>year_of_release</th>\n",
       "      <th>genre</th>\n",
       "      <th>na_sales</th>\n",
       "      <th>eu_sales</th>\n",
       "      <th>jp_sales</th>\n",
       "      <th>other_sales</th>\n",
       "      <th>critic_score</th>\n",
       "      <th>user_score</th>\n",
       "      <th>rating</th>\n",
       "      <th>sales</th>\n",
       "      <th>group_platform</th>\n",
       "    </tr>\n",
       "  </thead>\n",
       "  <tbody>\n",
       "    <tr>\n",
       "      <th>16</th>\n",
       "      <td>Grand Theft Auto V</td>\n",
       "      <td>PS3</td>\n",
       "      <td>2013.0</td>\n",
       "      <td>Action</td>\n",
       "      <td>7.02</td>\n",
       "      <td>9.09</td>\n",
       "      <td>0.98</td>\n",
       "      <td>3.96</td>\n",
       "      <td>97.0</td>\n",
       "      <td>8.2</td>\n",
       "      <td>M</td>\n",
       "      <td>21.05</td>\n",
       "      <td>Other</td>\n",
       "    </tr>\n",
       "    <tr>\n",
       "      <th>23</th>\n",
       "      <td>Grand Theft Auto V</td>\n",
       "      <td>X360</td>\n",
       "      <td>2013.0</td>\n",
       "      <td>Action</td>\n",
       "      <td>9.66</td>\n",
       "      <td>5.14</td>\n",
       "      <td>0.06</td>\n",
       "      <td>1.41</td>\n",
       "      <td>97.0</td>\n",
       "      <td>8.1</td>\n",
       "      <td>M</td>\n",
       "      <td>16.27</td>\n",
       "      <td>Other</td>\n",
       "    </tr>\n",
       "    <tr>\n",
       "      <th>31</th>\n",
       "      <td>Call of Duty: Black Ops 3</td>\n",
       "      <td>PS4</td>\n",
       "      <td>2015.0</td>\n",
       "      <td>Shooter</td>\n",
       "      <td>6.03</td>\n",
       "      <td>5.86</td>\n",
       "      <td>0.36</td>\n",
       "      <td>2.38</td>\n",
       "      <td>NaN</td>\n",
       "      <td>NaN</td>\n",
       "      <td>undefined</td>\n",
       "      <td>14.63</td>\n",
       "      <td>PS4</td>\n",
       "    </tr>\n",
       "    <tr>\n",
       "      <th>33</th>\n",
       "      <td>Pokemon X/Pokemon Y</td>\n",
       "      <td>3DS</td>\n",
       "      <td>2013.0</td>\n",
       "      <td>Role-Playing</td>\n",
       "      <td>5.28</td>\n",
       "      <td>4.19</td>\n",
       "      <td>4.35</td>\n",
       "      <td>0.78</td>\n",
       "      <td>NaN</td>\n",
       "      <td>NaN</td>\n",
       "      <td>undefined</td>\n",
       "      <td>14.60</td>\n",
       "      <td>Other</td>\n",
       "    </tr>\n",
       "    <tr>\n",
       "      <th>34</th>\n",
       "      <td>Call of Duty: Black Ops II</td>\n",
       "      <td>PS3</td>\n",
       "      <td>2012.0</td>\n",
       "      <td>Shooter</td>\n",
       "      <td>4.99</td>\n",
       "      <td>5.73</td>\n",
       "      <td>0.65</td>\n",
       "      <td>2.42</td>\n",
       "      <td>83.0</td>\n",
       "      <td>5.3</td>\n",
       "      <td>M</td>\n",
       "      <td>13.79</td>\n",
       "      <td>Other</td>\n",
       "    </tr>\n",
       "    <tr>\n",
       "      <th>35</th>\n",
       "      <td>Call of Duty: Black Ops II</td>\n",
       "      <td>X360</td>\n",
       "      <td>2012.0</td>\n",
       "      <td>Shooter</td>\n",
       "      <td>8.25</td>\n",
       "      <td>4.24</td>\n",
       "      <td>0.07</td>\n",
       "      <td>1.12</td>\n",
       "      <td>83.0</td>\n",
       "      <td>4.8</td>\n",
       "      <td>M</td>\n",
       "      <td>13.68</td>\n",
       "      <td>Other</td>\n",
       "    </tr>\n",
       "    <tr>\n",
       "      <th>42</th>\n",
       "      <td>Grand Theft Auto V</td>\n",
       "      <td>PS4</td>\n",
       "      <td>2014.0</td>\n",
       "      <td>Action</td>\n",
       "      <td>3.96</td>\n",
       "      <td>6.31</td>\n",
       "      <td>0.38</td>\n",
       "      <td>1.97</td>\n",
       "      <td>97.0</td>\n",
       "      <td>8.3</td>\n",
       "      <td>M</td>\n",
       "      <td>12.62</td>\n",
       "      <td>PS4</td>\n",
       "    </tr>\n",
       "    <tr>\n",
       "      <th>47</th>\n",
       "      <td>Pokemon Omega Ruby/Pokemon Alpha Sapphire</td>\n",
       "      <td>3DS</td>\n",
       "      <td>2014.0</td>\n",
       "      <td>Role-Playing</td>\n",
       "      <td>4.35</td>\n",
       "      <td>3.49</td>\n",
       "      <td>3.10</td>\n",
       "      <td>0.74</td>\n",
       "      <td>NaN</td>\n",
       "      <td>NaN</td>\n",
       "      <td>undefined</td>\n",
       "      <td>11.68</td>\n",
       "      <td>Other</td>\n",
       "    </tr>\n",
       "    <tr>\n",
       "      <th>60</th>\n",
       "      <td>Call of Duty: Ghosts</td>\n",
       "      <td>X360</td>\n",
       "      <td>2013.0</td>\n",
       "      <td>Shooter</td>\n",
       "      <td>6.73</td>\n",
       "      <td>2.56</td>\n",
       "      <td>0.04</td>\n",
       "      <td>0.91</td>\n",
       "      <td>73.0</td>\n",
       "      <td>2.6</td>\n",
       "      <td>M</td>\n",
       "      <td>10.24</td>\n",
       "      <td>Other</td>\n",
       "    </tr>\n",
       "    <tr>\n",
       "      <th>62</th>\n",
       "      <td>New Super Mario Bros. 2</td>\n",
       "      <td>3DS</td>\n",
       "      <td>2012.0</td>\n",
       "      <td>Platform</td>\n",
       "      <td>3.66</td>\n",
       "      <td>3.14</td>\n",
       "      <td>2.47</td>\n",
       "      <td>0.63</td>\n",
       "      <td>78.0</td>\n",
       "      <td>7.2</td>\n",
       "      <td>E</td>\n",
       "      <td>9.90</td>\n",
       "      <td>Other</td>\n",
       "    </tr>\n",
       "    <tr>\n",
       "      <th>66</th>\n",
       "      <td>Halo 4</td>\n",
       "      <td>X360</td>\n",
       "      <td>2012.0</td>\n",
       "      <td>Shooter</td>\n",
       "      <td>6.65</td>\n",
       "      <td>2.28</td>\n",
       "      <td>0.04</td>\n",
       "      <td>0.74</td>\n",
       "      <td>87.0</td>\n",
       "      <td>7.0</td>\n",
       "      <td>M</td>\n",
       "      <td>9.71</td>\n",
       "      <td>Other</td>\n",
       "    </tr>\n",
       "    <tr>\n",
       "      <th>69</th>\n",
       "      <td>Call of Duty: Ghosts</td>\n",
       "      <td>PS3</td>\n",
       "      <td>2013.0</td>\n",
       "      <td>Shooter</td>\n",
       "      <td>4.10</td>\n",
       "      <td>3.63</td>\n",
       "      <td>0.38</td>\n",
       "      <td>1.25</td>\n",
       "      <td>71.0</td>\n",
       "      <td>2.6</td>\n",
       "      <td>M</td>\n",
       "      <td>9.36</td>\n",
       "      <td>Other</td>\n",
       "    </tr>\n",
       "    <tr>\n",
       "      <th>72</th>\n",
       "      <td>Minecraft</td>\n",
       "      <td>X360</td>\n",
       "      <td>2013.0</td>\n",
       "      <td>Misc</td>\n",
       "      <td>5.70</td>\n",
       "      <td>2.65</td>\n",
       "      <td>0.02</td>\n",
       "      <td>0.81</td>\n",
       "      <td>NaN</td>\n",
       "      <td>NaN</td>\n",
       "      <td>undefined</td>\n",
       "      <td>9.18</td>\n",
       "      <td>Other</td>\n",
       "    </tr>\n",
       "    <tr>\n",
       "      <th>73</th>\n",
       "      <td>Animal Crossing: New Leaf</td>\n",
       "      <td>3DS</td>\n",
       "      <td>2012.0</td>\n",
       "      <td>Simulation</td>\n",
       "      <td>2.03</td>\n",
       "      <td>2.36</td>\n",
       "      <td>4.39</td>\n",
       "      <td>0.39</td>\n",
       "      <td>88.0</td>\n",
       "      <td>8.7</td>\n",
       "      <td>E</td>\n",
       "      <td>9.17</td>\n",
       "      <td>Other</td>\n",
       "    </tr>\n",
       "    <tr>\n",
       "      <th>77</th>\n",
       "      <td>FIFA 16</td>\n",
       "      <td>PS4</td>\n",
       "      <td>2015.0</td>\n",
       "      <td>Sports</td>\n",
       "      <td>1.12</td>\n",
       "      <td>6.12</td>\n",
       "      <td>0.06</td>\n",
       "      <td>1.28</td>\n",
       "      <td>82.0</td>\n",
       "      <td>4.3</td>\n",
       "      <td>E</td>\n",
       "      <td>8.58</td>\n",
       "      <td>PS4</td>\n",
       "    </tr>\n",
       "  </tbody>\n",
       "</table>\n",
       "</div>"
      ],
      "text/plain": [
       "                                         name platform  year_of_release  \\\n",
       "16                         Grand Theft Auto V      PS3           2013.0   \n",
       "23                         Grand Theft Auto V     X360           2013.0   \n",
       "31                  Call of Duty: Black Ops 3      PS4           2015.0   \n",
       "33                        Pokemon X/Pokemon Y      3DS           2013.0   \n",
       "34                 Call of Duty: Black Ops II      PS3           2012.0   \n",
       "35                 Call of Duty: Black Ops II     X360           2012.0   \n",
       "42                         Grand Theft Auto V      PS4           2014.0   \n",
       "47  Pokemon Omega Ruby/Pokemon Alpha Sapphire      3DS           2014.0   \n",
       "60                       Call of Duty: Ghosts     X360           2013.0   \n",
       "62                    New Super Mario Bros. 2      3DS           2012.0   \n",
       "66                                     Halo 4     X360           2012.0   \n",
       "69                       Call of Duty: Ghosts      PS3           2013.0   \n",
       "72                                  Minecraft     X360           2013.0   \n",
       "73                  Animal Crossing: New Leaf      3DS           2012.0   \n",
       "77                                    FIFA 16      PS4           2015.0   \n",
       "\n",
       "           genre  na_sales  eu_sales  jp_sales  other_sales  critic_score  \\\n",
       "16        Action      7.02      9.09      0.98         3.96          97.0   \n",
       "23        Action      9.66      5.14      0.06         1.41          97.0   \n",
       "31       Shooter      6.03      5.86      0.36         2.38           NaN   \n",
       "33  Role-Playing      5.28      4.19      4.35         0.78           NaN   \n",
       "34       Shooter      4.99      5.73      0.65         2.42          83.0   \n",
       "35       Shooter      8.25      4.24      0.07         1.12          83.0   \n",
       "42        Action      3.96      6.31      0.38         1.97          97.0   \n",
       "47  Role-Playing      4.35      3.49      3.10         0.74           NaN   \n",
       "60       Shooter      6.73      2.56      0.04         0.91          73.0   \n",
       "62      Platform      3.66      3.14      2.47         0.63          78.0   \n",
       "66       Shooter      6.65      2.28      0.04         0.74          87.0   \n",
       "69       Shooter      4.10      3.63      0.38         1.25          71.0   \n",
       "72          Misc      5.70      2.65      0.02         0.81           NaN   \n",
       "73    Simulation      2.03      2.36      4.39         0.39          88.0   \n",
       "77        Sports      1.12      6.12      0.06         1.28          82.0   \n",
       "\n",
       "    user_score     rating  sales group_platform  \n",
       "16         8.2          M  21.05          Other  \n",
       "23         8.1          M  16.27          Other  \n",
       "31         NaN  undefined  14.63            PS4  \n",
       "33         NaN  undefined  14.60          Other  \n",
       "34         5.3          M  13.79          Other  \n",
       "35         4.8          M  13.68          Other  \n",
       "42         8.3          M  12.62            PS4  \n",
       "47         NaN  undefined  11.68          Other  \n",
       "60         2.6          M  10.24          Other  \n",
       "62         7.2          E   9.90          Other  \n",
       "66         7.0          M   9.71          Other  \n",
       "69         2.6          M   9.36          Other  \n",
       "72         NaN  undefined   9.18          Other  \n",
       "73         8.7          E   9.17          Other  \n",
       "77         4.3          E   8.58            PS4  "
      ]
     },
     "execution_count": 40,
     "metadata": {},
     "output_type": "execute_result"
    }
   ],
   "source": [
    "data_actual['group_platform'] = data_actual['platform'].where(data_actual['platform'].isin(data_actual_platform['platform']), 'Other')\n",
    "pd.set_option(\"mode.chained_assignment\", None)\n",
    "data_actual.head(15)"
   ]
  },
  {
   "attachments": {},
   "cell_type": "markdown",
   "metadata": {},
   "source": [
    "Build scatterplots of sales versus critics' and users' ratings for all platforms."
   ]
  },
  {
   "cell_type": "code",
   "execution_count": 41,
   "metadata": {},
   "outputs": [
    {
     "data": {
      "image/png": "[encoded data removed]",
      "text/plain": [
       "<Figure size 360x360 with 1 Axes>"
      ]
     },
     "metadata": {},
     "output_type": "display_data"
    }
   ],
   "source": [
    "sns.relplot(\n",
    "    data=data_actual[data_actual['group_platform'] == 'Other'], x=\"critic_score\", y=\"sales\", #Зависимость продаж от оценки критиков\n",
    "    kind=\"scatter\"\n",
    ")\n",
    "None"
   ]
  },
  {
   "cell_type": "code",
   "execution_count": 42,
   "metadata": {},
   "outputs": [
    {
     "data": {
      "image/png": "[encoded data removed]",
      "text/plain": [
       "<Figure size 360x360 with 1 Axes>"
      ]
     },
     "metadata": {},
     "output_type": "display_data"
    }
   ],
   "source": [
    "sns.relplot(\n",
    "    data=data_actual[data_actual['group_platform'] == 'Other'], x=\"user_score\", y=\"sales\", #Зависимость продаж от оценки пользователей\n",
    "    kind=\"scatter\"\n",
    ")\n",
    "None"
   ]
  },
  {
   "cell_type": "code",
   "execution_count": 43,
   "metadata": {},
   "outputs": [
    {
     "data": {
      "text/plain": [
       "0.31386774322029376"
      ]
     },
     "execution_count": 43,
     "metadata": {},
     "output_type": "execute_result"
    }
   ],
   "source": [
    "data_actual[data_actual['group_platform'] == 'Other']['critic_score'].corr(data_actual['sales'])"
   ]
  },
  {
   "cell_type": "code",
   "execution_count": 44,
   "metadata": {},
   "outputs": [
    {
     "data": {
      "text/plain": [
       "0.02138655983831874"
      ]
     },
     "execution_count": 44,
     "metadata": {},
     "output_type": "execute_result"
    }
   ],
   "source": [
    "data_actual[data_actual['group_platform'] == 'Other']['user_score'].corr(data_actual['sales'])"
   ]
  },
  {
   "attachments": {},
   "cell_type": "markdown",
   "metadata": {},
   "source": [
    "The resulting values for all other platforms are similar to those for the popular platforms. There is a weak correlation from critic ratings and no correlation from user ratings."
   ]
  },
  {
   "attachments": {},
   "cell_type": "markdown",
   "metadata": {},
   "source": [
    "### Genre Comparison"
   ]
  },
  {
   "attachments": {},
   "cell_type": "markdown",
   "metadata": {},
   "source": [
    "Consider how different genres are sold. Let's build a histogram of the distribution of genres in the current period of time."
   ]
  },
  {
   "cell_type": "code",
   "execution_count": 45,
   "metadata": {},
   "outputs": [
    {
     "data": {
      "image/png": "[encoded data removed]",
      "text/plain": [
       "<Figure size 1440x576 with 1 Axes>"
      ]
     },
     "metadata": {},
     "output_type": "display_data"
    }
   ],
   "source": [
    "data_actual['genre'].hist(bins=24, figsize=(20,8))\n",
    "None"
   ]
  },
  {
   "attachments": {},
   "cell_type": "markdown",
   "metadata": {},
   "source": [
    "Most of the games are in the Action genre, followed by the Shooter, Sports, Adventure and Role-Playing genres. Let's see how the genres are distributed by the number of copies sold"
   ]
  },
  {
   "cell_type": "code",
   "execution_count": 46,
   "metadata": {},
   "outputs": [
    {
     "data": {
      "text/html": [
       "<style  type=\"text/css\" >\n",
       "#T_4736e_row0_col0{\n",
       "            background-color:  lightgreen;\n",
       "        }#T_4736e_row11_col0{\n",
       "            background-color:  skyblue;\n",
       "        }</style><table id=\"T_4736e_\" ><thead>    <tr>        <th class=\"blank level0\" ></th>        <th class=\"col_heading level0 col0\" >sales</th>        <th class=\"col_heading level0 col1\" >number</th>        <th class=\"col_heading level0 col2\" >mean</th>    </tr>    <tr>        <th class=\"index_name level0\" >genre</th>        <th class=\"blank\" ></th>        <th class=\"blank\" ></th>        <th class=\"blank\" ></th>    </tr></thead><tbody>\n",
       "                <tr>\n",
       "                        <th id=\"T_4736e_level0_row0\" class=\"row_heading level0 row0\" >Action</th>\n",
       "                        <td id=\"T_4736e_row0_col0\" class=\"data row0 col0\" >441.12</td>\n",
       "                        <td id=\"T_4736e_row0_col1\" class=\"data row0 col1\" >1031.00</td>\n",
       "                        <td id=\"T_4736e_row0_col2\" class=\"data row0 col2\" >0.43</td>\n",
       "            </tr>\n",
       "            <tr>\n",
       "                        <th id=\"T_4736e_level0_row1\" class=\"row_heading level0 row1\" >Shooter</th>\n",
       "                        <td id=\"T_4736e_row1_col0\" class=\"data row1 col0\" >304.73</td>\n",
       "                        <td id=\"T_4736e_row1_col1\" class=\"data row1 col1\" >235.00</td>\n",
       "                        <td id=\"T_4736e_row1_col2\" class=\"data row1 col2\" >1.30</td>\n",
       "            </tr>\n",
       "            <tr>\n",
       "                        <th id=\"T_4736e_level0_row2\" class=\"row_heading level0 row2\" >Role-Playing</th>\n",
       "                        <td id=\"T_4736e_row2_col0\" class=\"data row2 col0\" >192.80</td>\n",
       "                        <td id=\"T_4736e_row2_col1\" class=\"data row2 col1\" >370.00</td>\n",
       "                        <td id=\"T_4736e_row2_col2\" class=\"data row2 col2\" >0.52</td>\n",
       "            </tr>\n",
       "            <tr>\n",
       "                        <th id=\"T_4736e_level0_row3\" class=\"row_heading level0 row3\" >Sports</th>\n",
       "                        <td id=\"T_4736e_row3_col0\" class=\"data row3 col0\" >181.07</td>\n",
       "                        <td id=\"T_4736e_row3_col1\" class=\"data row3 col1\" >268.00</td>\n",
       "                        <td id=\"T_4736e_row3_col2\" class=\"data row3 col2\" >0.68</td>\n",
       "            </tr>\n",
       "            <tr>\n",
       "                        <th id=\"T_4736e_level0_row4\" class=\"row_heading level0 row4\" >Misc</th>\n",
       "                        <td id=\"T_4736e_row4_col0\" class=\"data row4 col0\" >85.04</td>\n",
       "                        <td id=\"T_4736e_row4_col1\" class=\"data row4 col1\" >192.00</td>\n",
       "                        <td id=\"T_4736e_row4_col2\" class=\"data row4 col2\" >0.44</td>\n",
       "            </tr>\n",
       "            <tr>\n",
       "                        <th id=\"T_4736e_level0_row5\" class=\"row_heading level0 row5\" >Platform</th>\n",
       "                        <td id=\"T_4736e_row5_col0\" class=\"data row5 col0\" >61.00</td>\n",
       "                        <td id=\"T_4736e_row5_col1\" class=\"data row5 col1\" >85.00</td>\n",
       "                        <td id=\"T_4736e_row5_col2\" class=\"data row5 col2\" >0.72</td>\n",
       "            </tr>\n",
       "            <tr>\n",
       "                        <th id=\"T_4736e_level0_row6\" class=\"row_heading level0 row6\" >Racing</th>\n",
       "                        <td id=\"T_4736e_row6_col0\" class=\"data row6 col0\" >53.50</td>\n",
       "                        <td id=\"T_4736e_row6_col1\" class=\"data row6 col1\" >115.00</td>\n",
       "                        <td id=\"T_4736e_row6_col2\" class=\"data row6 col2\" >0.47</td>\n",
       "            </tr>\n",
       "            <tr>\n",
       "                        <th id=\"T_4736e_level0_row7\" class=\"row_heading level0 row7\" >Fighting</th>\n",
       "                        <td id=\"T_4736e_row7_col0\" class=\"data row7 col0\" >44.49</td>\n",
       "                        <td id=\"T_4736e_row7_col1\" class=\"data row7 col1\" >109.00</td>\n",
       "                        <td id=\"T_4736e_row7_col2\" class=\"data row7 col2\" >0.41</td>\n",
       "            </tr>\n",
       "            <tr>\n",
       "                        <th id=\"T_4736e_level0_row8\" class=\"row_heading level0 row8\" >Simulation</th>\n",
       "                        <td id=\"T_4736e_row8_col0\" class=\"data row8 col0\" >35.12</td>\n",
       "                        <td id=\"T_4736e_row8_col1\" class=\"data row8 col1\" >80.00</td>\n",
       "                        <td id=\"T_4736e_row8_col2\" class=\"data row8 col2\" >0.44</td>\n",
       "            </tr>\n",
       "            <tr>\n",
       "                        <th id=\"T_4736e_level0_row9\" class=\"row_heading level0 row9\" >Adventure</th>\n",
       "                        <td id=\"T_4736e_row9_col0\" class=\"data row9 col0\" >29.43</td>\n",
       "                        <td id=\"T_4736e_row9_col1\" class=\"data row9 col1\" >302.00</td>\n",
       "                        <td id=\"T_4736e_row9_col2\" class=\"data row9 col2\" >0.10</td>\n",
       "            </tr>\n",
       "            <tr>\n",
       "                        <th id=\"T_4736e_level0_row10\" class=\"row_heading level0 row10\" >Strategy</th>\n",
       "                        <td id=\"T_4736e_row10_col0\" class=\"data row10 col0\" >13.34</td>\n",
       "                        <td id=\"T_4736e_row10_col1\" class=\"data row10 col1\" >71.00</td>\n",
       "                        <td id=\"T_4736e_row10_col2\" class=\"data row10 col2\" >0.19</td>\n",
       "            </tr>\n",
       "            <tr>\n",
       "                        <th id=\"T_4736e_level0_row11\" class=\"row_heading level0 row11\" >Puzzle</th>\n",
       "                        <td id=\"T_4736e_row11_col0\" class=\"data row11 col0\" >4.89</td>\n",
       "                        <td id=\"T_4736e_row11_col1\" class=\"data row11 col1\" >28.00</td>\n",
       "                        <td id=\"T_4736e_row11_col2\" class=\"data row11 col2\" >0.17</td>\n",
       "            </tr>\n",
       "    </tbody></table>"
      ],
      "text/plain": [
       "<pandas.io.formats.style.Styler at 0x7ff0cd021b50>"
      ]
     },
     "execution_count": 46,
     "metadata": {},
     "output_type": "execute_result"
    }
   ],
   "source": [
    "(data_actual\n",
    " .groupby('genre')\n",
    " .agg(sales=('sales','sum'), number=('sales','count'), mean =('sales','mean'))\n",
    " .sort_values(by = 'sales', ascending=False)\n",
    " .style\n",
    " .format('{:.2f}')\n",
    " .highlight_max(color='lightgreen', subset= 'sales')\n",
    " .highlight_min(color='skyblue', subset= 'sales')      \n",
    ")"
   ]
  },
  {
   "attachments": {},
   "cell_type": "markdown",
   "metadata": {},
   "source": [
    "Action games are also in first place in terms of the number of copies sold, but in terms of the ratio of released games to those sold, Action is only in 7th place. The Shooter genre in this ratio is in first place, but only in second place in terms of the total number of copies sold. But the Adventure genre, despite the large number of games, does not sell so well. Let's highlight the 4 most popular genres and look at their sales dynamics over the past 5 years: Shooter, Action, Sports, Racing, Platform and Role-Playing."
   ]
  },
  {
   "cell_type": "code",
   "execution_count": 47,
   "metadata": {},
   "outputs": [],
   "source": [
    "data_actual_genre = data_actual.query('genre == \"Shooter\" or genre == \"Action\" or genre == \"Sports\" or genre == \"Role-Playing\" or genre == \"Platform\" or genre == \"Racing\"')"
   ]
  },
  {
   "cell_type": "code",
   "execution_count": 48,
   "metadata": {},
   "outputs": [
    {
     "data": {
      "image/png": "[encoded data removed]",
      "text/plain": [
       "<Figure size 1008x576 with 1 Axes>"
      ]
     },
     "metadata": {},
     "output_type": "display_data"
    }
   ],
   "source": [
    "(data_actual_genre\n",
    " .pivot_table(index='genre', columns='year_of_release', values='sales', aggfunc='sum')\n",
    " .T\n",
    " .plot(kind='line', figsize=(14,8),  style = 'o-')\n",
    ")\n",
    "plt.title('Продажи за актуальный период различных жанров')\n",
    "plt.xlabel('Год')\n",
    "plt.ylabel('Млн проданных копий');"
   ]
  },
  {
   "cell_type": "code",
   "execution_count": 49,
   "metadata": {},
   "outputs": [
    {
     "data": {
      "image/png": "[encoded data removed]",
      "text/plain": [
       "<Figure size 1008x576 with 1 Axes>"
      ]
     },
     "metadata": {},
     "output_type": "display_data"
    }
   ],
   "source": [
    "(data_actual_genre\n",
    " .pivot_table(index='genre', columns='year_of_release', values='sales', aggfunc='mean')\n",
    " .T\n",
    " .plot(kind='line', figsize=(14,8),  style = 'o-')\n",
    ")\n",
    "plt.title('Продажи за актуальный период различных жанров')\n",
    "plt.xlabel('Год')\n",
    "plt.ylabel('Млн проданных копий');"
   ]
  },
  {
   "attachments": {},
   "cell_type": "markdown",
   "metadata": {},
   "source": [
    "This graph shows that despite the popularity of the Action genre in recent years, sales have been declining, even if we do not consider 2016 (there is no complete picture of all released copies of games). The Shooter, Role-Playing and Sports genres are stable.\n",
    "\n",
    "**Conclusion:**\n",
    "1. From the analysis of the data, the actual period is determined - 5 years. In about half the lifespan of one platform, the ups and downs of game sales on that platform fit into that time frame.\n",
    "2. It is necessary to consider platforms that will be popular in the future, and those that are fading into the past should not be considered. For 2017, popular platforms will be: PC, X-box One and Playstation 4.\n",
    "3. Action is the most popular game genre in the current era, but there is a trend towards the decline of its popularity. Other popular genres include Shooter, Role-Playing and Sports. At the same time, Shooter, on average, has the highest sales per released game.\n",
    "4. The factors affecting the sold number of copies of the game include, to some extent, the assessments of critics, but not users.\n",
    "5. According to the average number of copies sold by genre, the top 5 genres look like this: Shooter, Platform, Sports, Role-Playinf and Racing. At the same time, Shooter is also in second place in terms of the total number of games sold and has a good sales dynamics over the years. Platformer is in second place in terms of average sales by genre, but in dynamics, average sales are falling."
   ]
  },
  {
   "attachments": {},
   "cell_type": "markdown",
   "metadata": {},
   "source": [
    "## Comparison of users by region"
   ]
  },
  {
   "attachments": {},
   "cell_type": "markdown",
   "metadata": {},
   "source": [
    "Different platforms and genres may be popular in different regions. For more targeted advertising, it is necessary to take into account the peculiarities of the region. Let's compare sales across different platforms for three regions: North America, Europe, and Japan."
   ]
  },
  {
   "cell_type": "code",
   "execution_count": 50,
   "metadata": {},
   "outputs": [
    {
     "data": {
      "image/png": "[encoded data removed]",
      "text/plain": [
       "<Figure size 1152x864 with 3 Axes>"
      ]
     },
     "metadata": {},
     "output_type": "display_data"
    }
   ],
   "source": [
    "sns.set_theme(style=\"whitegrid\", palette=\"pastel\")\n",
    "# \n",
    "f, (ax1, ax2, ax3) = plt.subplots(3, 1, figsize=(16, 12), sharex=True)\n",
    "result = data_actual.groupby(\"platform\")['sales'].aggregate(np.median).reset_index().sort_values('sales', ascending = False)\n",
    "\n",
    "# \n",
    "x = data_actual['platform']\n",
    "y1 = data_actual['na_sales']\n",
    "sns.barplot(x=x, y=y1, palette=\"deep\", ax=ax1, ci=None, order=result['platform'])\n",
    "ax1.axhline(0, color=\"k\", clip_on=False)\n",
    "ax1.set_ylabel(\"Млн проданных копий\")\n",
    "ax1.set_xlabel(\"Платформа\")\n",
    "\n",
    "\n",
    "ax1.text(8, 0.5, 'Северная Америка', fontsize=16)\n",
    "\n",
    "# \n",
    "\n",
    "y2 = data_actual['eu_sales']\n",
    "sns.barplot(x=x, y=y2, palette=\"deep\", ax=ax2, ci=None, order=result['platform'])\n",
    "ax2.axhline(0, color=\"k\", clip_on=False)\n",
    "ax2.set_xlabel(\"Платформа\")\n",
    "ax2.set_ylabel(\"Млн проданных копий\")\n",
    "\n",
    "ax2.text(8, 0.3, 'Европа', fontsize=16)\n",
    "\n",
    "# \n",
    "y3 = data_actual['jp_sales']\n",
    "sns.barplot(x=x, y=y3, palette=\"deep\", ax=ax3, ci=None, order=result['platform'])\n",
    "ax3.axhline(0, color=\"k\", clip_on=False)\n",
    "ax3.set_xlabel(\"Платформа\")\n",
    "ax3.set_ylabel(\"Млн проданных копий\")\n",
    "ax3.text(8, 0.2, 'Япония', fontsize=16)\n",
    "\n",
    "sns.despine(bottom=True)"
   ]
  },
  {
   "attachments": {},
   "cell_type": "markdown",
   "metadata": {},
   "source": [
    "The diagram clearly shows that PS is more popular in Europe and Japan than in America. At the same time, the X-box is a more popular platform in America and not at all popular in Japan. Also portable Nintendo 3DS are more popular in Japan. For Europe and America, the top 5 popular platforms in the current period are X360, PS4, XOne, PS3 and Wii. For Japan top 5: 3DS, DS, WiiU, Wii and PS3"
   ]
  },
  {
   "cell_type": "code",
   "execution_count": 51,
   "metadata": {},
   "outputs": [],
   "source": [
    "data_actual_na =  data_actual.pivot_table(index='genre', values='na_sales', aggfunc='sum').reset_index()\n",
    "data_actual_eu =  data_actual.pivot_table(index='genre', values='eu_sales', aggfunc='sum').reset_index()\n",
    "data_actual_jp =  data_actual.pivot_table(index='genre', values='jp_sales', aggfunc='sum').reset_index()"
   ]
  },
  {
   "cell_type": "code",
   "execution_count": 52,
   "metadata": {},
   "outputs": [
    {
     "data": {
      "image/png": "[encoded data removed]",
      "text/plain": [
       "<Figure size 1152x864 with 3 Axes>"
      ]
     },
     "metadata": {},
     "output_type": "display_data"
    }
   ],
   "source": [
    "sns.set_theme(style=\"whitegrid\", palette=\"pastel\")\n",
    "# \n",
    "f, (ax1, ax2, ax3) = plt.subplots(3, 1, figsize=(16, 12), sharex=True)\n",
    "result = data_actual.groupby(\"genre\")['sales'].aggregate(np.sum).reset_index().sort_values('sales', ascending = False)\n",
    "\n",
    "# \n",
    "x = data_actual_na['genre']\n",
    "y1 = data_actual_na['na_sales']\n",
    "sns.barplot(x=x, y=y1, palette=\"deep\", ax=ax1, ci=None, order=result['genre'])\n",
    "ax1.axhline(0, color=\"k\", clip_on=False)\n",
    "ax1.set_ylabel(\"Млн проданных копий\")\n",
    "ax1.set_xlabel(\"Жанр\")\n",
    "ax1.text(8, 175, 'Северная Америка', fontsize=16)\n",
    "\n",
    "# \n",
    "y2 = data_actual_eu['eu_sales']\n",
    "sns.barplot(x=x, y=y2, palette=\"deep\", ax=ax2, ci=None, order=result['genre'])\n",
    "ax2.axhline(0, color=\"k\", clip_on=False)\n",
    "ax2.set_xlabel(\"Жанр\")\n",
    "ax2.set_ylabel(\"Млн проданных копий\")\n",
    "ax2.text(8, 150, 'Европа', fontsize=16)\n",
    "\n",
    "# \n",
    "y3 = data_actual_jp['jp_sales']\n",
    "sns.barplot(x=x, y=y3, palette=\"deep\", ax=ax3, ci=None, order=result['genre'])\n",
    "ax3.axhline(0, color=\"k\", clip_on=False)\n",
    "ax3.set_xlabel(\"Жанр\")\n",
    "ax3.set_ylabel(\"Млн проданных копий\")\n",
    "ax3.text(8, 50, 'Япония', fontsize=16)\n",
    "\n",
    "sns.despine(bottom=True)"
   ]
  },
  {
   "attachments": {},
   "cell_type": "markdown",
   "metadata": {},
   "source": [
    "The genre distribution is generally very similar for Europe and America. The Action genre has the highest number of copies sold, followed by Shooter, Sports, Role-Playing and Misc(other). The Japanese market is different, where the top 5 looks like this: Role-Playing and Action stand out strongly, and then Misc, Simulation and Fighting follow."
   ]
  },
  {
   "cell_type": "code",
   "execution_count": 53,
   "metadata": {},
   "outputs": [
    {
     "data": {
      "text/plain": [
       "array(['M', 'undefined', 'E', 'E10+', 'T'], dtype=object)"
      ]
     },
     "execution_count": 53,
     "metadata": {},
     "output_type": "execute_result"
    }
   ],
   "source": [
    "data_actual.rating.unique()"
   ]
  },
  {
   "cell_type": "code",
   "execution_count": 54,
   "metadata": {},
   "outputs": [
    {
     "data": {
      "image/png": "[encoded data removed]",
      "text/plain": [
       "<Figure size 1152x864 with 3 Axes>"
      ]
     },
     "metadata": {},
     "output_type": "display_data"
    }
   ],
   "source": [
    "sns.set_theme(style=\"whitegrid\", palette=\"pastel\")\n",
    "# \n",
    "f, (ax1, ax2, ax3) = plt.subplots(3, 1, figsize=(16, 12), sharex=True)\n",
    "\n",
    "# \n",
    "x = data_actual['rating']\n",
    "y1 = data_actual['na_sales']\n",
    "sns.barplot(x=x, y=y1, palette=\"deep\", ax=ax1, ci=None)\n",
    "ax1.axhline(0, color=\"k\", clip_on=False)\n",
    "ax1.set_ylabel(\"Млн проданных копий\")\n",
    "ax1.set_xlabel(\"Рейтинг\")\n",
    "ax1.text(2.5, 0.4, 'Северная Америка', fontsize=16)\n",
    "\n",
    "# \n",
    "y2 = data_actual['eu_sales']\n",
    "sns.barplot(x=x, y=y2, palette=\"deep\", ax=ax2, ci=None)\n",
    "ax2.axhline(0, color=\"k\", clip_on=False)\n",
    "ax2.set_xlabel(\"Рейтинг\")\n",
    "ax2.set_ylabel(\"Млн проданных копий\")\n",
    "ax2.text(2.5, 0.35, 'Европа', fontsize=16)\n",
    "\n",
    "# \n",
    "y3 = data_actual['jp_sales']\n",
    "sns.barplot(x=x, y=y3, palette=\"deep\", ax=ax3, ci=None)\n",
    "ax3.axhline(0, color=\"k\", clip_on=False)\n",
    "ax3.set_xlabel(\"Рейтинг\")\n",
    "ax3.set_ylabel(\"Млн проданных копий\")\n",
    "ax3.text(2.5, 0.07, 'Япония', fontsize=16)\n",
    "\n",
    "sns.despine(bottom=True)"
   ]
  },
  {
   "attachments": {},
   "cell_type": "markdown",
   "metadata": {},
   "source": [
    "The rating distributions look similar for North America and for Europe. Japan, as in other distributions, is different. For example, E (Everyone - games 6+), then T (Teen - 13+) and only then M (Mature - 17+) have the biggest relative sales. In Europe and America, on the contrary, M is the most popular rating."
   ]
  },
  {
   "attachments": {},
   "cell_type": "markdown",
   "metadata": {},
   "source": [
    "**Conclusion**:\n",
    "1. Game preferences in different regions are different, it is necessary to take into account the peculiarities of the region when building an advertising campaign.\n",
    "2. In America, X-Box is the most popular, in Europe - Playstation, in Japan - Nintendo\n",
    "3. Action and Role-Playing genres are popular in all three regions. At the same time, Western countries differ from Japan in other genre preferences.\n",
    "4. Rating also affects popularity and is different in Japan from Europe and America."
   ]
  },
  {
   "attachments": {},
   "cell_type": "markdown",
   "metadata": {},
   "source": [
    "## Hypothesis testing"
   ]
  },
  {
   "attachments": {},
   "cell_type": "markdown",
   "metadata": {},
   "source": [
    "### The average user ratings of the Xbox One and PC platforms are the same"
   ]
  },
  {
   "attachments": {},
   "cell_type": "markdown",
   "metadata": {},
   "source": [
    "Null Hypothesis: The average user ratings of the Xbox One and PC platforms are equal.\n",
    "Alternative hypothesis: Average user ratings of Xbox One and PC platforms are not equal\n",
    "\n",
    "The null hypothesis is formulated to include an equality, and the alternative hypothesis contradicts it. Let's make a slice of data only for the XOne platform"
   ]
  },
  {
   "cell_type": "code",
   "execution_count": 55,
   "metadata": {},
   "outputs": [],
   "source": [
    "data_actual_xone = data_actual[data_actual['platform'] == 'XOne']"
   ]
  },
  {
   "attachments": {},
   "cell_type": "markdown",
   "metadata": {},
   "source": [
    "Check how the distribution of user ratings looks like for this slice."
   ]
  },
  {
   "cell_type": "code",
   "execution_count": 56,
   "metadata": {},
   "outputs": [
    {
     "data": {
      "text/plain": [
       "<AxesSubplot:>"
      ]
     },
     "execution_count": 56,
     "metadata": {},
     "output_type": "execute_result"
    },
    {
     "data": {
      "image/png": "[encoded data removed]",
      "text/plain": [
       "<Figure size 432x288 with 1 Axes>"
      ]
     },
     "metadata": {},
     "output_type": "display_data"
    }
   ],
   "source": [
    "data_actual_xone['user_score'].hist(bins=30)"
   ]
  },
  {
   "attachments": {},
   "cell_type": "markdown",
   "metadata": {},
   "source": [
    "The distribution appears to be normal. Find its mean and standard deviation."
   ]
  },
  {
   "cell_type": "code",
   "execution_count": 57,
   "metadata": {},
   "outputs": [
    {
     "data": {
      "text/plain": [
       "count    182.000000\n",
       "mean       6.521429\n",
       "std        1.380941\n",
       "min        1.600000\n",
       "25%        5.800000\n",
       "50%        6.800000\n",
       "75%        7.500000\n",
       "max        9.200000\n",
       "Name: user_score, dtype: float64"
      ]
     },
     "execution_count": 57,
     "metadata": {},
     "output_type": "execute_result"
    }
   ],
   "source": [
    "data_actual_xone['user_score'].describe()"
   ]
  },
  {
   "attachments": {},
   "cell_type": "markdown",
   "metadata": {},
   "source": [
    "The average user rating for games on XOne is 6.5. The distribution of scores is slightly skewed to the right. Check the same parameters for the slicer for the PC platform."
   ]
  },
  {
   "cell_type": "code",
   "execution_count": 58,
   "metadata": {},
   "outputs": [
    {
     "data": {
      "text/plain": [
       "<AxesSubplot:>"
      ]
     },
     "execution_count": 58,
     "metadata": {},
     "output_type": "execute_result"
    },
    {
     "data": {
      "image/png": "[encoded data removed]",
      "text/plain": [
       "<Figure size 432x288 with 1 Axes>"
      ]
     },
     "metadata": {},
     "output_type": "display_data"
    }
   ],
   "source": [
    "data_actual_pc = data_actual[data_actual['platform'] == 'PC'] #Делаем срез\n",
    "data_actual_pc['user_score'].hist(bins=30) #Гистограмма"
   ]
  },
  {
   "cell_type": "code",
   "execution_count": 59,
   "metadata": {},
   "outputs": [
    {
     "data": {
      "text/plain": [
       "count    206.000000\n",
       "mean       6.428641\n",
       "std        1.664465\n",
       "min        1.400000\n",
       "25%        5.500000\n",
       "50%        6.800000\n",
       "75%        7.700000\n",
       "max        9.300000\n",
       "Name: user_score, dtype: float64"
      ]
     },
     "execution_count": 59,
     "metadata": {},
     "output_type": "execute_result"
    }
   ],
   "source": [
    "data_actual_pc['user_score'].describe()"
   ]
  },
  {
   "attachments": {},
   "cell_type": "markdown",
   "metadata": {},
   "source": [
    "The distributions are very similar, their mean and mean deviations are fairly close. To test the hypothesis, we will conduct a t-test for two distributions."
   ]
  },
  {
   "cell_type": "code",
   "execution_count": 60,
   "metadata": {},
   "outputs": [
    {
     "name": "stdout",
     "output_type": "stream",
     "text": [
      "p-значение: 0.5535080500643661\n",
      "Не получилось отвергнуть нулевую гипотезу\n"
     ]
    }
   ],
   "source": [
    "results = st.ttest_ind(data_actual_xone['user_score'].dropna(), data_actual_pc['user_score'].dropna()) \n",
    "\n",
    "alpha = .01 # критический уровень статистической значимости\n",
    "\n",
    "print('p-значение:', results.pvalue)\n",
    "if results.pvalue < alpha:\n",
    "    print(\"Отвергаем нулевую гипотезу\")\n",
    "else:\n",
    "    print(\"Не получилось отвергнуть нулевую гипотезу\") "
   ]
  },
  {
   "attachments": {},
   "cell_type": "markdown",
   "metadata": {},
   "source": [
    "The p-value was clearly too high to reject the null hypothesis. We conclude that the null hypothesis: the equality of the average user ratings of the Xbox One and PC platforms cannot be rejected. With this p-value, if we reject the null hypothesis, we have a 55% chance of making a Type I error."
   ]
  },
  {
   "attachments": {},
   "cell_type": "markdown",
   "metadata": {},
   "source": [
    "### Average user ratings for the Action and Sports genres are different"
   ]
  },
  {
   "attachments": {},
   "cell_type": "markdown",
   "metadata": {},
   "source": [
    "Null Hypothesis: Average user ratings for the Action and Sports genres are equal.\n",
    "Alternative hypothesis: Average user ratings of Action and Sports genres are different\n",
    "\n",
    "Similar study to test the hypothesis."
   ]
  },
  {
   "cell_type": "code",
   "execution_count": 61,
   "metadata": {},
   "outputs": [
    {
     "data": {
      "text/plain": [
       "<AxesSubplot:>"
      ]
     },
     "execution_count": 61,
     "metadata": {},
     "output_type": "execute_result"
    },
    {
     "data": {
      "image/png": "[encoded data removed]",
      "text/plain": [
       "<Figure size 432x288 with 1 Axes>"
      ]
     },
     "metadata": {},
     "output_type": "display_data"
    }
   ],
   "source": [
    "data_actual_action = data_actual[data_actual['genre'] == 'Action'] #Срез для жанра Action\n",
    "data_actual_action['user_score'].hist(bins=30) #Гистограмма"
   ]
  },
  {
   "cell_type": "code",
   "execution_count": 62,
   "metadata": {},
   "outputs": [
    {
     "data": {
      "text/plain": [
       "count    523.000000\n",
       "mean       6.825048\n",
       "std        1.374440\n",
       "min        1.600000\n",
       "25%        6.250000\n",
       "50%        7.100000\n",
       "75%        7.800000\n",
       "max        9.100000\n",
       "Name: user_score, dtype: float64"
      ]
     },
     "execution_count": 62,
     "metadata": {},
     "output_type": "execute_result"
    }
   ],
   "source": [
    "data_actual_action['user_score'].describe() #Описание выборки"
   ]
  },
  {
   "cell_type": "code",
   "execution_count": 63,
   "metadata": {},
   "outputs": [
    {
     "data": {
      "text/plain": [
       "<AxesSubplot:>"
      ]
     },
     "execution_count": 63,
     "metadata": {},
     "output_type": "execute_result"
    },
    {
     "data": {
      "image/png": "[encoded data removed]",
      "text/plain": [
       "<Figure size 432x288 with 1 Axes>"
      ]
     },
     "metadata": {},
     "output_type": "display_data"
    }
   ],
   "source": [
    "data_actual_sports = data_actual[data_actual['genre'] == 'Sports'] #Срез для жанра Sport\n",
    "data_actual_sports['user_score'].hist(bins=30) #Гистограмма"
   ]
  },
  {
   "cell_type": "code",
   "execution_count": 64,
   "metadata": {},
   "outputs": [
    {
     "data": {
      "text/plain": [
       "count    195.000000\n",
       "mean       5.455897\n",
       "std        1.738646\n",
       "min        0.200000\n",
       "25%        4.300000\n",
       "50%        5.700000\n",
       "75%        6.800000\n",
       "max        8.800000\n",
       "Name: user_score, dtype: float64"
      ]
     },
     "execution_count": 64,
     "metadata": {},
     "output_type": "execute_result"
    }
   ],
   "source": [
    "data_actual_sports['user_score'].describe() #Описание"
   ]
  },
  {
   "cell_type": "code",
   "execution_count": 65,
   "metadata": {},
   "outputs": [
    {
     "name": "stdout",
     "output_type": "stream",
     "text": [
      "p-значение: 3.7163089460934874e-26\n",
      "Отвергаем нулевую гипотезу\n"
     ]
    }
   ],
   "source": [
    "results = st.ttest_ind(data_actual_action['user_score'].dropna(), data_actual_sports['user_score'].dropna())\n",
    "\n",
    "alpha = .01 # критический уровень статистической значимости\n",
    "\n",
    "print('p-значение:', results.pvalue)\n",
    "if results.pvalue < alpha:\n",
    "    print(\"Отвергаем нулевую гипотезу\")\n",
    "else:\n",
    "    print(\"Не получилось отвергнуть нулевую гипотезу\") "
   ]
  },
  {
   "attachments": {},
   "cell_type": "markdown",
   "metadata": {},
   "source": [
    "The resulting value indicates that the average values of user ratings for action and sports genres are statistically significantly different, so the null hypothesis can be rejected."
   ]
  },
  {
   "attachments": {},
   "cell_type": "markdown",
   "metadata": {},
   "source": [
    "## General conclusions"
   ]
  },
  {
   "attachments": {},
   "cell_type": "markdown",
   "metadata": {},
   "source": [
    "During the project, an analysis of the provided historical data on sales of games was carried out. At the beginning of the work, the data was processed, checked for gaps and duplicates. Also created an additional column with the amount of sales for all regions.\n",
    "\n",
    "In conclusion of the exploratory data analysis, the following can be said:\n",
    "* Since platforms have a lifetime, only the current data period needs to be taken into account. This period is approximately 5 years.\n",
    "* There are sales dynamics across different platforms. Some platforms become obsolete, some have peak sales. For sales forecasting, aging platforms must be identified.\n",
    "* Some genres sell better than others, with some genres being produced in high volume but not selling well.\n",
    "* Users have different preferences in different regions. In Europe, America and Japan, various platforms, genres and even game ratings are popular.\n",
    "\n",
    "The following hypotheses were also tested:\n",
    "* The average user ratings of the Xbox One and PC platforms are the same;\n",
    "* Average user ratings for the Action and Sports genres are different.\n",
    "\n",
    "After the test, it turned out that the hypothesis that the average user ratings of the Xbox One and PC platforms are equal cannot be rejected. The assumption that the average user ratings of the Action and Sports genres are different is confirmed.\n",
    "\n",
    "Summarizing the study, we can say that the factors affecting the success of the game are:\n",
    "* Critics score\n",
    "* Genre\n",
    "* Platform\n",
    "* Region\n",
    "\n",
    "When building an advertising campaign, it is recommended to take into account these factors."
   ]
  }
 ],
 "metadata": {
  "ExecuteTimeLog": [
   {
    "duration": 394,
    "start_time": "2022-06-03T16:43:05.366Z"
   },
   {
    "duration": 112,
    "start_time": "2022-06-03T16:43:52.314Z"
   },
   {
    "duration": 70,
    "start_time": "2022-06-03T16:44:08.875Z"
   },
   {
    "duration": 15,
    "start_time": "2022-06-03T16:44:12.698Z"
   },
   {
    "duration": 72,
    "start_time": "2022-06-03T16:44:50.814Z"
   },
   {
    "duration": 66,
    "start_time": "2022-06-05T09:24:41.697Z"
   },
   {
    "duration": 978,
    "start_time": "2022-06-05T09:24:47.143Z"
   },
   {
    "duration": 16,
    "start_time": "2022-06-05T09:24:48.123Z"
   },
   {
    "duration": 4,
    "start_time": "2022-06-05T09:24:48.141Z"
   },
   {
    "duration": 3,
    "start_time": "2022-06-05T09:24:56.857Z"
   },
   {
    "duration": 92,
    "start_time": "2022-06-05T09:25:00.857Z"
   },
   {
    "duration": 7,
    "start_time": "2022-06-05T09:25:15.649Z"
   },
   {
    "duration": 9,
    "start_time": "2022-06-05T09:25:32.309Z"
   },
   {
    "duration": 8,
    "start_time": "2022-06-05T09:25:39.805Z"
   },
   {
    "duration": 573,
    "start_time": "2022-06-05T09:25:47.700Z"
   },
   {
    "duration": 20,
    "start_time": "2022-06-05T09:25:48.275Z"
   },
   {
    "duration": 25,
    "start_time": "2022-06-05T09:25:48.296Z"
   },
   {
    "duration": 109,
    "start_time": "2022-06-05T09:25:59.387Z"
   },
   {
    "duration": 4,
    "start_time": "2022-06-05T09:31:17.223Z"
   },
   {
    "duration": 24,
    "start_time": "2022-06-05T09:31:25.616Z"
   },
   {
    "duration": 18,
    "start_time": "2022-06-05T09:31:39.850Z"
   },
   {
    "duration": 7,
    "start_time": "2022-06-05T09:32:26.114Z"
   },
   {
    "duration": 31,
    "start_time": "2022-06-05T09:32:48.314Z"
   },
   {
    "duration": 16,
    "start_time": "2022-06-05T09:33:07.556Z"
   },
   {
    "duration": 9,
    "start_time": "2022-06-05T09:35:09.438Z"
   },
   {
    "duration": 18,
    "start_time": "2022-06-05T09:37:03.317Z"
   },
   {
    "duration": 13,
    "start_time": "2022-06-05T09:38:19.120Z"
   },
   {
    "duration": 509,
    "start_time": "2022-06-05T09:38:35.436Z"
   },
   {
    "duration": 17,
    "start_time": "2022-06-05T09:38:35.947Z"
   },
   {
    "duration": 3,
    "start_time": "2022-06-05T09:38:35.966Z"
   },
   {
    "duration": 23,
    "start_time": "2022-06-05T09:38:35.971Z"
   },
   {
    "duration": 102,
    "start_time": "2022-06-05T09:38:35.995Z"
   },
   {
    "duration": 11,
    "start_time": "2022-06-05T09:38:56.328Z"
   },
   {
    "duration": 9,
    "start_time": "2022-06-05T09:38:59.461Z"
   },
   {
    "duration": 9,
    "start_time": "2022-06-05T09:39:07.341Z"
   },
   {
    "duration": 562,
    "start_time": "2022-06-05T09:39:25.840Z"
   },
   {
    "duration": 24,
    "start_time": "2022-06-05T09:39:26.406Z"
   },
   {
    "duration": 3,
    "start_time": "2022-06-05T09:39:26.432Z"
   },
   {
    "duration": 15,
    "start_time": "2022-06-05T09:39:26.437Z"
   },
   {
    "duration": 6,
    "start_time": "2022-06-05T09:39:26.454Z"
   },
   {
    "duration": 133,
    "start_time": "2022-06-05T09:39:26.461Z"
   },
   {
    "duration": 14,
    "start_time": "2022-06-05T09:40:01.146Z"
   },
   {
    "duration": 6,
    "start_time": "2022-06-05T09:40:21.818Z"
   },
   {
    "duration": 6,
    "start_time": "2022-06-05T09:41:05.646Z"
   },
   {
    "duration": 555,
    "start_time": "2022-06-05T09:41:32.648Z"
   },
   {
    "duration": 27,
    "start_time": "2022-06-05T09:41:33.205Z"
   },
   {
    "duration": 3,
    "start_time": "2022-06-05T09:41:33.234Z"
   },
   {
    "duration": 19,
    "start_time": "2022-06-05T09:41:33.240Z"
   },
   {
    "duration": 15,
    "start_time": "2022-06-05T09:41:33.260Z"
   },
   {
    "duration": 8,
    "start_time": "2022-06-05T09:41:33.296Z"
   },
   {
    "duration": 39,
    "start_time": "2022-06-05T09:41:33.306Z"
   },
   {
    "duration": 99,
    "start_time": "2022-06-05T09:41:33.347Z"
   },
   {
    "duration": 647,
    "start_time": "2022-06-05T09:41:52.282Z"
   },
   {
    "duration": 20,
    "start_time": "2022-06-05T09:41:52.934Z"
   },
   {
    "duration": 4,
    "start_time": "2022-06-05T09:41:52.956Z"
   },
   {
    "duration": 34,
    "start_time": "2022-06-05T09:41:52.962Z"
   },
   {
    "duration": 26,
    "start_time": "2022-06-05T09:41:52.998Z"
   },
   {
    "duration": 8,
    "start_time": "2022-06-05T09:41:53.027Z"
   },
   {
    "duration": 24,
    "start_time": "2022-06-05T09:41:53.037Z"
   },
   {
    "duration": 43,
    "start_time": "2022-06-05T09:41:53.089Z"
   },
   {
    "duration": 11,
    "start_time": "2022-06-05T09:42:56.818Z"
   },
   {
    "duration": 7,
    "start_time": "2022-06-05T09:43:23.372Z"
   },
   {
    "duration": 13,
    "start_time": "2022-06-05T09:45:24.126Z"
   },
   {
    "duration": 7,
    "start_time": "2022-06-05T09:46:14.158Z"
   },
   {
    "duration": 7,
    "start_time": "2022-06-05T09:46:42.900Z"
   },
   {
    "duration": 15,
    "start_time": "2022-06-05T09:47:04.560Z"
   },
   {
    "duration": 13,
    "start_time": "2022-06-05T09:48:19.018Z"
   },
   {
    "duration": 10,
    "start_time": "2022-06-05T09:48:52.736Z"
   },
   {
    "duration": 8,
    "start_time": "2022-06-05T09:49:23.744Z"
   },
   {
    "duration": 10,
    "start_time": "2022-06-05T09:49:37.305Z"
   },
   {
    "duration": 9,
    "start_time": "2022-06-05T09:49:45.790Z"
   },
   {
    "duration": 10,
    "start_time": "2022-06-05T09:49:49.044Z"
   },
   {
    "duration": 17,
    "start_time": "2022-06-05T09:49:51.146Z"
   },
   {
    "duration": 46,
    "start_time": "2022-06-05T09:50:26.407Z"
   },
   {
    "duration": 16,
    "start_time": "2022-06-05T09:50:29.044Z"
   },
   {
    "duration": 80,
    "start_time": "2022-06-05T09:55:19.975Z"
   },
   {
    "duration": 6,
    "start_time": "2022-06-05T09:55:28.500Z"
   },
   {
    "duration": 10,
    "start_time": "2022-06-05T09:55:30.683Z"
   },
   {
    "duration": 16,
    "start_time": "2022-06-05T09:57:01.949Z"
   },
   {
    "duration": 16,
    "start_time": "2022-06-05T10:03:00.172Z"
   },
   {
    "duration": 7,
    "start_time": "2022-06-05T10:04:20.984Z"
   },
   {
    "duration": 8,
    "start_time": "2022-06-05T10:04:33.657Z"
   },
   {
    "duration": 14,
    "start_time": "2022-06-05T10:05:02.536Z"
   },
   {
    "duration": 6,
    "start_time": "2022-06-05T10:11:10.085Z"
   },
   {
    "duration": 8,
    "start_time": "2022-06-05T10:11:57.974Z"
   },
   {
    "duration": 15,
    "start_time": "2022-06-05T10:12:54.725Z"
   },
   {
    "duration": 8,
    "start_time": "2022-06-05T10:12:57.478Z"
   },
   {
    "duration": 13,
    "start_time": "2022-06-05T10:13:04.273Z"
   },
   {
    "duration": 10,
    "start_time": "2022-06-05T10:13:25.172Z"
   },
   {
    "duration": 8,
    "start_time": "2022-06-05T10:13:38.661Z"
   },
   {
    "duration": 5,
    "start_time": "2022-06-05T10:13:45.124Z"
   },
   {
    "duration": 5,
    "start_time": "2022-06-05T10:13:47.651Z"
   },
   {
    "duration": 1022,
    "start_time": "2022-06-05T10:14:02.795Z"
   },
   {
    "duration": 619,
    "start_time": "2022-06-05T10:14:11.082Z"
   },
   {
    "duration": 19,
    "start_time": "2022-06-05T10:14:11.703Z"
   },
   {
    "duration": 3,
    "start_time": "2022-06-05T10:14:11.724Z"
   },
   {
    "duration": 16,
    "start_time": "2022-06-05T10:14:11.729Z"
   },
   {
    "duration": 17,
    "start_time": "2022-06-05T10:14:11.746Z"
   },
   {
    "duration": 7,
    "start_time": "2022-06-05T10:14:11.791Z"
   },
   {
    "duration": 10,
    "start_time": "2022-06-05T10:14:11.799Z"
   },
   {
    "duration": 6,
    "start_time": "2022-06-05T10:14:11.812Z"
   },
   {
    "duration": 10,
    "start_time": "2022-06-05T10:14:11.820Z"
   },
   {
    "duration": 16,
    "start_time": "2022-06-05T10:14:11.833Z"
   },
   {
    "duration": 40,
    "start_time": "2022-06-05T10:14:11.851Z"
   },
   {
    "duration": 14,
    "start_time": "2022-06-05T10:14:11.893Z"
   },
   {
    "duration": 25,
    "start_time": "2022-06-05T10:14:11.909Z"
   },
   {
    "duration": 7,
    "start_time": "2022-06-05T10:14:11.935Z"
   },
   {
    "duration": 18,
    "start_time": "2022-06-05T10:14:11.944Z"
   },
   {
    "duration": 33,
    "start_time": "2022-06-05T10:14:11.967Z"
   },
   {
    "duration": 23,
    "start_time": "2022-06-05T10:14:12.002Z"
   },
   {
    "duration": 7,
    "start_time": "2022-06-05T10:17:02.758Z"
   },
   {
    "duration": 545,
    "start_time": "2022-06-05T10:17:11.403Z"
   },
   {
    "duration": 17,
    "start_time": "2022-06-05T10:17:11.950Z"
   },
   {
    "duration": 3,
    "start_time": "2022-06-05T10:17:11.969Z"
   },
   {
    "duration": 19,
    "start_time": "2022-06-05T10:17:11.990Z"
   },
   {
    "duration": 15,
    "start_time": "2022-06-05T10:17:12.011Z"
   },
   {
    "duration": 15,
    "start_time": "2022-06-05T10:17:12.028Z"
   },
   {
    "duration": 9,
    "start_time": "2022-06-05T10:17:12.045Z"
   },
   {
    "duration": 36,
    "start_time": "2022-06-05T10:17:12.056Z"
   },
   {
    "duration": 15,
    "start_time": "2022-06-05T10:17:12.094Z"
   },
   {
    "duration": 18,
    "start_time": "2022-06-05T10:17:12.113Z"
   },
   {
    "duration": 5,
    "start_time": "2022-06-05T10:17:12.133Z"
   },
   {
    "duration": 16,
    "start_time": "2022-06-05T10:17:12.140Z"
   },
   {
    "duration": 50,
    "start_time": "2022-06-05T10:17:12.157Z"
   },
   {
    "duration": 7,
    "start_time": "2022-06-05T10:17:12.209Z"
   },
   {
    "duration": 25,
    "start_time": "2022-06-05T10:17:12.219Z"
   },
   {
    "duration": 15,
    "start_time": "2022-06-05T10:17:12.246Z"
   },
   {
    "duration": 46,
    "start_time": "2022-06-05T10:17:12.262Z"
   },
   {
    "duration": 5,
    "start_time": "2022-06-05T10:17:25.086Z"
   },
   {
    "duration": 9,
    "start_time": "2022-06-05T10:17:29.799Z"
   },
   {
    "duration": 571,
    "start_time": "2022-06-05T10:17:55.358Z"
   },
   {
    "duration": 18,
    "start_time": "2022-06-05T10:17:55.931Z"
   },
   {
    "duration": 9,
    "start_time": "2022-06-05T10:17:55.953Z"
   },
   {
    "duration": 34,
    "start_time": "2022-06-05T10:17:55.965Z"
   },
   {
    "duration": 15,
    "start_time": "2022-06-05T10:17:56.000Z"
   },
   {
    "duration": 8,
    "start_time": "2022-06-05T10:17:56.017Z"
   },
   {
    "duration": 13,
    "start_time": "2022-06-05T10:17:56.027Z"
   },
   {
    "duration": 8,
    "start_time": "2022-06-05T10:17:56.042Z"
   },
   {
    "duration": 43,
    "start_time": "2022-06-05T10:17:56.052Z"
   },
   {
    "duration": 15,
    "start_time": "2022-06-05T10:17:56.097Z"
   },
   {
    "duration": 6,
    "start_time": "2022-06-05T10:17:56.114Z"
   },
   {
    "duration": 16,
    "start_time": "2022-06-05T10:17:56.122Z"
   },
   {
    "duration": 15,
    "start_time": "2022-06-05T10:17:56.140Z"
   },
   {
    "duration": 5,
    "start_time": "2022-06-05T10:17:56.190Z"
   },
   {
    "duration": 17,
    "start_time": "2022-06-05T10:17:56.197Z"
   },
   {
    "duration": 11,
    "start_time": "2022-06-05T10:17:56.216Z"
   },
   {
    "duration": 15,
    "start_time": "2022-06-05T10:17:56.229Z"
   },
   {
    "duration": 84,
    "start_time": "2022-06-05T10:22:16.311Z"
   },
   {
    "duration": 9,
    "start_time": "2022-06-05T10:22:37.620Z"
   },
   {
    "duration": 13,
    "start_time": "2022-06-05T10:22:45.873Z"
   },
   {
    "duration": 16,
    "start_time": "2022-06-05T10:22:54.821Z"
   },
   {
    "duration": 16,
    "start_time": "2022-06-05T10:24:38.880Z"
   },
   {
    "duration": 14,
    "start_time": "2022-06-05T10:24:45.560Z"
   },
   {
    "duration": 7,
    "start_time": "2022-06-05T10:25:02.249Z"
   },
   {
    "duration": 9,
    "start_time": "2022-06-05T10:28:16.179Z"
   },
   {
    "duration": 81,
    "start_time": "2022-06-05T10:28:31.116Z"
   },
   {
    "duration": 435,
    "start_time": "2022-06-05T10:28:36.344Z"
   },
   {
    "duration": 575,
    "start_time": "2022-06-05T10:28:49.642Z"
   },
   {
    "duration": 17,
    "start_time": "2022-06-05T10:28:50.220Z"
   },
   {
    "duration": 4,
    "start_time": "2022-06-05T10:28:50.239Z"
   },
   {
    "duration": 18,
    "start_time": "2022-06-05T10:28:50.245Z"
   },
   {
    "duration": 38,
    "start_time": "2022-06-05T10:28:50.265Z"
   },
   {
    "duration": 13,
    "start_time": "2022-06-05T10:28:50.304Z"
   },
   {
    "duration": 14,
    "start_time": "2022-06-05T10:28:50.319Z"
   },
   {
    "duration": 8,
    "start_time": "2022-06-05T10:28:50.335Z"
   },
   {
    "duration": 10,
    "start_time": "2022-06-05T10:28:50.345Z"
   },
   {
    "duration": 23,
    "start_time": "2022-06-05T10:28:50.392Z"
   },
   {
    "duration": 10,
    "start_time": "2022-06-05T10:28:50.417Z"
   },
   {
    "duration": 10,
    "start_time": "2022-06-05T10:28:50.429Z"
   },
   {
    "duration": 21,
    "start_time": "2022-06-05T10:28:50.441Z"
   },
   {
    "duration": 6,
    "start_time": "2022-06-05T10:28:50.490Z"
   },
   {
    "duration": 24,
    "start_time": "2022-06-05T10:28:50.497Z"
   },
   {
    "duration": 10,
    "start_time": "2022-06-05T10:28:50.523Z"
   },
   {
    "duration": 14,
    "start_time": "2022-06-05T10:28:50.535Z"
   },
   {
    "duration": 7,
    "start_time": "2022-06-05T10:28:50.551Z"
   },
   {
    "duration": 14,
    "start_time": "2022-06-05T10:28:50.590Z"
   },
   {
    "duration": 16,
    "start_time": "2022-06-05T10:29:05.195Z"
   },
   {
    "duration": 15,
    "start_time": "2022-06-05T10:29:16.194Z"
   },
   {
    "duration": 546,
    "start_time": "2022-06-05T10:29:20.884Z"
   },
   {
    "duration": 17,
    "start_time": "2022-06-05T10:29:21.432Z"
   },
   {
    "duration": 4,
    "start_time": "2022-06-05T10:29:21.450Z"
   },
   {
    "duration": 34,
    "start_time": "2022-06-05T10:29:21.456Z"
   },
   {
    "duration": 15,
    "start_time": "2022-06-05T10:29:21.492Z"
   },
   {
    "duration": 7,
    "start_time": "2022-06-05T10:29:21.509Z"
   },
   {
    "duration": 7,
    "start_time": "2022-06-05T10:29:21.518Z"
   },
   {
    "duration": 7,
    "start_time": "2022-06-05T10:29:21.527Z"
   },
   {
    "duration": 54,
    "start_time": "2022-06-05T10:29:21.536Z"
   },
   {
    "duration": 22,
    "start_time": "2022-06-05T10:29:21.594Z"
   },
   {
    "duration": 11,
    "start_time": "2022-06-05T10:29:21.618Z"
   },
   {
    "duration": 10,
    "start_time": "2022-06-05T10:29:21.630Z"
   },
   {
    "duration": 15,
    "start_time": "2022-06-05T10:29:21.642Z"
   },
   {
    "duration": 32,
    "start_time": "2022-06-05T10:29:21.659Z"
   },
   {
    "duration": 15,
    "start_time": "2022-06-05T10:29:21.693Z"
   },
   {
    "duration": 9,
    "start_time": "2022-06-05T10:29:21.710Z"
   },
   {
    "duration": 12,
    "start_time": "2022-06-05T10:29:21.721Z"
   },
   {
    "duration": 7,
    "start_time": "2022-06-05T10:29:21.734Z"
   },
   {
    "duration": 57,
    "start_time": "2022-06-05T10:29:21.743Z"
   },
   {
    "duration": 13,
    "start_time": "2022-06-05T10:30:08.093Z"
   },
   {
    "duration": 7,
    "start_time": "2022-06-05T10:30:48.848Z"
   },
   {
    "duration": 19,
    "start_time": "2022-06-05T10:31:06.709Z"
   },
   {
    "duration": 28,
    "start_time": "2022-06-05T10:31:34.016Z"
   },
   {
    "duration": 25,
    "start_time": "2022-06-05T10:34:52.567Z"
   },
   {
    "duration": 107,
    "start_time": "2022-06-05T10:35:12.522Z"
   },
   {
    "duration": 11,
    "start_time": "2022-06-05T10:35:27.344Z"
   },
   {
    "duration": 144,
    "start_time": "2022-06-05T10:35:32.722Z"
   },
   {
    "duration": 17,
    "start_time": "2022-06-05T10:35:52.785Z"
   },
   {
    "duration": 10,
    "start_time": "2022-06-05T10:37:29.051Z"
   },
   {
    "duration": 8,
    "start_time": "2022-06-05T10:40:42.475Z"
   },
   {
    "duration": 9,
    "start_time": "2022-06-05T10:48:09.056Z"
   },
   {
    "duration": 5,
    "start_time": "2022-06-05T10:48:33.755Z"
   },
   {
    "duration": 10,
    "start_time": "2022-06-05T10:48:40.618Z"
   },
   {
    "duration": 802,
    "start_time": "2022-06-05T10:50:25.905Z"
   },
   {
    "duration": 6,
    "start_time": "2022-06-05T10:52:04.305Z"
   },
   {
    "duration": 582,
    "start_time": "2022-06-05T10:52:12.164Z"
   },
   {
    "duration": 17,
    "start_time": "2022-06-05T10:52:12.748Z"
   },
   {
    "duration": 7,
    "start_time": "2022-06-05T10:52:12.767Z"
   },
   {
    "duration": 36,
    "start_time": "2022-06-05T10:52:12.776Z"
   },
   {
    "duration": 16,
    "start_time": "2022-06-05T10:52:12.815Z"
   },
   {
    "duration": 12,
    "start_time": "2022-06-05T10:52:12.833Z"
   },
   {
    "duration": 7,
    "start_time": "2022-06-05T10:52:12.847Z"
   },
   {
    "duration": 6,
    "start_time": "2022-06-05T10:52:12.855Z"
   },
   {
    "duration": 34,
    "start_time": "2022-06-05T10:52:12.862Z"
   },
   {
    "duration": 13,
    "start_time": "2022-06-05T10:52:12.898Z"
   },
   {
    "duration": 17,
    "start_time": "2022-06-05T10:52:12.912Z"
   },
   {
    "duration": 9,
    "start_time": "2022-06-05T10:52:12.930Z"
   },
   {
    "duration": 11,
    "start_time": "2022-06-05T10:52:12.940Z"
   },
   {
    "duration": 44,
    "start_time": "2022-06-05T10:52:12.954Z"
   },
   {
    "duration": 5,
    "start_time": "2022-06-05T10:52:13.004Z"
   },
   {
    "duration": 17,
    "start_time": "2022-06-05T10:52:13.010Z"
   },
   {
    "duration": 16,
    "start_time": "2022-06-05T10:52:13.029Z"
   },
   {
    "duration": 12,
    "start_time": "2022-06-05T10:52:13.047Z"
   },
   {
    "duration": 36,
    "start_time": "2022-06-05T10:52:13.060Z"
   },
   {
    "duration": 15,
    "start_time": "2022-06-05T10:52:13.097Z"
   },
   {
    "duration": 20,
    "start_time": "2022-06-05T10:52:13.113Z"
   },
   {
    "duration": 7,
    "start_time": "2022-06-05T10:52:13.134Z"
   },
   {
    "duration": 20,
    "start_time": "2022-06-05T10:52:13.142Z"
   },
   {
    "duration": 38,
    "start_time": "2022-06-05T10:52:13.164Z"
   },
   {
    "duration": 571,
    "start_time": "2022-06-05T10:52:13.204Z"
   },
   {
    "duration": 239,
    "start_time": "2022-06-05T10:53:50.907Z"
   },
   {
    "duration": 12,
    "start_time": "2022-06-05T10:54:26.582Z"
   },
   {
    "duration": 4,
    "start_time": "2022-06-05T10:56:10.940Z"
   },
   {
    "duration": 8,
    "start_time": "2022-06-05T10:56:12.499Z"
   },
   {
    "duration": 179,
    "start_time": "2022-06-05T10:58:28.743Z"
   },
   {
    "duration": 215,
    "start_time": "2022-06-05T10:59:04.740Z"
   },
   {
    "duration": 4,
    "start_time": "2022-06-05T10:59:34.701Z"
   },
   {
    "duration": 92,
    "start_time": "2022-06-05T10:59:48.689Z"
   },
   {
    "duration": 7,
    "start_time": "2022-06-05T10:59:55.638Z"
   },
   {
    "duration": 517,
    "start_time": "2022-06-05T11:00:12.937Z"
   },
   {
    "duration": 16,
    "start_time": "2022-06-05T11:00:13.456Z"
   },
   {
    "duration": 16,
    "start_time": "2022-06-05T11:00:13.474Z"
   },
   {
    "duration": 15,
    "start_time": "2022-06-05T11:00:13.492Z"
   },
   {
    "duration": 15,
    "start_time": "2022-06-05T11:00:13.508Z"
   },
   {
    "duration": 9,
    "start_time": "2022-06-05T11:00:13.524Z"
   },
   {
    "duration": 6,
    "start_time": "2022-06-05T11:00:13.535Z"
   },
   {
    "duration": 5,
    "start_time": "2022-06-05T11:00:13.543Z"
   },
   {
    "duration": 41,
    "start_time": "2022-06-05T11:00:13.550Z"
   },
   {
    "duration": 11,
    "start_time": "2022-06-05T11:00:13.594Z"
   },
   {
    "duration": 19,
    "start_time": "2022-06-05T11:00:13.608Z"
   },
   {
    "duration": 14,
    "start_time": "2022-06-05T11:00:13.629Z"
   },
   {
    "duration": 13,
    "start_time": "2022-06-05T11:00:13.645Z"
   },
   {
    "duration": 39,
    "start_time": "2022-06-05T11:00:13.660Z"
   },
   {
    "duration": 6,
    "start_time": "2022-06-05T11:00:13.701Z"
   },
   {
    "duration": 17,
    "start_time": "2022-06-05T11:00:13.709Z"
   },
   {
    "duration": 11,
    "start_time": "2022-06-05T11:00:13.728Z"
   },
   {
    "duration": 13,
    "start_time": "2022-06-05T11:00:13.741Z"
   },
   {
    "duration": 39,
    "start_time": "2022-06-05T11:00:13.756Z"
   },
   {
    "duration": 20,
    "start_time": "2022-06-05T11:00:13.797Z"
   },
   {
    "duration": 19,
    "start_time": "2022-06-05T11:00:13.819Z"
   },
   {
    "duration": 7,
    "start_time": "2022-06-05T11:00:13.840Z"
   },
   {
    "duration": 11,
    "start_time": "2022-06-05T11:00:13.849Z"
   },
   {
    "duration": 10,
    "start_time": "2022-06-05T11:00:13.889Z"
   },
   {
    "duration": 527,
    "start_time": "2022-06-05T11:00:13.901Z"
   },
   {
    "duration": 9,
    "start_time": "2022-06-05T11:00:14.430Z"
   },
   {
    "duration": 238,
    "start_time": "2022-06-05T11:00:14.441Z"
   },
   {
    "duration": 210,
    "start_time": "2022-06-05T11:01:45.096Z"
   },
   {
    "duration": 215,
    "start_time": "2022-06-05T11:01:57.695Z"
   },
   {
    "duration": 299,
    "start_time": "2022-06-05T11:02:00.591Z"
   },
   {
    "duration": 4,
    "start_time": "2022-06-05T11:03:52.990Z"
   },
   {
    "duration": 339,
    "start_time": "2022-06-05T11:03:54.640Z"
   },
   {
    "duration": 295,
    "start_time": "2022-06-05T11:04:04.645Z"
   },
   {
    "duration": 417,
    "start_time": "2022-06-05T11:13:38.114Z"
   },
   {
    "duration": 322,
    "start_time": "2022-06-05T11:13:55.614Z"
   },
   {
    "duration": 295,
    "start_time": "2022-06-05T11:14:09.207Z"
   },
   {
    "duration": 382,
    "start_time": "2022-06-05T11:14:21.034Z"
   },
   {
    "duration": 1545,
    "start_time": "2022-06-05T11:15:17.458Z"
   },
   {
    "duration": 1406,
    "start_time": "2022-06-05T11:15:29.105Z"
   },
   {
    "duration": 263,
    "start_time": "2022-06-05T11:16:21.183Z"
   },
   {
    "duration": 1375,
    "start_time": "2022-06-05T11:17:20.512Z"
   },
   {
    "duration": 1580,
    "start_time": "2022-06-05T11:18:17.405Z"
   },
   {
    "duration": 1385,
    "start_time": "2022-06-05T11:18:25.605Z"
   },
   {
    "duration": 1380,
    "start_time": "2022-06-05T11:18:33.299Z"
   },
   {
    "duration": 1669,
    "start_time": "2022-06-05T11:22:15.683Z"
   },
   {
    "duration": 1740,
    "start_time": "2022-06-05T11:24:49.405Z"
   },
   {
    "duration": 1771,
    "start_time": "2022-06-05T11:25:01.510Z"
   },
   {
    "duration": 1627,
    "start_time": "2022-06-05T11:25:11.117Z"
   },
   {
    "duration": 1595,
    "start_time": "2022-06-05T11:25:18.820Z"
   },
   {
    "duration": 1976,
    "start_time": "2022-06-05T11:25:30.361Z"
   },
   {
    "duration": 1724,
    "start_time": "2022-06-05T11:26:02.040Z"
   },
   {
    "duration": 12,
    "start_time": "2022-06-05T11:26:27.660Z"
   },
   {
    "duration": 9,
    "start_time": "2022-06-05T11:26:40.042Z"
   },
   {
    "duration": 10,
    "start_time": "2022-06-05T11:27:05.358Z"
   },
   {
    "duration": 89,
    "start_time": "2022-06-05T11:30:19.516Z"
   },
   {
    "duration": 1063,
    "start_time": "2022-06-05T11:30:26.856Z"
   },
   {
    "duration": 897,
    "start_time": "2022-06-05T11:30:42.809Z"
   },
   {
    "duration": 24,
    "start_time": "2022-06-05T11:30:43.710Z"
   },
   {
    "duration": 3,
    "start_time": "2022-06-05T11:30:43.736Z"
   },
   {
    "duration": 19,
    "start_time": "2022-06-05T11:30:43.741Z"
   },
   {
    "duration": 15,
    "start_time": "2022-06-05T11:30:43.762Z"
   },
   {
    "duration": 17,
    "start_time": "2022-06-05T11:30:43.793Z"
   },
   {
    "duration": 8,
    "start_time": "2022-06-05T11:30:43.812Z"
   },
   {
    "duration": 13,
    "start_time": "2022-06-05T11:30:43.822Z"
   },
   {
    "duration": 29,
    "start_time": "2022-06-05T11:30:43.837Z"
   },
   {
    "duration": 26,
    "start_time": "2022-06-05T11:30:43.868Z"
   },
   {
    "duration": 53,
    "start_time": "2022-06-05T11:30:43.896Z"
   },
   {
    "duration": 33,
    "start_time": "2022-06-05T11:30:43.951Z"
   },
   {
    "duration": 16,
    "start_time": "2022-06-05T11:30:43.987Z"
   },
   {
    "duration": 34,
    "start_time": "2022-06-05T11:30:44.007Z"
   },
   {
    "duration": 5,
    "start_time": "2022-06-05T11:30:44.044Z"
   },
   {
    "duration": 18,
    "start_time": "2022-06-05T11:30:44.052Z"
   },
   {
    "duration": 34,
    "start_time": "2022-06-05T11:30:44.071Z"
   },
   {
    "duration": 30,
    "start_time": "2022-06-05T11:30:44.108Z"
   },
   {
    "duration": 7,
    "start_time": "2022-06-05T11:30:44.139Z"
   },
   {
    "duration": 13,
    "start_time": "2022-06-05T11:30:44.148Z"
   },
   {
    "duration": 18,
    "start_time": "2022-06-05T11:30:44.162Z"
   },
   {
    "duration": 20,
    "start_time": "2022-06-05T11:30:44.181Z"
   },
   {
    "duration": 25,
    "start_time": "2022-06-05T11:30:44.203Z"
   },
   {
    "duration": 10,
    "start_time": "2022-06-05T11:30:44.230Z"
   },
   {
    "duration": 269,
    "start_time": "2022-06-05T11:30:44.242Z"
   },
   {
    "duration": 926,
    "start_time": "2022-06-05T11:30:44.520Z"
   },
   {
    "duration": 975,
    "start_time": "2022-06-05T11:31:50.392Z"
   },
   {
    "duration": 852,
    "start_time": "2022-06-05T11:34:39.944Z"
   },
   {
    "duration": 19,
    "start_time": "2022-06-05T11:42:03.604Z"
   },
   {
    "duration": 24,
    "start_time": "2022-06-05T11:42:28.444Z"
   },
   {
    "duration": 214,
    "start_time": "2022-06-05T11:43:10.450Z"
   },
   {
    "duration": 217,
    "start_time": "2022-06-05T11:49:14.346Z"
   },
   {
    "duration": 689,
    "start_time": "2022-06-05T11:52:07.504Z"
   },
   {
    "duration": 8,
    "start_time": "2022-06-05T11:52:19.791Z"
   },
   {
    "duration": 101,
    "start_time": "2022-06-05T11:52:40.896Z"
   },
   {
    "duration": 9,
    "start_time": "2022-06-05T11:52:43.679Z"
   },
   {
    "duration": 9,
    "start_time": "2022-06-05T11:53:48.123Z"
   },
   {
    "duration": 9,
    "start_time": "2022-06-05T11:54:04.399Z"
   },
   {
    "duration": 8,
    "start_time": "2022-06-05T11:54:52.655Z"
   },
   {
    "duration": 12,
    "start_time": "2022-06-05T11:54:58.319Z"
   },
   {
    "duration": 9,
    "start_time": "2022-06-05T11:55:03.951Z"
   },
   {
    "duration": 273,
    "start_time": "2022-06-05T11:56:56.710Z"
   },
   {
    "duration": 6,
    "start_time": "2022-06-05T11:57:08.917Z"
   },
   {
    "duration": 501,
    "start_time": "2022-06-05T11:57:23.403Z"
   },
   {
    "duration": 9,
    "start_time": "2022-06-05T11:57:42.118Z"
   },
   {
    "duration": 10,
    "start_time": "2022-06-05T11:59:08.751Z"
   },
   {
    "duration": 7,
    "start_time": "2022-06-05T11:59:56.927Z"
   },
   {
    "duration": 6,
    "start_time": "2022-06-05T12:00:09.888Z"
   },
   {
    "duration": 913,
    "start_time": "2022-06-05T12:00:21.788Z"
   },
   {
    "duration": 17,
    "start_time": "2022-06-05T12:00:22.703Z"
   },
   {
    "duration": 3,
    "start_time": "2022-06-05T12:00:22.722Z"
   },
   {
    "duration": 19,
    "start_time": "2022-06-05T12:00:22.727Z"
   },
   {
    "duration": 44,
    "start_time": "2022-06-05T12:00:22.748Z"
   },
   {
    "duration": 16,
    "start_time": "2022-06-05T12:00:22.795Z"
   },
   {
    "duration": 10,
    "start_time": "2022-06-05T12:00:22.814Z"
   },
   {
    "duration": 7,
    "start_time": "2022-06-05T12:00:22.827Z"
   },
   {
    "duration": 12,
    "start_time": "2022-06-05T12:00:22.835Z"
   },
   {
    "duration": 43,
    "start_time": "2022-06-05T12:00:22.849Z"
   },
   {
    "duration": 17,
    "start_time": "2022-06-05T12:00:22.894Z"
   },
   {
    "duration": 10,
    "start_time": "2022-06-05T12:00:22.913Z"
   },
   {
    "duration": 13,
    "start_time": "2022-06-05T12:00:22.924Z"
   },
   {
    "duration": 17,
    "start_time": "2022-06-05T12:00:22.940Z"
   },
   {
    "duration": 5,
    "start_time": "2022-06-05T12:00:22.989Z"
   },
   {
    "duration": 18,
    "start_time": "2022-06-05T12:00:22.996Z"
   },
   {
    "duration": 12,
    "start_time": "2022-06-05T12:00:23.016Z"
   },
   {
    "duration": 20,
    "start_time": "2022-06-05T12:00:23.029Z"
   },
   {
    "duration": 39,
    "start_time": "2022-06-05T12:00:23.051Z"
   },
   {
    "duration": 15,
    "start_time": "2022-06-05T12:00:23.092Z"
   },
   {
    "duration": 21,
    "start_time": "2022-06-05T12:00:23.108Z"
   },
   {
    "duration": 8,
    "start_time": "2022-06-05T12:00:23.131Z"
   },
   {
    "duration": 9,
    "start_time": "2022-06-05T12:00:23.141Z"
   },
   {
    "duration": 14,
    "start_time": "2022-06-05T12:00:23.191Z"
   },
   {
    "duration": 911,
    "start_time": "2022-06-05T12:00:23.208Z"
   },
   {
    "duration": 20,
    "start_time": "2022-06-05T12:00:24.120Z"
   },
   {
    "duration": 253,
    "start_time": "2022-06-05T12:00:24.142Z"
   },
   {
    "duration": 10,
    "start_time": "2022-06-05T12:00:24.396Z"
   },
   {
    "duration": 9,
    "start_time": "2022-06-05T12:00:24.408Z"
   },
   {
    "duration": 254,
    "start_time": "2022-06-05T12:00:24.419Z"
   },
   {
    "duration": 29,
    "start_time": "2022-06-05T12:00:41.491Z"
   },
   {
    "duration": 3648,
    "start_time": "2022-06-05T12:01:03.664Z"
   },
   {
    "duration": 3711,
    "start_time": "2022-06-05T12:02:30.462Z"
   },
   {
    "duration": 31,
    "start_time": "2022-06-05T12:04:13.018Z"
   },
   {
    "duration": 5862,
    "start_time": "2022-06-05T12:05:15.322Z"
   },
   {
    "duration": 6085,
    "start_time": "2022-06-05T12:07:38.490Z"
   },
   {
    "duration": 6521,
    "start_time": "2022-06-05T12:08:12.813Z"
   },
   {
    "duration": 9088,
    "start_time": "2022-06-05T12:08:43.126Z"
   },
   {
    "duration": 7471,
    "start_time": "2022-06-05T12:09:22.153Z"
   },
   {
    "duration": 6775,
    "start_time": "2022-06-05T12:15:20.128Z"
   },
   {
    "duration": 9855,
    "start_time": "2022-06-05T12:16:00.209Z"
   },
   {
    "duration": 5764,
    "start_time": "2022-06-05T12:18:43.618Z"
   },
   {
    "duration": 6497,
    "start_time": "2022-06-05T12:19:45.891Z"
   },
   {
    "duration": 6454,
    "start_time": "2022-06-05T12:19:53.962Z"
   },
   {
    "duration": 33,
    "start_time": "2022-06-05T12:21:43.563Z"
   },
   {
    "duration": 8124,
    "start_time": "2022-06-05T12:22:09.921Z"
   },
   {
    "duration": 8988,
    "start_time": "2022-06-05T12:22:36.429Z"
   },
   {
    "duration": 6652,
    "start_time": "2022-06-05T12:23:47.446Z"
   },
   {
    "duration": 6876,
    "start_time": "2022-06-05T12:24:07.004Z"
   },
   {
    "duration": 32,
    "start_time": "2022-06-05T12:25:03.907Z"
   },
   {
    "duration": 6299,
    "start_time": "2022-06-05T12:25:05.758Z"
   },
   {
    "duration": 45,
    "start_time": "2022-06-05T12:25:28.124Z"
   },
   {
    "duration": 6728,
    "start_time": "2022-06-05T12:25:41.205Z"
   },
   {
    "duration": 7460,
    "start_time": "2022-06-05T12:25:54.857Z"
   },
   {
    "duration": 12,
    "start_time": "2022-06-05T12:27:17.548Z"
   },
   {
    "duration": 37,
    "start_time": "2022-06-05T12:27:29.156Z"
   },
   {
    "duration": 9032,
    "start_time": "2022-06-05T12:27:30.919Z"
   },
   {
    "duration": 8801,
    "start_time": "2022-06-05T12:30:08.751Z"
   },
   {
    "duration": 11610,
    "start_time": "2022-06-05T12:31:00.593Z"
   },
   {
    "duration": 12836,
    "start_time": "2022-06-05T12:31:47.387Z"
   },
   {
    "duration": 11,
    "start_time": "2022-06-05T12:42:59.946Z"
   },
   {
    "duration": 22592,
    "start_time": "2022-06-05T12:44:35.801Z"
   },
   {
    "duration": 23325,
    "start_time": "2022-06-05T12:47:31.210Z"
   },
   {
    "duration": 20700,
    "start_time": "2022-06-05T12:48:38.226Z"
   },
   {
    "duration": 27,
    "start_time": "2022-06-05T12:50:04.209Z"
   },
   {
    "duration": 32,
    "start_time": "2022-06-05T12:50:36.947Z"
   },
   {
    "duration": 26,
    "start_time": "2022-06-05T12:50:55.979Z"
   },
   {
    "duration": 37,
    "start_time": "2022-06-05T12:51:19.699Z"
   },
   {
    "duration": 27,
    "start_time": "2022-06-05T12:51:29.958Z"
   },
   {
    "duration": 28,
    "start_time": "2022-06-05T12:51:36.681Z"
   },
   {
    "duration": 27,
    "start_time": "2022-06-05T12:51:40.777Z"
   },
   {
    "duration": 26,
    "start_time": "2022-06-05T12:51:44.625Z"
   },
   {
    "duration": 33,
    "start_time": "2022-06-05T12:51:48.488Z"
   },
   {
    "duration": 37,
    "start_time": "2022-06-05T12:51:51.744Z"
   },
   {
    "duration": 43,
    "start_time": "2022-06-05T12:51:58.861Z"
   },
   {
    "duration": 27,
    "start_time": "2022-06-05T12:52:04.902Z"
   },
   {
    "duration": 19,
    "start_time": "2022-06-05T12:52:17.905Z"
   },
   {
    "duration": 39,
    "start_time": "2022-06-05T12:52:30.284Z"
   },
   {
    "duration": 15324,
    "start_time": "2022-06-05T12:52:47.205Z"
   },
   {
    "duration": 7,
    "start_time": "2022-06-05T13:00:49.048Z"
   },
   {
    "duration": 14,
    "start_time": "2022-06-05T13:01:01.414Z"
   },
   {
    "duration": 21,
    "start_time": "2022-06-05T13:01:07.702Z"
   },
   {
    "duration": 12,
    "start_time": "2022-06-05T13:06:42.556Z"
   },
   {
    "duration": 921,
    "start_time": "2022-06-05T13:06:59.407Z"
   },
   {
    "duration": 71,
    "start_time": "2022-06-05T13:07:03.874Z"
   },
   {
    "duration": 18,
    "start_time": "2022-06-05T13:09:40.982Z"
   },
   {
    "duration": 18,
    "start_time": "2022-06-05T13:28:00.221Z"
   },
   {
    "duration": 20,
    "start_time": "2022-06-05T13:28:53.223Z"
   },
   {
    "duration": 502,
    "start_time": "2022-06-05T13:30:45.238Z"
   },
   {
    "duration": 16,
    "start_time": "2022-06-05T13:31:26.398Z"
   },
   {
    "duration": 525,
    "start_time": "2022-06-05T13:31:30.913Z"
   },
   {
    "duration": 564,
    "start_time": "2022-06-05T13:31:41.585Z"
   },
   {
    "duration": 676,
    "start_time": "2022-06-05T13:50:02.750Z"
   },
   {
    "duration": 700,
    "start_time": "2022-06-05T13:54:23.675Z"
   },
   {
    "duration": 775,
    "start_time": "2022-06-05T13:55:24.087Z"
   },
   {
    "duration": 658,
    "start_time": "2022-06-05T13:55:31.854Z"
   },
   {
    "duration": 696,
    "start_time": "2022-06-05T13:55:43.911Z"
   },
   {
    "duration": 821,
    "start_time": "2022-06-05T13:57:08.480Z"
   },
   {
    "duration": 788,
    "start_time": "2022-06-05T13:57:26.336Z"
   },
   {
    "duration": 810,
    "start_time": "2022-06-05T13:58:01.513Z"
   },
   {
    "duration": 732,
    "start_time": "2022-06-05T13:58:11.739Z"
   },
   {
    "duration": 752,
    "start_time": "2022-06-05T14:00:12.217Z"
   },
   {
    "duration": 613,
    "start_time": "2022-06-05T14:00:47.814Z"
   },
   {
    "duration": 1671,
    "start_time": "2022-06-05T14:01:08.259Z"
   },
   {
    "duration": 16,
    "start_time": "2022-06-05T14:01:09.933Z"
   },
   {
    "duration": 4,
    "start_time": "2022-06-05T14:01:09.952Z"
   },
   {
    "duration": 46,
    "start_time": "2022-06-05T14:01:09.958Z"
   },
   {
    "duration": 55,
    "start_time": "2022-06-05T14:01:10.007Z"
   },
   {
    "duration": 13,
    "start_time": "2022-06-05T14:01:10.064Z"
   },
   {
    "duration": 17,
    "start_time": "2022-06-05T14:01:10.079Z"
   },
   {
    "duration": 37,
    "start_time": "2022-06-05T14:01:10.102Z"
   },
   {
    "duration": 14,
    "start_time": "2022-06-05T14:01:10.141Z"
   },
   {
    "duration": 20,
    "start_time": "2022-06-05T14:01:10.157Z"
   },
   {
    "duration": 21,
    "start_time": "2022-06-05T14:01:10.180Z"
   },
   {
    "duration": 30,
    "start_time": "2022-06-05T14:01:10.203Z"
   },
   {
    "duration": 15,
    "start_time": "2022-06-05T14:01:10.235Z"
   },
   {
    "duration": 41,
    "start_time": "2022-06-05T14:01:10.255Z"
   },
   {
    "duration": 31,
    "start_time": "2022-06-05T14:01:10.302Z"
   },
   {
    "duration": 46,
    "start_time": "2022-06-05T14:01:10.335Z"
   },
   {
    "duration": 39,
    "start_time": "2022-06-05T14:01:10.383Z"
   },
   {
    "duration": 29,
    "start_time": "2022-06-05T14:01:10.425Z"
   },
   {
    "duration": 9,
    "start_time": "2022-06-05T14:01:10.457Z"
   },
   {
    "duration": 33,
    "start_time": "2022-06-05T14:01:10.467Z"
   },
   {
    "duration": 34,
    "start_time": "2022-06-05T14:01:10.505Z"
   },
   {
    "duration": 14,
    "start_time": "2022-06-05T14:01:10.541Z"
   },
   {
    "duration": 36,
    "start_time": "2022-06-05T14:01:10.559Z"
   },
   {
    "duration": 34,
    "start_time": "2022-06-05T14:01:10.601Z"
   },
   {
    "duration": 1071,
    "start_time": "2022-06-05T14:01:10.637Z"
   },
   {
    "duration": 21,
    "start_time": "2022-06-05T14:01:11.710Z"
   },
   {
    "duration": 325,
    "start_time": "2022-06-05T14:01:11.733Z"
   },
   {
    "duration": 13,
    "start_time": "2022-06-05T14:01:12.061Z"
   },
   {
    "duration": 68,
    "start_time": "2022-06-05T14:01:12.077Z"
   },
   {
    "duration": 13991,
    "start_time": "2022-06-05T14:01:12.148Z"
   },
   {
    "duration": 11,
    "start_time": "2022-06-05T14:01:26.141Z"
   },
   {
    "duration": 17069,
    "start_time": "2022-06-05T14:01:26.154Z"
   },
   {
    "duration": 25,
    "start_time": "2022-06-05T14:01:43.228Z"
   },
   {
    "duration": 731,
    "start_time": "2022-06-05T14:01:43.255Z"
   },
   {
    "duration": 15,
    "start_time": "2022-06-05T14:15:23.486Z"
   },
   {
    "duration": 811,
    "start_time": "2022-06-05T14:17:02.487Z"
   },
   {
    "duration": 216,
    "start_time": "2022-06-05T14:17:10.258Z"
   },
   {
    "duration": 257,
    "start_time": "2022-06-05T14:17:40.254Z"
   },
   {
    "duration": 187,
    "start_time": "2022-06-05T14:48:08.514Z"
   },
   {
    "duration": 186,
    "start_time": "2022-06-05T14:48:33.868Z"
   },
   {
    "duration": 175,
    "start_time": "2022-06-05T14:48:45.104Z"
   },
   {
    "duration": 168,
    "start_time": "2022-06-05T14:48:52.347Z"
   },
   {
    "duration": 150,
    "start_time": "2022-06-05T14:49:05.713Z"
   },
   {
    "duration": 166,
    "start_time": "2022-06-05T14:49:14.067Z"
   },
   {
    "duration": 204,
    "start_time": "2022-06-05T14:49:21.014Z"
   },
   {
    "duration": 162,
    "start_time": "2022-06-05T14:49:27.300Z"
   },
   {
    "duration": 173,
    "start_time": "2022-06-05T14:49:34.573Z"
   },
   {
    "duration": 177,
    "start_time": "2022-06-05T14:49:40.204Z"
   },
   {
    "duration": 149,
    "start_time": "2022-06-05T14:52:30.904Z"
   },
   {
    "duration": 153,
    "start_time": "2022-06-05T14:53:47.256Z"
   },
   {
    "duration": 185,
    "start_time": "2022-06-05T14:54:56.354Z"
   },
   {
    "duration": 172,
    "start_time": "2022-06-05T14:55:18.061Z"
   },
   {
    "duration": 235,
    "start_time": "2022-06-05T14:55:38.721Z"
   },
   {
    "duration": 175,
    "start_time": "2022-06-05T14:56:01.458Z"
   },
   {
    "duration": 164,
    "start_time": "2022-06-05T14:56:19.001Z"
   },
   {
    "duration": 169,
    "start_time": "2022-06-05T14:56:37.341Z"
   },
   {
    "duration": 177,
    "start_time": "2022-06-05T14:56:57.896Z"
   },
   {
    "duration": 161,
    "start_time": "2022-06-05T14:57:07.942Z"
   },
   {
    "duration": 181,
    "start_time": "2022-06-05T14:57:30.306Z"
   },
   {
    "duration": 162,
    "start_time": "2022-06-05T14:57:42.208Z"
   },
   {
    "duration": 147,
    "start_time": "2022-06-05T15:03:45.752Z"
   },
   {
    "duration": 143,
    "start_time": "2022-06-05T15:03:59.410Z"
   },
   {
    "duration": 185,
    "start_time": "2022-06-05T15:04:09.430Z"
   },
   {
    "duration": 175,
    "start_time": "2022-06-05T15:04:25.038Z"
   },
   {
    "duration": 153,
    "start_time": "2022-06-05T15:04:33.535Z"
   },
   {
    "duration": 162,
    "start_time": "2022-06-05T15:05:02.246Z"
   },
   {
    "duration": 148,
    "start_time": "2022-06-05T15:05:12.615Z"
   },
   {
    "duration": 155,
    "start_time": "2022-06-05T15:05:21.678Z"
   },
   {
    "duration": 161,
    "start_time": "2022-06-05T15:05:26.365Z"
   },
   {
    "duration": 144,
    "start_time": "2022-06-05T15:05:29.511Z"
   },
   {
    "duration": 153,
    "start_time": "2022-06-05T15:05:32.532Z"
   },
   {
    "duration": 156,
    "start_time": "2022-06-05T15:05:39.767Z"
   },
   {
    "duration": 151,
    "start_time": "2022-06-05T15:05:51.536Z"
   },
   {
    "duration": 171,
    "start_time": "2022-06-05T15:06:57.241Z"
   },
   {
    "duration": 17,
    "start_time": "2022-06-05T15:07:10.833Z"
   },
   {
    "duration": 20,
    "start_time": "2022-06-05T15:07:15.917Z"
   },
   {
    "duration": 177,
    "start_time": "2022-06-05T15:07:23.404Z"
   },
   {
    "duration": 2659,
    "start_time": "2022-06-05T15:15:10.046Z"
   },
   {
    "duration": 22,
    "start_time": "2022-06-05T15:15:32.624Z"
   },
   {
    "duration": 669,
    "start_time": "2022-06-05T15:15:37.476Z"
   },
   {
    "duration": 18,
    "start_time": "2022-06-05T15:16:41.741Z"
   },
   {
    "duration": 22,
    "start_time": "2022-06-05T15:17:00.347Z"
   },
   {
    "duration": 29,
    "start_time": "2022-06-05T15:18:41.906Z"
   },
   {
    "duration": 36,
    "start_time": "2022-06-05T15:20:49.067Z"
   },
   {
    "duration": 36,
    "start_time": "2022-06-05T15:21:02.904Z"
   },
   {
    "duration": 33,
    "start_time": "2022-06-05T15:21:53.990Z"
   },
   {
    "duration": 172,
    "start_time": "2022-06-05T15:22:05.674Z"
   },
   {
    "duration": 35,
    "start_time": "2022-06-05T15:23:03.471Z"
   },
   {
    "duration": 9,
    "start_time": "2022-06-05T15:23:12.724Z"
   },
   {
    "duration": 13,
    "start_time": "2022-06-05T15:23:25.319Z"
   },
   {
    "duration": 707,
    "start_time": "2022-06-05T15:23:36.799Z"
   },
   {
    "duration": 38,
    "start_time": "2022-06-05T15:25:39.128Z"
   },
   {
    "duration": 674,
    "start_time": "2022-06-05T15:25:51.648Z"
   },
   {
    "duration": 637,
    "start_time": "2022-06-05T15:25:57.271Z"
   },
   {
    "duration": 3605,
    "start_time": "2022-06-05T15:26:10.016Z"
   },
   {
    "duration": 659,
    "start_time": "2022-06-05T15:26:54.353Z"
   },
   {
    "duration": 1854,
    "start_time": "2022-06-05T15:27:02.821Z"
   },
   {
    "duration": 708,
    "start_time": "2022-06-05T15:27:10.407Z"
   },
   {
    "duration": 1708,
    "start_time": "2022-06-05T15:27:23.992Z"
   },
   {
    "duration": 122,
    "start_time": "2022-06-05T15:28:49.445Z"
   },
   {
    "duration": 8,
    "start_time": "2022-06-05T15:29:00.832Z"
   },
   {
    "duration": 17,
    "start_time": "2022-06-05T15:29:22.777Z"
   },
   {
    "duration": 6,
    "start_time": "2022-06-05T15:29:56.208Z"
   },
   {
    "duration": 14,
    "start_time": "2022-06-05T15:29:58.526Z"
   },
   {
    "duration": 1384,
    "start_time": "2022-06-05T15:30:18.187Z"
   },
   {
    "duration": 15,
    "start_time": "2022-06-05T15:30:19.573Z"
   },
   {
    "duration": 4,
    "start_time": "2022-06-05T15:30:19.590Z"
   },
   {
    "duration": 21,
    "start_time": "2022-06-05T15:30:19.595Z"
   },
   {
    "duration": 15,
    "start_time": "2022-06-05T15:30:19.618Z"
   },
   {
    "duration": 11,
    "start_time": "2022-06-05T15:30:19.635Z"
   },
   {
    "duration": 6,
    "start_time": "2022-06-05T15:30:19.648Z"
   },
   {
    "duration": 34,
    "start_time": "2022-06-05T15:30:19.656Z"
   },
   {
    "duration": 9,
    "start_time": "2022-06-05T15:30:19.692Z"
   },
   {
    "duration": 158,
    "start_time": "2022-06-05T15:30:19.703Z"
   },
   {
    "duration": 0,
    "start_time": "2022-06-05T15:30:19.864Z"
   },
   {
    "duration": 0,
    "start_time": "2022-06-05T15:30:19.866Z"
   },
   {
    "duration": 0,
    "start_time": "2022-06-05T15:30:19.867Z"
   },
   {
    "duration": 0,
    "start_time": "2022-06-05T15:30:19.868Z"
   },
   {
    "duration": 0,
    "start_time": "2022-06-05T15:30:19.869Z"
   },
   {
    "duration": 0,
    "start_time": "2022-06-05T15:30:19.870Z"
   },
   {
    "duration": 0,
    "start_time": "2022-06-05T15:30:19.871Z"
   },
   {
    "duration": 0,
    "start_time": "2022-06-05T15:30:19.872Z"
   },
   {
    "duration": 0,
    "start_time": "2022-06-05T15:30:19.892Z"
   },
   {
    "duration": 0,
    "start_time": "2022-06-05T15:30:19.894Z"
   },
   {
    "duration": 0,
    "start_time": "2022-06-05T15:30:19.896Z"
   },
   {
    "duration": 0,
    "start_time": "2022-06-05T15:30:19.897Z"
   },
   {
    "duration": 0,
    "start_time": "2022-06-05T15:30:19.898Z"
   },
   {
    "duration": 0,
    "start_time": "2022-06-05T15:30:19.900Z"
   },
   {
    "duration": 0,
    "start_time": "2022-06-05T15:30:19.902Z"
   },
   {
    "duration": 0,
    "start_time": "2022-06-05T15:30:19.904Z"
   },
   {
    "duration": 0,
    "start_time": "2022-06-05T15:30:19.905Z"
   },
   {
    "duration": 0,
    "start_time": "2022-06-05T15:30:19.907Z"
   },
   {
    "duration": 0,
    "start_time": "2022-06-05T15:30:19.909Z"
   },
   {
    "duration": 0,
    "start_time": "2022-06-05T15:30:19.911Z"
   },
   {
    "duration": 0,
    "start_time": "2022-06-05T15:30:19.912Z"
   },
   {
    "duration": 0,
    "start_time": "2022-06-05T15:30:19.913Z"
   },
   {
    "duration": 0,
    "start_time": "2022-06-05T15:30:19.915Z"
   },
   {
    "duration": 0,
    "start_time": "2022-06-05T15:30:19.918Z"
   },
   {
    "duration": 0,
    "start_time": "2022-06-05T15:30:19.919Z"
   },
   {
    "duration": 0,
    "start_time": "2022-06-05T15:30:19.921Z"
   },
   {
    "duration": 0,
    "start_time": "2022-06-05T15:30:19.923Z"
   },
   {
    "duration": 0,
    "start_time": "2022-06-05T15:30:19.925Z"
   },
   {
    "duration": 0,
    "start_time": "2022-06-05T15:30:19.926Z"
   },
   {
    "duration": 0,
    "start_time": "2022-06-05T15:30:19.927Z"
   },
   {
    "duration": 0,
    "start_time": "2022-06-05T15:30:19.928Z"
   },
   {
    "duration": 0,
    "start_time": "2022-06-05T15:30:19.929Z"
   },
   {
    "duration": 0,
    "start_time": "2022-06-05T15:30:19.930Z"
   },
   {
    "duration": 0,
    "start_time": "2022-06-05T15:30:19.991Z"
   },
   {
    "duration": 0,
    "start_time": "2022-06-05T15:30:19.992Z"
   },
   {
    "duration": 1,
    "start_time": "2022-06-05T15:30:19.993Z"
   },
   {
    "duration": 0,
    "start_time": "2022-06-05T15:30:19.994Z"
   },
   {
    "duration": 0,
    "start_time": "2022-06-05T15:30:19.995Z"
   },
   {
    "duration": 1448,
    "start_time": "2022-06-05T15:31:00.772Z"
   },
   {
    "duration": 16,
    "start_time": "2022-06-05T15:31:02.222Z"
   },
   {
    "duration": 3,
    "start_time": "2022-06-05T15:31:02.240Z"
   },
   {
    "duration": 25,
    "start_time": "2022-06-05T15:31:02.245Z"
   },
   {
    "duration": 42,
    "start_time": "2022-06-05T15:31:02.272Z"
   },
   {
    "duration": 16,
    "start_time": "2022-06-05T15:31:02.316Z"
   },
   {
    "duration": 21,
    "start_time": "2022-06-05T15:31:02.333Z"
   },
   {
    "duration": 20,
    "start_time": "2022-06-05T15:31:02.356Z"
   },
   {
    "duration": 7,
    "start_time": "2022-06-05T15:31:02.377Z"
   },
   {
    "duration": 29,
    "start_time": "2022-06-05T15:31:02.389Z"
   },
   {
    "duration": 26,
    "start_time": "2022-06-05T15:31:02.420Z"
   },
   {
    "duration": 20,
    "start_time": "2022-06-05T15:31:02.449Z"
   },
   {
    "duration": 17,
    "start_time": "2022-06-05T15:31:02.471Z"
   },
   {
    "duration": 22,
    "start_time": "2022-06-05T15:31:02.491Z"
   },
   {
    "duration": 23,
    "start_time": "2022-06-05T15:31:02.515Z"
   },
   {
    "duration": 5,
    "start_time": "2022-06-05T15:31:02.540Z"
   },
   {
    "duration": 25,
    "start_time": "2022-06-05T15:31:02.547Z"
   },
   {
    "duration": 21,
    "start_time": "2022-06-05T15:31:02.574Z"
   },
   {
    "duration": 19,
    "start_time": "2022-06-05T15:31:02.597Z"
   },
   {
    "duration": 59,
    "start_time": "2022-06-05T15:31:02.618Z"
   },
   {
    "duration": 15,
    "start_time": "2022-06-05T15:31:02.679Z"
   },
   {
    "duration": 14,
    "start_time": "2022-06-05T15:31:02.696Z"
   },
   {
    "duration": 22,
    "start_time": "2022-06-05T15:31:02.713Z"
   },
   {
    "duration": 7,
    "start_time": "2022-06-05T15:31:02.736Z"
   },
   {
    "duration": 10,
    "start_time": "2022-06-05T15:31:02.745Z"
   },
   {
    "duration": 10,
    "start_time": "2022-06-05T15:31:02.757Z"
   },
   {
    "duration": 1058,
    "start_time": "2022-06-05T15:31:02.789Z"
   },
   {
    "duration": 18,
    "start_time": "2022-06-05T15:31:03.851Z"
   },
   {
    "duration": 272,
    "start_time": "2022-06-05T15:31:03.871Z"
   },
   {
    "duration": 8,
    "start_time": "2022-06-05T15:31:04.145Z"
   },
   {
    "duration": 61,
    "start_time": "2022-06-05T15:31:04.155Z"
   },
   {
    "duration": 11883,
    "start_time": "2022-06-05T15:31:04.219Z"
   },
   {
    "duration": 12,
    "start_time": "2022-06-05T15:31:16.104Z"
   },
   {
    "duration": 14630,
    "start_time": "2022-06-05T15:31:16.117Z"
   },
   {
    "duration": 26,
    "start_time": "2022-06-05T15:31:30.749Z"
   },
   {
    "duration": 637,
    "start_time": "2022-06-05T15:31:30.789Z"
   },
   {
    "duration": 8,
    "start_time": "2022-06-05T15:31:31.428Z"
   },
   {
    "duration": 212,
    "start_time": "2022-06-05T15:31:31.438Z"
   },
   {
    "duration": 195,
    "start_time": "2022-06-05T15:31:31.652Z"
   },
   {
    "duration": 205,
    "start_time": "2022-06-05T15:31:31.850Z"
   },
   {
    "duration": 180,
    "start_time": "2022-06-05T15:31:32.057Z"
   },
   {
    "duration": 196,
    "start_time": "2022-06-05T15:31:32.238Z"
   },
   {
    "duration": 178,
    "start_time": "2022-06-05T15:31:32.435Z"
   },
   {
    "duration": 186,
    "start_time": "2022-06-05T15:31:32.615Z"
   },
   {
    "duration": 172,
    "start_time": "2022-06-05T15:31:32.804Z"
   },
   {
    "duration": 15,
    "start_time": "2022-06-05T15:31:32.978Z"
   },
   {
    "duration": 723,
    "start_time": "2022-06-05T15:31:32.995Z"
   },
   {
    "duration": 717,
    "start_time": "2022-06-05T15:31:33.720Z"
   },
   {
    "duration": 701,
    "start_time": "2022-06-05T15:32:15.751Z"
   },
   {
    "duration": 8,
    "start_time": "2022-06-05T15:34:26.657Z"
   },
   {
    "duration": 1625,
    "start_time": "2022-06-06T08:30:07.153Z"
   },
   {
    "duration": 15,
    "start_time": "2022-06-06T08:30:08.781Z"
   },
   {
    "duration": 3,
    "start_time": "2022-06-06T08:30:08.798Z"
   },
   {
    "duration": 17,
    "start_time": "2022-06-06T08:30:08.802Z"
   },
   {
    "duration": 15,
    "start_time": "2022-06-06T08:30:08.821Z"
   },
   {
    "duration": 13,
    "start_time": "2022-06-06T08:30:08.837Z"
   },
   {
    "duration": 6,
    "start_time": "2022-06-06T08:30:08.851Z"
   },
   {
    "duration": 31,
    "start_time": "2022-06-06T08:30:08.859Z"
   },
   {
    "duration": 7,
    "start_time": "2022-06-06T08:30:08.892Z"
   },
   {
    "duration": 14,
    "start_time": "2022-06-06T08:30:08.900Z"
   },
   {
    "duration": 10,
    "start_time": "2022-06-06T08:30:08.916Z"
   },
   {
    "duration": 17,
    "start_time": "2022-06-06T08:30:08.928Z"
   },
   {
    "duration": 19,
    "start_time": "2022-06-06T08:30:08.947Z"
   },
   {
    "duration": 9,
    "start_time": "2022-06-06T08:30:08.989Z"
   },
   {
    "duration": 16,
    "start_time": "2022-06-06T08:30:09.000Z"
   },
   {
    "duration": 6,
    "start_time": "2022-06-06T08:30:09.017Z"
   },
   {
    "duration": 18,
    "start_time": "2022-06-06T08:30:09.024Z"
   },
   {
    "duration": 11,
    "start_time": "2022-06-06T08:30:09.044Z"
   },
   {
    "duration": 44,
    "start_time": "2022-06-06T08:30:09.057Z"
   },
   {
    "duration": 8,
    "start_time": "2022-06-06T08:30:09.103Z"
   },
   {
    "duration": 15,
    "start_time": "2022-06-06T08:30:09.113Z"
   },
   {
    "duration": 5,
    "start_time": "2022-06-06T08:30:09.130Z"
   },
   {
    "duration": 23,
    "start_time": "2022-06-06T08:30:09.136Z"
   },
   {
    "duration": 35,
    "start_time": "2022-06-06T08:30:09.160Z"
   },
   {
    "duration": 9,
    "start_time": "2022-06-06T08:30:09.197Z"
   },
   {
    "duration": 12,
    "start_time": "2022-06-06T08:30:09.208Z"
   },
   {
    "duration": 970,
    "start_time": "2022-06-06T08:30:09.222Z"
   },
   {
    "duration": 19,
    "start_time": "2022-06-06T08:30:10.194Z"
   },
   {
    "duration": 242,
    "start_time": "2022-06-06T08:30:10.215Z"
   },
   {
    "duration": 8,
    "start_time": "2022-06-06T08:30:10.459Z"
   },
   {
    "duration": 56,
    "start_time": "2022-06-06T08:30:10.469Z"
   },
   {
    "duration": 11258,
    "start_time": "2022-06-06T08:30:10.526Z"
   },
   {
    "duration": 9,
    "start_time": "2022-06-06T08:30:21.786Z"
   },
   {
    "duration": 13547,
    "start_time": "2022-06-06T08:30:21.797Z"
   },
   {
    "duration": 18,
    "start_time": "2022-06-06T08:30:35.346Z"
   },
   {
    "duration": 613,
    "start_time": "2022-06-06T08:30:35.366Z"
   },
   {
    "duration": 10,
    "start_time": "2022-06-06T08:30:35.980Z"
   },
   {
    "duration": 178,
    "start_time": "2022-06-06T08:30:35.992Z"
   },
   {
    "duration": 174,
    "start_time": "2022-06-06T08:30:36.171Z"
   },
   {
    "duration": 159,
    "start_time": "2022-06-06T08:30:36.346Z"
   },
   {
    "duration": 158,
    "start_time": "2022-06-06T08:30:36.508Z"
   },
   {
    "duration": 164,
    "start_time": "2022-06-06T08:30:36.667Z"
   },
   {
    "duration": 161,
    "start_time": "2022-06-06T08:30:36.832Z"
   },
   {
    "duration": 166,
    "start_time": "2022-06-06T08:30:36.994Z"
   },
   {
    "duration": 160,
    "start_time": "2022-06-06T08:30:37.162Z"
   },
   {
    "duration": 9,
    "start_time": "2022-06-06T08:30:37.323Z"
   },
   {
    "duration": 651,
    "start_time": "2022-06-06T08:30:37.333Z"
   },
   {
    "duration": 1047,
    "start_time": "2022-06-06T08:30:37.986Z"
   },
   {
    "duration": 56,
    "start_time": "2022-06-06T08:30:39.035Z"
   },
   {
    "duration": 6,
    "start_time": "2022-06-06T08:30:50.982Z"
   },
   {
    "duration": 8,
    "start_time": "2022-06-06T08:31:47.374Z"
   },
   {
    "duration": 9,
    "start_time": "2022-06-06T08:33:11.876Z"
   },
   {
    "duration": 11,
    "start_time": "2022-06-06T08:33:26.654Z"
   },
   {
    "duration": 11,
    "start_time": "2022-06-06T08:33:45.844Z"
   },
   {
    "duration": 11,
    "start_time": "2022-06-06T08:34:31.363Z"
   },
   {
    "duration": 14,
    "start_time": "2022-06-06T08:35:23.507Z"
   },
   {
    "duration": 11,
    "start_time": "2022-06-06T08:36:15.403Z"
   },
   {
    "duration": 10,
    "start_time": "2022-06-06T08:36:34.202Z"
   },
   {
    "duration": 161,
    "start_time": "2022-06-06T08:37:39.846Z"
   },
   {
    "duration": 147,
    "start_time": "2022-06-06T08:37:47.170Z"
   },
   {
    "duration": 12460,
    "start_time": "2022-06-06T08:38:02.561Z"
   },
   {
    "duration": 149,
    "start_time": "2022-06-06T08:42:48.164Z"
   },
   {
    "duration": 5,
    "start_time": "2022-06-06T08:43:00.213Z"
   },
   {
    "duration": 29,
    "start_time": "2022-06-06T08:43:19.509Z"
   },
   {
    "duration": 147,
    "start_time": "2022-06-06T08:46:40.060Z"
   },
   {
    "duration": 7,
    "start_time": "2022-06-06T08:48:05.430Z"
   },
   {
    "duration": 6,
    "start_time": "2022-06-06T08:48:10.073Z"
   },
   {
    "duration": 32,
    "start_time": "2022-06-06T08:49:03.048Z"
   },
   {
    "duration": 7,
    "start_time": "2022-06-06T08:49:06.648Z"
   },
   {
    "duration": 151,
    "start_time": "2022-06-06T08:50:14.896Z"
   },
   {
    "duration": 8,
    "start_time": "2022-06-06T08:51:00.552Z"
   },
   {
    "duration": 8,
    "start_time": "2022-06-06T08:51:12.640Z"
   },
   {
    "duration": 8,
    "start_time": "2022-06-06T08:51:28.549Z"
   },
   {
    "duration": 156,
    "start_time": "2022-06-06T08:51:41.086Z"
   },
   {
    "duration": 195,
    "start_time": "2022-06-06T08:52:44.509Z"
   },
   {
    "duration": 254,
    "start_time": "2022-06-06T08:53:10.358Z"
   },
   {
    "duration": 230,
    "start_time": "2022-06-06T08:53:15.813Z"
   },
   {
    "duration": 6,
    "start_time": "2022-06-06T08:53:51.085Z"
   },
   {
    "duration": 247,
    "start_time": "2022-06-06T08:54:03.812Z"
   },
   {
    "duration": 261,
    "start_time": "2022-06-06T08:54:12.308Z"
   },
   {
    "duration": 243,
    "start_time": "2022-06-06T08:54:21.564Z"
   },
   {
    "duration": 96,
    "start_time": "2022-06-06T08:56:50.556Z"
   },
   {
    "duration": 26,
    "start_time": "2022-06-06T08:57:05.186Z"
   },
   {
    "duration": 23,
    "start_time": "2022-06-06T08:57:29.491Z"
   },
   {
    "duration": 22,
    "start_time": "2022-06-06T08:57:35.714Z"
   },
   {
    "duration": 32,
    "start_time": "2022-06-06T08:59:38.481Z"
   },
   {
    "duration": 24,
    "start_time": "2022-06-06T08:59:55.400Z"
   },
   {
    "duration": 23,
    "start_time": "2022-06-06T09:01:02.511Z"
   },
   {
    "duration": 241,
    "start_time": "2022-06-06T09:02:46.301Z"
   },
   {
    "duration": 637,
    "start_time": "2022-06-06T09:07:05.974Z"
   },
   {
    "duration": 18,
    "start_time": "2022-06-06T09:07:30.594Z"
   },
   {
    "duration": 4179,
    "start_time": "2022-06-06T09:07:40.393Z"
   },
   {
    "duration": 7852,
    "start_time": "2022-06-06T09:09:11.175Z"
   },
   {
    "duration": 24,
    "start_time": "2022-06-06T09:12:05.605Z"
   },
   {
    "duration": 20,
    "start_time": "2022-06-06T09:12:18.678Z"
   },
   {
    "duration": 20,
    "start_time": "2022-06-06T09:13:17.365Z"
   },
   {
    "duration": 4259,
    "start_time": "2022-06-06T09:14:17.680Z"
   },
   {
    "duration": 4119,
    "start_time": "2022-06-06T09:14:44.866Z"
   },
   {
    "duration": 4115,
    "start_time": "2022-06-06T09:14:54.715Z"
   },
   {
    "duration": 3950,
    "start_time": "2022-06-06T09:15:52.834Z"
   },
   {
    "duration": 20,
    "start_time": "2022-06-06T09:17:37.817Z"
   },
   {
    "duration": 4142,
    "start_time": "2022-06-06T09:17:46.904Z"
   },
   {
    "duration": 3941,
    "start_time": "2022-06-06T09:18:12.878Z"
   },
   {
    "duration": 3960,
    "start_time": "2022-06-06T09:18:50.967Z"
   },
   {
    "duration": 3893,
    "start_time": "2022-06-06T09:19:39.641Z"
   },
   {
    "duration": 32,
    "start_time": "2022-06-06T09:22:03.798Z"
   },
   {
    "duration": 23,
    "start_time": "2022-06-06T09:22:52.466Z"
   },
   {
    "duration": 558,
    "start_time": "2022-06-06T09:25:55.156Z"
   },
   {
    "duration": 487,
    "start_time": "2022-06-06T09:26:05.802Z"
   },
   {
    "duration": 507,
    "start_time": "2022-06-06T09:26:15.722Z"
   },
   {
    "duration": 681,
    "start_time": "2022-06-06T09:26:21.562Z"
   },
   {
    "duration": 6,
    "start_time": "2022-06-06T09:28:15.489Z"
   },
   {
    "duration": 30,
    "start_time": "2022-06-06T09:30:11.224Z"
   },
   {
    "duration": 1350,
    "start_time": "2022-06-06T09:30:17.880Z"
   },
   {
    "duration": 1492,
    "start_time": "2022-06-06T09:31:00.335Z"
   },
   {
    "duration": 1615,
    "start_time": "2022-06-06T09:31:27.504Z"
   },
   {
    "duration": 1499,
    "start_time": "2022-06-06T09:32:20.287Z"
   },
   {
    "duration": 1247,
    "start_time": "2022-06-06T09:32:46.383Z"
   },
   {
    "duration": 142,
    "start_time": "2022-06-06T09:36:02.171Z"
   },
   {
    "duration": 142,
    "start_time": "2022-06-06T09:41:31.634Z"
   },
   {
    "duration": 28,
    "start_time": "2022-06-06T09:42:12.105Z"
   },
   {
    "duration": 6,
    "start_time": "2022-06-06T09:43:19.536Z"
   },
   {
    "duration": 5,
    "start_time": "2022-06-06T10:13:56.905Z"
   },
   {
    "duration": 9,
    "start_time": "2022-06-06T10:14:11.941Z"
   },
   {
    "duration": 8,
    "start_time": "2022-06-06T10:14:39.257Z"
   },
   {
    "duration": 16,
    "start_time": "2022-06-06T10:14:59.556Z"
   },
   {
    "duration": 32,
    "start_time": "2022-06-06T10:15:40.161Z"
   },
   {
    "duration": 10,
    "start_time": "2022-06-06T10:16:49.510Z"
   },
   {
    "duration": 9,
    "start_time": "2022-06-06T10:16:58.208Z"
   },
   {
    "duration": 382,
    "start_time": "2022-06-06T10:17:06.591Z"
   },
   {
    "duration": 10,
    "start_time": "2022-06-06T10:19:25.740Z"
   },
   {
    "duration": 33214,
    "start_time": "2022-06-06T10:19:33.029Z"
   },
   {
    "duration": 7,
    "start_time": "2022-06-06T10:21:12.569Z"
   },
   {
    "duration": 8,
    "start_time": "2022-06-06T10:22:24.365Z"
   },
   {
    "duration": 12,
    "start_time": "2022-06-06T10:22:37.835Z"
   },
   {
    "duration": 12,
    "start_time": "2022-06-06T10:22:41.369Z"
   },
   {
    "duration": 5,
    "start_time": "2022-06-06T10:22:53.914Z"
   },
   {
    "duration": 7,
    "start_time": "2022-06-06T10:23:37.730Z"
   },
   {
    "duration": 32509,
    "start_time": "2022-06-06T10:23:44.817Z"
   },
   {
    "duration": 133,
    "start_time": "2022-06-06T10:31:55.739Z"
   },
   {
    "duration": 16891,
    "start_time": "2022-06-06T10:33:03.735Z"
   },
   {
    "duration": 21348,
    "start_time": "2022-06-06T10:33:57.687Z"
   },
   {
    "duration": 3432,
    "start_time": "2022-06-06T10:34:26.474Z"
   },
   {
    "duration": 4002,
    "start_time": "2022-06-06T10:34:48.529Z"
   },
   {
    "duration": 139,
    "start_time": "2022-06-06T10:35:00.167Z"
   },
   {
    "duration": 10,
    "start_time": "2022-06-06T11:19:10.053Z"
   },
   {
    "duration": 158,
    "start_time": "2022-06-06T11:19:15.853Z"
   },
   {
    "duration": 141,
    "start_time": "2022-06-06T11:19:33.214Z"
   },
   {
    "duration": 7,
    "start_time": "2022-06-06T11:19:38.702Z"
   },
   {
    "duration": 9,
    "start_time": "2022-06-06T11:19:50.548Z"
   },
   {
    "duration": 132,
    "start_time": "2022-06-06T11:19:53.613Z"
   },
   {
    "duration": 130,
    "start_time": "2022-06-06T11:19:58.061Z"
   },
   {
    "duration": 22,
    "start_time": "2022-06-06T11:28:27.784Z"
   },
   {
    "duration": 3,
    "start_time": "2022-06-06T11:29:31.720Z"
   },
   {
    "duration": 4,
    "start_time": "2022-06-06T11:29:49.470Z"
   },
   {
    "duration": 200,
    "start_time": "2022-06-06T11:30:10.277Z"
   },
   {
    "duration": 225,
    "start_time": "2022-06-06T11:31:04.075Z"
   },
   {
    "duration": 198,
    "start_time": "2022-06-06T11:31:14.174Z"
   },
   {
    "duration": 4,
    "start_time": "2022-06-06T11:31:46.973Z"
   },
   {
    "duration": 238,
    "start_time": "2022-06-06T11:31:58.422Z"
   },
   {
    "duration": 9,
    "start_time": "2022-06-06T11:34:53.020Z"
   },
   {
    "duration": 10,
    "start_time": "2022-06-06T11:35:14.604Z"
   },
   {
    "duration": 9,
    "start_time": "2022-06-06T11:35:34.978Z"
   },
   {
    "duration": 11,
    "start_time": "2022-06-06T11:36:30.019Z"
   },
   {
    "duration": 88,
    "start_time": "2022-06-06T11:36:54.091Z"
   },
   {
    "duration": 6,
    "start_time": "2022-06-06T11:37:01.689Z"
   },
   {
    "duration": 5,
    "start_time": "2022-06-06T11:37:35.481Z"
   },
   {
    "duration": 5,
    "start_time": "2022-06-06T11:37:52.033Z"
   },
   {
    "duration": 4,
    "start_time": "2022-06-06T11:41:05.871Z"
   },
   {
    "duration": 182,
    "start_time": "2022-06-06T11:41:23.535Z"
   },
   {
    "duration": 9,
    "start_time": "2022-06-06T11:41:35.871Z"
   },
   {
    "duration": 4,
    "start_time": "2022-06-06T11:42:01.174Z"
   },
   {
    "duration": 174,
    "start_time": "2022-06-06T11:42:12.910Z"
   },
   {
    "duration": 12,
    "start_time": "2022-06-06T11:42:32.397Z"
   },
   {
    "duration": 6,
    "start_time": "2022-06-06T11:42:59.966Z"
   },
   {
    "duration": 343,
    "start_time": "2022-06-06T11:46:10.514Z"
   },
   {
    "duration": 385,
    "start_time": "2022-06-06T11:46:34.142Z"
   },
   {
    "duration": 20,
    "start_time": "2022-06-06T11:51:13.110Z"
   },
   {
    "duration": 380,
    "start_time": "2022-06-06T11:51:37.150Z"
   },
   {
    "duration": 1081,
    "start_time": "2022-06-06T11:53:06.700Z"
   },
   {
    "duration": 3994,
    "start_time": "2022-06-06T11:54:51.498Z"
   },
   {
    "duration": 4564,
    "start_time": "2022-06-06T11:55:33.779Z"
   },
   {
    "duration": 4138,
    "start_time": "2022-06-06T11:55:59.112Z"
   },
   {
    "duration": 4411,
    "start_time": "2022-06-06T11:56:27.913Z"
   },
   {
    "duration": 3512,
    "start_time": "2022-06-06T11:56:56.696Z"
   },
   {
    "duration": 291,
    "start_time": "2022-06-06T12:00:27.890Z"
   },
   {
    "duration": 315,
    "start_time": "2022-06-06T12:01:15.919Z"
   },
   {
    "duration": 251,
    "start_time": "2022-06-06T12:01:47.613Z"
   },
   {
    "duration": 258,
    "start_time": "2022-06-06T12:04:04.819Z"
   },
   {
    "duration": 1104,
    "start_time": "2022-06-06T12:04:41.052Z"
   },
   {
    "duration": 318,
    "start_time": "2022-06-06T12:04:51.385Z"
   },
   {
    "duration": 273,
    "start_time": "2022-06-06T12:05:09.490Z"
   },
   {
    "duration": 264,
    "start_time": "2022-06-06T12:05:24.278Z"
   },
   {
    "duration": 248,
    "start_time": "2022-06-06T12:05:41.705Z"
   },
   {
    "duration": 12619,
    "start_time": "2022-06-06T12:05:58.721Z"
   },
   {
    "duration": 12907,
    "start_time": "2022-06-06T12:07:20.761Z"
   },
   {
    "duration": 12619,
    "start_time": "2022-06-06T12:07:53.767Z"
   },
   {
    "duration": 12741,
    "start_time": "2022-06-06T12:08:18.319Z"
   },
   {
    "duration": 12729,
    "start_time": "2022-06-06T12:14:43.122Z"
   },
   {
    "duration": 11153,
    "start_time": "2022-06-06T12:15:47.052Z"
   },
   {
    "duration": 13505,
    "start_time": "2022-06-06T12:16:29.394Z"
   },
   {
    "duration": 12215,
    "start_time": "2022-06-06T12:17:13.855Z"
   },
   {
    "duration": 13322,
    "start_time": "2022-06-06T12:17:33.059Z"
   },
   {
    "duration": 11932,
    "start_time": "2022-06-06T12:18:04.923Z"
   },
   {
    "duration": 13834,
    "start_time": "2022-06-06T12:18:25.719Z"
   },
   {
    "duration": 12611,
    "start_time": "2022-06-06T12:19:32.651Z"
   },
   {
    "duration": 13680,
    "start_time": "2022-06-06T12:20:45.318Z"
   },
   {
    "duration": 1529,
    "start_time": "2022-06-06T12:23:21.884Z"
   },
   {
    "duration": 1573,
    "start_time": "2022-06-06T12:23:40.722Z"
   },
   {
    "duration": 397,
    "start_time": "2022-06-06T12:24:34.394Z"
   },
   {
    "duration": 1623,
    "start_time": "2022-06-06T12:24:45.975Z"
   },
   {
    "duration": 1482,
    "start_time": "2022-06-06T12:25:22.018Z"
   },
   {
    "duration": 1606,
    "start_time": "2022-06-06T12:26:55.921Z"
   },
   {
    "duration": 1510,
    "start_time": "2022-06-06T12:28:17.592Z"
   },
   {
    "duration": 853,
    "start_time": "2022-06-06T12:28:39.765Z"
   },
   {
    "duration": 902,
    "start_time": "2022-06-06T12:30:07.789Z"
   },
   {
    "duration": 864,
    "start_time": "2022-06-06T12:30:17.172Z"
   },
   {
    "duration": 831,
    "start_time": "2022-06-06T12:30:36.576Z"
   },
   {
    "duration": 981,
    "start_time": "2022-06-06T12:30:51.025Z"
   },
   {
    "duration": 759,
    "start_time": "2022-06-06T12:31:30.972Z"
   },
   {
    "duration": 801,
    "start_time": "2022-06-06T12:32:23.421Z"
   },
   {
    "duration": 794,
    "start_time": "2022-06-06T12:32:51.036Z"
   },
   {
    "duration": 959,
    "start_time": "2022-06-06T12:36:08.296Z"
   },
   {
    "duration": 842,
    "start_time": "2022-06-06T12:36:26.682Z"
   },
   {
    "duration": 843,
    "start_time": "2022-06-06T12:36:42.188Z"
   },
   {
    "duration": 850,
    "start_time": "2022-06-06T12:37:00.685Z"
   },
   {
    "duration": 807,
    "start_time": "2022-06-06T12:38:26.176Z"
   },
   {
    "duration": 789,
    "start_time": "2022-06-06T12:38:54.364Z"
   },
   {
    "duration": 902,
    "start_time": "2022-06-06T12:40:33.271Z"
   },
   {
    "duration": 789,
    "start_time": "2022-06-06T12:40:55.864Z"
   },
   {
    "duration": 703,
    "start_time": "2022-06-06T12:41:21.063Z"
   },
   {
    "duration": 2736,
    "start_time": "2022-06-06T12:41:30.182Z"
   },
   {
    "duration": 847,
    "start_time": "2022-06-06T12:41:50.622Z"
   },
   {
    "duration": 643,
    "start_time": "2022-06-06T12:42:17.969Z"
   },
   {
    "duration": 601,
    "start_time": "2022-06-06T12:42:48.876Z"
   },
   {
    "duration": 273,
    "start_time": "2022-06-06T12:44:17.763Z"
   },
   {
    "duration": 1450,
    "start_time": "2022-06-06T12:44:27.065Z"
   },
   {
    "duration": 188,
    "start_time": "2022-06-06T12:44:46.722Z"
   },
   {
    "duration": 1353,
    "start_time": "2022-06-06T12:45:12.985Z"
   },
   {
    "duration": 17,
    "start_time": "2022-06-06T12:45:14.341Z"
   },
   {
    "duration": 4,
    "start_time": "2022-06-06T12:45:14.360Z"
   },
   {
    "duration": 39,
    "start_time": "2022-06-06T12:45:14.366Z"
   },
   {
    "duration": 15,
    "start_time": "2022-06-06T12:45:14.407Z"
   },
   {
    "duration": 12,
    "start_time": "2022-06-06T12:45:14.423Z"
   },
   {
    "duration": 10,
    "start_time": "2022-06-06T12:45:14.437Z"
   },
   {
    "duration": 6,
    "start_time": "2022-06-06T12:45:14.448Z"
   },
   {
    "duration": 7,
    "start_time": "2022-06-06T12:45:14.456Z"
   },
   {
    "duration": 40,
    "start_time": "2022-06-06T12:45:14.466Z"
   },
   {
    "duration": 12,
    "start_time": "2022-06-06T12:45:14.508Z"
   },
   {
    "duration": 14,
    "start_time": "2022-06-06T12:45:14.522Z"
   },
   {
    "duration": 9,
    "start_time": "2022-06-06T12:45:14.538Z"
   },
   {
    "duration": 10,
    "start_time": "2022-06-06T12:45:14.549Z"
   },
   {
    "duration": 49,
    "start_time": "2022-06-06T12:45:14.561Z"
   },
   {
    "duration": 5,
    "start_time": "2022-06-06T12:45:14.611Z"
   },
   {
    "duration": 18,
    "start_time": "2022-06-06T12:45:14.617Z"
   },
   {
    "duration": 11,
    "start_time": "2022-06-06T12:45:14.636Z"
   },
   {
    "duration": 12,
    "start_time": "2022-06-06T12:45:14.649Z"
   },
   {
    "duration": 14,
    "start_time": "2022-06-06T12:45:14.691Z"
   },
   {
    "duration": 16,
    "start_time": "2022-06-06T12:45:14.708Z"
   },
   {
    "duration": 5,
    "start_time": "2022-06-06T12:45:14.726Z"
   },
   {
    "duration": 26,
    "start_time": "2022-06-06T12:45:14.732Z"
   },
   {
    "duration": 10,
    "start_time": "2022-06-06T12:45:14.760Z"
   },
   {
    "duration": 37,
    "start_time": "2022-06-06T12:45:14.772Z"
   },
   {
    "duration": 13,
    "start_time": "2022-06-06T12:45:14.811Z"
   },
   {
    "duration": 981,
    "start_time": "2022-06-06T12:45:14.826Z"
   },
   {
    "duration": 21,
    "start_time": "2022-06-06T12:45:15.811Z"
   },
   {
    "duration": 237,
    "start_time": "2022-06-06T12:45:15.833Z"
   },
   {
    "duration": 29,
    "start_time": "2022-06-06T12:45:16.072Z"
   },
   {
    "duration": 34,
    "start_time": "2022-06-06T12:45:16.103Z"
   },
   {
    "duration": 11621,
    "start_time": "2022-06-06T12:45:16.139Z"
   },
   {
    "duration": 11,
    "start_time": "2022-06-06T12:45:27.761Z"
   },
   {
    "duration": 14496,
    "start_time": "2022-06-06T12:45:27.774Z"
   },
   {
    "duration": 49,
    "start_time": "2022-06-06T12:45:42.272Z"
   },
   {
    "duration": 598,
    "start_time": "2022-06-06T12:45:42.324Z"
   },
   {
    "duration": 7,
    "start_time": "2022-06-06T12:45:42.924Z"
   },
   {
    "duration": 397,
    "start_time": "2022-06-06T12:45:42.932Z"
   },
   {
    "duration": 7,
    "start_time": "2022-06-06T12:45:43.331Z"
   },
   {
    "duration": 670,
    "start_time": "2022-06-06T12:45:43.340Z"
   },
   {
    "duration": 694,
    "start_time": "2022-06-06T12:45:44.012Z"
   },
   {
    "duration": 12,
    "start_time": "2022-06-06T12:45:44.709Z"
   },
   {
    "duration": 16,
    "start_time": "2022-06-06T12:45:44.723Z"
   },
   {
    "duration": 58,
    "start_time": "2022-06-06T12:45:44.741Z"
   },
   {
    "duration": 158,
    "start_time": "2022-06-06T12:45:44.800Z"
   },
   {
    "duration": 160,
    "start_time": "2022-06-06T12:45:44.960Z"
   },
   {
    "duration": 8,
    "start_time": "2022-06-06T12:45:45.122Z"
   },
   {
    "duration": 8,
    "start_time": "2022-06-06T12:45:45.132Z"
   },
   {
    "duration": 278,
    "start_time": "2022-06-06T12:45:45.142Z"
   },
   {
    "duration": 81,
    "start_time": "2022-06-06T12:45:45.421Z"
   },
   {
    "duration": 8,
    "start_time": "2022-06-06T12:45:45.503Z"
   },
   {
    "duration": 1326,
    "start_time": "2022-06-06T12:45:45.512Z"
   },
   {
    "duration": 27,
    "start_time": "2022-06-06T12:45:46.840Z"
   },
   {
    "duration": 792,
    "start_time": "2022-06-06T12:45:46.869Z"
   },
   {
    "duration": 923,
    "start_time": "2022-06-06T12:45:47.663Z"
   },
   {
    "duration": 568,
    "start_time": "2022-06-06T12:45:48.592Z"
   },
   {
    "duration": 4,
    "start_time": "2022-06-06T12:45:49.163Z"
   },
   {
    "duration": 1048,
    "start_time": "2022-06-06T12:45:49.170Z"
   },
   {
    "duration": 10,
    "start_time": "2022-06-06T12:45:50.220Z"
   },
   {
    "duration": 6,
    "start_time": "2022-06-06T12:45:50.232Z"
   },
   {
    "duration": 274,
    "start_time": "2022-06-06T12:45:50.239Z"
   },
   {
    "duration": 10,
    "start_time": "2022-06-06T12:45:50.514Z"
   },
   {
    "duration": 10,
    "start_time": "2022-06-06T12:45:50.525Z"
   },
   {
    "duration": 11,
    "start_time": "2022-06-06T12:45:50.537Z"
   },
   {
    "duration": 257,
    "start_time": "2022-06-06T12:45:50.550Z"
   },
   {
    "duration": 11,
    "start_time": "2022-06-06T12:45:50.810Z"
   },
   {
    "duration": 10,
    "start_time": "2022-06-06T12:45:50.822Z"
   },
   {
    "duration": 260,
    "start_time": "2022-06-06T12:45:50.834Z"
   },
   {
    "duration": 11,
    "start_time": "2022-06-06T12:45:51.105Z"
   },
   {
    "duration": 14,
    "start_time": "2022-06-06T12:45:51.117Z"
   },
   {
    "duration": 919,
    "start_time": "2022-06-06T12:48:39.353Z"
   },
   {
    "duration": 977,
    "start_time": "2022-06-06T12:48:49.168Z"
   },
   {
    "duration": 208,
    "start_time": "2022-06-06T12:48:56.403Z"
   },
   {
    "duration": 192,
    "start_time": "2022-06-06T12:48:59.463Z"
   },
   {
    "duration": 273,
    "start_time": "2022-06-06T12:49:03.639Z"
   },
   {
    "duration": 1680,
    "start_time": "2022-06-06T12:49:18.153Z"
   },
   {
    "duration": 1543,
    "start_time": "2022-06-06T12:49:53.554Z"
   },
   {
    "duration": 1565,
    "start_time": "2022-06-06T12:50:27.063Z"
   },
   {
    "duration": 1464,
    "start_time": "2022-06-06T12:50:42.167Z"
   },
   {
    "duration": 890,
    "start_time": "2022-06-06T12:53:00.245Z"
   },
   {
    "duration": 1091,
    "start_time": "2022-06-06T12:53:17.557Z"
   },
   {
    "duration": 48,
    "start_time": "2022-06-06T12:56:31.441Z"
   },
   {
    "duration": 11,
    "start_time": "2022-06-06T12:57:33.129Z"
   },
   {
    "duration": 507,
    "start_time": "2022-06-06T12:57:36.065Z"
   },
   {
    "duration": 8,
    "start_time": "2022-06-06T12:57:51.720Z"
   },
   {
    "duration": 521,
    "start_time": "2022-06-06T12:58:09.857Z"
   },
   {
    "duration": 535,
    "start_time": "2022-06-06T12:58:15.041Z"
   },
   {
    "duration": 457,
    "start_time": "2022-06-06T12:58:26.984Z"
   },
   {
    "duration": 495,
    "start_time": "2022-06-06T12:59:11.145Z"
   },
   {
    "duration": 527,
    "start_time": "2022-06-06T13:02:15.540Z"
   },
   {
    "duration": 540,
    "start_time": "2022-06-06T13:02:51.652Z"
   },
   {
    "duration": 517,
    "start_time": "2022-06-06T13:02:57.364Z"
   },
   {
    "duration": 498,
    "start_time": "2022-06-06T13:03:26.707Z"
   },
   {
    "duration": 581,
    "start_time": "2022-06-06T13:03:58.493Z"
   },
   {
    "duration": 523,
    "start_time": "2022-06-06T13:04:14.867Z"
   },
   {
    "duration": 513,
    "start_time": "2022-06-06T13:04:26.275Z"
   },
   {
    "duration": 529,
    "start_time": "2022-06-06T13:06:52.161Z"
   },
   {
    "duration": 499,
    "start_time": "2022-06-06T13:06:59.681Z"
   },
   {
    "duration": 524,
    "start_time": "2022-06-06T13:07:11.144Z"
   },
   {
    "duration": 529,
    "start_time": "2022-06-06T13:07:44.720Z"
   },
   {
    "duration": 35,
    "start_time": "2022-06-06T13:07:57.240Z"
   },
   {
    "duration": 690,
    "start_time": "2022-06-06T13:08:06.024Z"
   },
   {
    "duration": 499,
    "start_time": "2022-06-06T13:08:49.751Z"
   },
   {
    "duration": 534,
    "start_time": "2022-06-06T13:09:07.335Z"
   },
   {
    "duration": 11,
    "start_time": "2022-06-06T13:09:19.998Z"
   },
   {
    "duration": 506,
    "start_time": "2022-06-06T13:10:10.023Z"
   },
   {
    "duration": 444,
    "start_time": "2022-06-06T13:11:33.069Z"
   },
   {
    "duration": 492,
    "start_time": "2022-06-06T13:11:41.221Z"
   },
   {
    "duration": 511,
    "start_time": "2022-06-06T13:12:14.428Z"
   },
   {
    "duration": 500,
    "start_time": "2022-06-06T13:12:23.044Z"
   },
   {
    "duration": 669,
    "start_time": "2022-06-06T13:12:47.828Z"
   },
   {
    "duration": 538,
    "start_time": "2022-06-06T13:12:56.684Z"
   },
   {
    "duration": 557,
    "start_time": "2022-06-06T13:13:03.443Z"
   },
   {
    "duration": 563,
    "start_time": "2022-06-06T13:13:09.763Z"
   },
   {
    "duration": 582,
    "start_time": "2022-06-06T13:13:14.259Z"
   },
   {
    "duration": 520,
    "start_time": "2022-06-06T13:13:20.459Z"
   },
   {
    "duration": 535,
    "start_time": "2022-06-06T13:13:23.468Z"
   },
   {
    "duration": 26,
    "start_time": "2022-06-06T13:15:24.714Z"
   },
   {
    "duration": 15,
    "start_time": "2022-06-06T13:15:32.274Z"
   },
   {
    "duration": 1073,
    "start_time": "2022-06-06T13:16:18.609Z"
   },
   {
    "duration": 1238,
    "start_time": "2022-06-06T13:19:42.905Z"
   },
   {
    "duration": 1024,
    "start_time": "2022-06-06T13:20:36.702Z"
   },
   {
    "duration": 296,
    "start_time": "2022-06-06T13:21:21.085Z"
   },
   {
    "duration": 7,
    "start_time": "2022-06-06T13:21:45.510Z"
   },
   {
    "duration": 1104,
    "start_time": "2022-06-06T13:21:52.436Z"
   },
   {
    "duration": 4859,
    "start_time": "2022-06-06T13:23:48.588Z"
   },
   {
    "duration": 12,
    "start_time": "2022-06-06T13:26:50.417Z"
   },
   {
    "duration": 1504,
    "start_time": "2022-06-06T13:27:03.113Z"
   },
   {
    "duration": 13,
    "start_time": "2022-06-06T13:27:59.560Z"
   },
   {
    "duration": 1232,
    "start_time": "2022-06-06T13:28:01.784Z"
   },
   {
    "duration": 13,
    "start_time": "2022-06-06T13:28:49.503Z"
   },
   {
    "duration": 1206,
    "start_time": "2022-06-06T13:28:52.039Z"
   },
   {
    "duration": 16,
    "start_time": "2022-06-06T13:29:16.694Z"
   },
   {
    "duration": 1452,
    "start_time": "2022-06-06T13:29:18.151Z"
   },
   {
    "duration": 1320,
    "start_time": "2022-06-06T13:31:04.115Z"
   },
   {
    "duration": 16,
    "start_time": "2022-06-06T13:31:05.437Z"
   },
   {
    "duration": 4,
    "start_time": "2022-06-06T13:31:05.455Z"
   },
   {
    "duration": 31,
    "start_time": "2022-06-06T13:31:05.462Z"
   },
   {
    "duration": 14,
    "start_time": "2022-06-06T13:31:05.495Z"
   },
   {
    "duration": 14,
    "start_time": "2022-06-06T13:31:05.511Z"
   },
   {
    "duration": 26,
    "start_time": "2022-06-06T13:31:05.527Z"
   },
   {
    "duration": 10,
    "start_time": "2022-06-06T13:31:05.555Z"
   },
   {
    "duration": 16,
    "start_time": "2022-06-06T13:31:05.567Z"
   },
   {
    "duration": 28,
    "start_time": "2022-06-06T13:31:05.585Z"
   },
   {
    "duration": 11,
    "start_time": "2022-06-06T13:31:05.615Z"
   },
   {
    "duration": 29,
    "start_time": "2022-06-06T13:31:05.628Z"
   },
   {
    "duration": 21,
    "start_time": "2022-06-06T13:31:05.659Z"
   },
   {
    "duration": 18,
    "start_time": "2022-06-06T13:31:05.682Z"
   },
   {
    "duration": 27,
    "start_time": "2022-06-06T13:31:05.702Z"
   },
   {
    "duration": 16,
    "start_time": "2022-06-06T13:31:05.731Z"
   },
   {
    "duration": 28,
    "start_time": "2022-06-06T13:31:05.748Z"
   },
   {
    "duration": 19,
    "start_time": "2022-06-06T13:31:05.779Z"
   },
   {
    "duration": 26,
    "start_time": "2022-06-06T13:31:05.800Z"
   },
   {
    "duration": 15,
    "start_time": "2022-06-06T13:31:05.828Z"
   },
   {
    "duration": 25,
    "start_time": "2022-06-06T13:31:05.844Z"
   },
   {
    "duration": 9,
    "start_time": "2022-06-06T13:31:05.871Z"
   },
   {
    "duration": 27,
    "start_time": "2022-06-06T13:31:05.882Z"
   },
   {
    "duration": 10,
    "start_time": "2022-06-06T13:31:05.911Z"
   },
   {
    "duration": 20,
    "start_time": "2022-06-06T13:31:05.923Z"
   },
   {
    "duration": 21,
    "start_time": "2022-06-06T13:31:05.945Z"
   },
   {
    "duration": 904,
    "start_time": "2022-06-06T13:31:05.969Z"
   },
   {
    "duration": 27,
    "start_time": "2022-06-06T13:31:06.879Z"
   },
   {
    "duration": 234,
    "start_time": "2022-06-06T13:31:06.908Z"
   },
   {
    "duration": 10,
    "start_time": "2022-06-06T13:31:07.145Z"
   },
   {
    "duration": 11,
    "start_time": "2022-06-06T13:31:07.157Z"
   },
   {
    "duration": 921,
    "start_time": "2022-06-06T13:31:07.190Z"
   },
   {
    "duration": 12,
    "start_time": "2022-06-06T13:31:08.113Z"
   },
   {
    "duration": 1190,
    "start_time": "2022-06-06T13:31:08.127Z"
   },
   {
    "duration": 20,
    "start_time": "2022-06-06T13:31:09.319Z"
   },
   {
    "duration": 697,
    "start_time": "2022-06-06T13:31:09.341Z"
   },
   {
    "duration": 7,
    "start_time": "2022-06-06T13:31:10.040Z"
   },
   {
    "duration": 390,
    "start_time": "2022-06-06T13:31:10.049Z"
   },
   {
    "duration": 8,
    "start_time": "2022-06-06T13:31:10.442Z"
   },
   {
    "duration": 921,
    "start_time": "2022-06-06T13:31:10.451Z"
   },
   {
    "duration": 944,
    "start_time": "2022-06-06T13:31:11.374Z"
   },
   {
    "duration": 11,
    "start_time": "2022-06-06T13:31:12.320Z"
   },
   {
    "duration": 9,
    "start_time": "2022-06-06T13:31:12.333Z"
   },
   {
    "duration": 60,
    "start_time": "2022-06-06T13:31:12.344Z"
   },
   {
    "duration": 198,
    "start_time": "2022-06-06T13:31:12.408Z"
   },
   {
    "duration": 197,
    "start_time": "2022-06-06T13:31:12.608Z"
   },
   {
    "duration": 8,
    "start_time": "2022-06-06T13:31:12.807Z"
   },
   {
    "duration": 15,
    "start_time": "2022-06-06T13:31:12.817Z"
   },
   {
    "duration": 306,
    "start_time": "2022-06-06T13:31:12.834Z"
   },
   {
    "duration": 93,
    "start_time": "2022-06-06T13:31:13.142Z"
   },
   {
    "duration": 7,
    "start_time": "2022-06-06T13:31:13.237Z"
   },
   {
    "duration": 581,
    "start_time": "2022-06-06T13:31:13.246Z"
   },
   {
    "duration": 842,
    "start_time": "2022-06-06T13:31:13.829Z"
   },
   {
    "duration": 967,
    "start_time": "2022-06-06T13:31:14.673Z"
   },
   {
    "duration": 606,
    "start_time": "2022-06-06T13:31:15.642Z"
   },
   {
    "duration": 4,
    "start_time": "2022-06-06T13:31:16.250Z"
   },
   {
    "duration": 266,
    "start_time": "2022-06-06T13:31:16.256Z"
   },
   {
    "duration": 9,
    "start_time": "2022-06-06T13:31:16.524Z"
   },
   {
    "duration": 4,
    "start_time": "2022-06-06T13:31:16.535Z"
   },
   {
    "duration": 270,
    "start_time": "2022-06-06T13:31:16.540Z"
   },
   {
    "duration": 10,
    "start_time": "2022-06-06T13:31:16.811Z"
   },
   {
    "duration": 8,
    "start_time": "2022-06-06T13:31:16.823Z"
   },
   {
    "duration": 31,
    "start_time": "2022-06-06T13:31:16.832Z"
   },
   {
    "duration": 255,
    "start_time": "2022-06-06T13:31:16.864Z"
   },
   {
    "duration": 11,
    "start_time": "2022-06-06T13:31:17.121Z"
   },
   {
    "duration": 7,
    "start_time": "2022-06-06T13:31:17.133Z"
   },
   {
    "duration": 236,
    "start_time": "2022-06-06T13:31:17.142Z"
   },
   {
    "duration": 24,
    "start_time": "2022-06-06T13:31:17.380Z"
   },
   {
    "duration": 13,
    "start_time": "2022-06-06T13:31:17.406Z"
   },
   {
    "duration": 1350,
    "start_time": "2022-06-06T13:32:08.399Z"
   },
   {
    "duration": 16,
    "start_time": "2022-06-06T13:32:09.752Z"
   },
   {
    "duration": 16,
    "start_time": "2022-06-06T13:32:09.774Z"
   },
   {
    "duration": 16,
    "start_time": "2022-06-06T13:32:09.793Z"
   },
   {
    "duration": 15,
    "start_time": "2022-06-06T13:32:09.810Z"
   },
   {
    "duration": 9,
    "start_time": "2022-06-06T13:32:09.827Z"
   },
   {
    "duration": 6,
    "start_time": "2022-06-06T13:32:09.838Z"
   },
   {
    "duration": 6,
    "start_time": "2022-06-06T13:32:09.846Z"
   },
   {
    "duration": 7,
    "start_time": "2022-06-06T13:32:09.889Z"
   },
   {
    "duration": 15,
    "start_time": "2022-06-06T13:32:09.898Z"
   },
   {
    "duration": 9,
    "start_time": "2022-06-06T13:32:09.915Z"
   },
   {
    "duration": 15,
    "start_time": "2022-06-06T13:32:09.926Z"
   },
   {
    "duration": 10,
    "start_time": "2022-06-06T13:32:09.943Z"
   },
   {
    "duration": 41,
    "start_time": "2022-06-06T13:32:09.955Z"
   },
   {
    "duration": 18,
    "start_time": "2022-06-06T13:32:09.998Z"
   },
   {
    "duration": 5,
    "start_time": "2022-06-06T13:32:10.017Z"
   },
   {
    "duration": 22,
    "start_time": "2022-06-06T13:32:10.024Z"
   },
   {
    "duration": 10,
    "start_time": "2022-06-06T13:32:10.048Z"
   },
   {
    "duration": 34,
    "start_time": "2022-06-06T13:32:10.060Z"
   },
   {
    "duration": 7,
    "start_time": "2022-06-06T13:32:10.096Z"
   },
   {
    "duration": 14,
    "start_time": "2022-06-06T13:32:10.104Z"
   },
   {
    "duration": 5,
    "start_time": "2022-06-06T13:32:10.119Z"
   },
   {
    "duration": 18,
    "start_time": "2022-06-06T13:32:10.125Z"
   },
   {
    "duration": 6,
    "start_time": "2022-06-06T13:32:10.145Z"
   },
   {
    "duration": 40,
    "start_time": "2022-06-06T13:32:10.153Z"
   },
   {
    "duration": 10,
    "start_time": "2022-06-06T13:32:10.194Z"
   },
   {
    "duration": 931,
    "start_time": "2022-06-06T13:32:10.210Z"
   },
   {
    "duration": 18,
    "start_time": "2022-06-06T13:32:11.142Z"
   },
   {
    "duration": 247,
    "start_time": "2022-06-06T13:32:11.162Z"
   },
   {
    "duration": 8,
    "start_time": "2022-06-06T13:32:11.411Z"
   },
   {
    "duration": 11,
    "start_time": "2022-06-06T13:32:11.421Z"
   },
   {
    "duration": 918,
    "start_time": "2022-06-06T13:32:11.434Z"
   },
   {
    "duration": 11,
    "start_time": "2022-06-06T13:32:12.354Z"
   },
   {
    "duration": 1076,
    "start_time": "2022-06-06T13:32:12.367Z"
   },
   {
    "duration": 20,
    "start_time": "2022-06-06T13:32:13.445Z"
   },
   {
    "duration": 697,
    "start_time": "2022-06-06T13:32:13.466Z"
   },
   {
    "duration": 7,
    "start_time": "2022-06-06T13:32:14.164Z"
   },
   {
    "duration": 365,
    "start_time": "2022-06-06T13:32:14.173Z"
   },
   {
    "duration": 8,
    "start_time": "2022-06-06T13:32:14.540Z"
   },
   {
    "duration": 960,
    "start_time": "2022-06-06T13:32:14.549Z"
   },
   {
    "duration": 921,
    "start_time": "2022-06-06T13:32:15.511Z"
   },
   {
    "duration": 12,
    "start_time": "2022-06-06T13:32:16.434Z"
   },
   {
    "duration": 18,
    "start_time": "2022-06-06T13:32:16.448Z"
   },
   {
    "duration": 46,
    "start_time": "2022-06-06T13:32:16.467Z"
   },
   {
    "duration": 194,
    "start_time": "2022-06-06T13:32:16.515Z"
   },
   {
    "duration": 201,
    "start_time": "2022-06-06T13:32:16.712Z"
   },
   {
    "duration": 9,
    "start_time": "2022-06-06T13:32:16.915Z"
   },
   {
    "duration": 8,
    "start_time": "2022-06-06T13:32:16.926Z"
   },
   {
    "duration": 298,
    "start_time": "2022-06-06T13:32:16.936Z"
   },
   {
    "duration": 75,
    "start_time": "2022-06-06T13:32:17.236Z"
   },
   {
    "duration": 8,
    "start_time": "2022-06-06T13:32:17.312Z"
   },
   {
    "duration": 631,
    "start_time": "2022-06-06T13:32:17.321Z"
   },
   {
    "duration": 1093,
    "start_time": "2022-06-06T13:32:17.953Z"
   },
   {
    "duration": 885,
    "start_time": "2022-06-06T13:32:19.049Z"
   },
   {
    "duration": 623,
    "start_time": "2022-06-06T13:32:19.937Z"
   },
   {
    "duration": 4,
    "start_time": "2022-06-06T13:32:20.562Z"
   },
   {
    "duration": 253,
    "start_time": "2022-06-06T13:32:20.568Z"
   },
   {
    "duration": 22,
    "start_time": "2022-06-06T13:32:20.823Z"
   },
   {
    "duration": 8,
    "start_time": "2022-06-06T13:32:20.848Z"
   },
   {
    "duration": 249,
    "start_time": "2022-06-06T13:32:20.858Z"
   },
   {
    "duration": 9,
    "start_time": "2022-06-06T13:32:21.108Z"
   },
   {
    "duration": 20,
    "start_time": "2022-06-06T13:32:21.119Z"
   },
   {
    "duration": 7,
    "start_time": "2022-06-06T13:32:21.141Z"
   },
   {
    "duration": 253,
    "start_time": "2022-06-06T13:32:21.150Z"
   },
   {
    "duration": 10,
    "start_time": "2022-06-06T13:32:21.405Z"
   },
   {
    "duration": 4,
    "start_time": "2022-06-06T13:32:21.418Z"
   },
   {
    "duration": 217,
    "start_time": "2022-06-06T13:32:21.424Z"
   },
   {
    "duration": 9,
    "start_time": "2022-06-06T13:32:21.643Z"
   },
   {
    "duration": 5,
    "start_time": "2022-06-06T13:32:21.654Z"
   },
   {
    "duration": 3,
    "start_time": "2022-06-06T14:18:53.738Z"
   },
   {
    "duration": 70,
    "start_time": "2022-06-06T14:20:01.618Z"
   },
   {
    "duration": 16,
    "start_time": "2022-06-06T14:23:46.454Z"
   },
   {
    "duration": 17,
    "start_time": "2022-06-06T14:26:25.060Z"
   },
   {
    "duration": 268,
    "start_time": "2022-06-06T14:26:59.300Z"
   },
   {
    "duration": 21,
    "start_time": "2022-06-06T14:27:54.004Z"
   },
   {
    "duration": 13,
    "start_time": "2022-06-06T14:28:11.915Z"
   },
   {
    "duration": 7,
    "start_time": "2022-06-06T14:28:16.747Z"
   },
   {
    "duration": 12,
    "start_time": "2022-06-06T14:28:30.556Z"
   },
   {
    "duration": 7,
    "start_time": "2022-06-06T14:28:36.604Z"
   },
   {
    "duration": 7,
    "start_time": "2022-06-06T14:33:18.848Z"
   },
   {
    "duration": 20,
    "start_time": "2022-06-06T14:38:10.268Z"
   },
   {
    "duration": 10,
    "start_time": "2022-06-06T14:39:56.050Z"
   },
   {
    "duration": 8,
    "start_time": "2022-06-06T14:39:59.682Z"
   },
   {
    "duration": 10,
    "start_time": "2022-06-06T14:40:01.420Z"
   },
   {
    "duration": 5,
    "start_time": "2022-06-06T14:52:21.201Z"
   },
   {
    "duration": 7,
    "start_time": "2022-06-06T14:54:57.088Z"
   },
   {
    "duration": 1307,
    "start_time": "2022-06-06T14:58:19.365Z"
   },
   {
    "duration": 76,
    "start_time": "2022-06-06T14:58:20.674Z"
   },
   {
    "duration": 16,
    "start_time": "2022-06-06T14:58:20.752Z"
   },
   {
    "duration": 21,
    "start_time": "2022-06-06T14:58:20.770Z"
   },
   {
    "duration": 8,
    "start_time": "2022-06-06T14:58:20.793Z"
   },
   {
    "duration": 6,
    "start_time": "2022-06-06T14:58:20.803Z"
   },
   {
    "duration": 10,
    "start_time": "2022-06-06T14:58:20.811Z"
   },
   {
    "duration": 7,
    "start_time": "2022-06-06T14:58:20.823Z"
   },
   {
    "duration": 15,
    "start_time": "2022-06-06T14:58:20.831Z"
   },
   {
    "duration": 45,
    "start_time": "2022-06-06T14:58:20.850Z"
   },
   {
    "duration": 27,
    "start_time": "2022-06-06T14:58:20.897Z"
   },
   {
    "duration": 14,
    "start_time": "2022-06-06T14:58:20.926Z"
   },
   {
    "duration": 12,
    "start_time": "2022-06-06T14:58:20.941Z"
   },
   {
    "duration": 15,
    "start_time": "2022-06-06T14:58:20.955Z"
   },
   {
    "duration": 23,
    "start_time": "2022-06-06T14:58:20.972Z"
   },
   {
    "duration": 17,
    "start_time": "2022-06-06T14:58:20.997Z"
   },
   {
    "duration": 6,
    "start_time": "2022-06-06T14:58:21.016Z"
   },
   {
    "duration": 20,
    "start_time": "2022-06-06T14:58:21.024Z"
   },
   {
    "duration": 8,
    "start_time": "2022-06-06T14:58:21.046Z"
   },
   {
    "duration": 7,
    "start_time": "2022-06-06T14:58:21.090Z"
   },
   {
    "duration": 11,
    "start_time": "2022-06-06T14:58:21.099Z"
   },
   {
    "duration": 939,
    "start_time": "2022-06-06T14:58:21.112Z"
   },
   {
    "duration": 18,
    "start_time": "2022-06-06T14:58:22.053Z"
   },
   {
    "duration": 239,
    "start_time": "2022-06-06T14:58:22.072Z"
   },
   {
    "duration": 9,
    "start_time": "2022-06-06T14:58:22.313Z"
   },
   {
    "duration": 18,
    "start_time": "2022-06-06T14:58:22.323Z"
   },
   {
    "duration": 920,
    "start_time": "2022-06-06T14:58:22.343Z"
   },
   {
    "duration": 23,
    "start_time": "2022-06-06T14:58:23.267Z"
   },
   {
    "duration": 1072,
    "start_time": "2022-06-06T14:58:23.291Z"
   },
   {
    "duration": 5,
    "start_time": "2022-06-06T14:58:24.365Z"
   },
   {
    "duration": 707,
    "start_time": "2022-06-06T14:58:24.371Z"
   },
   {
    "duration": 14,
    "start_time": "2022-06-06T14:58:25.080Z"
   },
   {
    "duration": 374,
    "start_time": "2022-06-06T14:58:25.096Z"
   },
   {
    "duration": 7,
    "start_time": "2022-06-06T14:58:25.472Z"
   },
   {
    "duration": 929,
    "start_time": "2022-06-06T14:58:25.489Z"
   },
   {
    "duration": 878,
    "start_time": "2022-06-06T14:58:26.419Z"
   },
   {
    "duration": 12,
    "start_time": "2022-06-06T14:58:27.299Z"
   },
   {
    "duration": 19,
    "start_time": "2022-06-06T14:58:27.312Z"
   },
   {
    "duration": 31,
    "start_time": "2022-06-06T14:58:27.332Z"
   },
   {
    "duration": 206,
    "start_time": "2022-06-06T14:58:27.364Z"
   },
   {
    "duration": 187,
    "start_time": "2022-06-06T14:58:27.572Z"
   },
   {
    "duration": 9,
    "start_time": "2022-06-06T14:58:27.761Z"
   },
   {
    "duration": 18,
    "start_time": "2022-06-06T14:58:27.772Z"
   },
   {
    "duration": 282,
    "start_time": "2022-06-06T14:58:27.792Z"
   },
   {
    "duration": 69,
    "start_time": "2022-06-06T14:58:28.076Z"
   },
   {
    "duration": 8,
    "start_time": "2022-06-06T14:58:28.147Z"
   },
   {
    "duration": 694,
    "start_time": "2022-06-06T14:58:28.157Z"
   },
   {
    "duration": 1077,
    "start_time": "2022-06-06T14:58:28.853Z"
   },
   {
    "duration": 810,
    "start_time": "2022-06-06T14:58:29.933Z"
   },
   {
    "duration": 631,
    "start_time": "2022-06-06T14:58:30.745Z"
   },
   {
    "duration": 5,
    "start_time": "2022-06-06T14:58:31.378Z"
   },
   {
    "duration": 247,
    "start_time": "2022-06-06T14:58:31.384Z"
   },
   {
    "duration": 11,
    "start_time": "2022-06-06T14:58:31.632Z"
   },
   {
    "duration": 18,
    "start_time": "2022-06-06T14:58:31.644Z"
   },
   {
    "duration": 247,
    "start_time": "2022-06-06T14:58:31.664Z"
   },
   {
    "duration": 11,
    "start_time": "2022-06-06T14:58:31.913Z"
   },
   {
    "duration": 18,
    "start_time": "2022-06-06T14:58:31.927Z"
   },
   {
    "duration": 27,
    "start_time": "2022-06-06T14:58:31.947Z"
   },
   {
    "duration": 251,
    "start_time": "2022-06-06T14:58:31.976Z"
   },
   {
    "duration": 10,
    "start_time": "2022-06-06T14:58:32.229Z"
   },
   {
    "duration": 12,
    "start_time": "2022-06-06T14:58:32.241Z"
   },
   {
    "duration": 217,
    "start_time": "2022-06-06T14:58:32.255Z"
   },
   {
    "duration": 22,
    "start_time": "2022-06-06T14:58:32.474Z"
   },
   {
    "duration": 7,
    "start_time": "2022-06-06T14:58:32.498Z"
   },
   {
    "duration": 265,
    "start_time": "2022-06-06T18:05:54.905Z"
   },
   {
    "duration": 246,
    "start_time": "2022-06-06T18:06:03.148Z"
   },
   {
    "duration": 1532,
    "start_time": "2022-06-06T18:17:09.244Z"
   },
   {
    "duration": 6,
    "start_time": "2022-06-06T18:21:53.104Z"
   },
   {
    "duration": 745,
    "start_time": "2022-06-06T18:22:58.439Z"
   },
   {
    "duration": 628,
    "start_time": "2022-06-06T18:23:32.384Z"
   },
   {
    "duration": 624,
    "start_time": "2022-06-06T18:23:51.501Z"
   },
   {
    "duration": 425,
    "start_time": "2022-06-06T18:26:12.041Z"
   },
   {
    "duration": 1139,
    "start_time": "2022-06-06T18:41:31.907Z"
   },
   {
    "duration": 10,
    "start_time": "2022-06-06T18:41:42.446Z"
   },
   {
    "duration": 10,
    "start_time": "2022-06-06T18:45:41.426Z"
   },
   {
    "duration": 43,
    "start_time": "2022-06-06T18:50:18.368Z"
   },
   {
    "duration": 27,
    "start_time": "2022-06-06T18:50:32.679Z"
   },
   {
    "duration": 287,
    "start_time": "2022-06-06T18:50:48.504Z"
   },
   {
    "duration": 1954,
    "start_time": "2022-06-06T18:51:18.830Z"
   },
   {
    "duration": 390,
    "start_time": "2022-06-06T18:51:29.905Z"
   },
   {
    "duration": 421,
    "start_time": "2022-06-06T18:51:58.844Z"
   },
   {
    "duration": 385,
    "start_time": "2022-06-06T18:52:32.482Z"
   },
   {
    "duration": 8,
    "start_time": "2022-06-06T18:53:31.453Z"
   },
   {
    "duration": 8,
    "start_time": "2022-06-06T18:53:33.296Z"
   },
   {
    "duration": 126,
    "start_time": "2022-06-07T11:54:23.869Z"
   },
   {
    "duration": 1495,
    "start_time": "2022-06-07T11:54:36.730Z"
   },
   {
    "duration": 119,
    "start_time": "2022-06-07T11:54:38.228Z"
   },
   {
    "duration": 14,
    "start_time": "2022-06-07T11:54:38.349Z"
   },
   {
    "duration": 17,
    "start_time": "2022-06-07T11:54:38.366Z"
   },
   {
    "duration": 17,
    "start_time": "2022-06-07T11:54:38.385Z"
   },
   {
    "duration": 26,
    "start_time": "2022-06-07T11:54:38.403Z"
   },
   {
    "duration": 20,
    "start_time": "2022-06-07T11:54:38.431Z"
   },
   {
    "duration": 20,
    "start_time": "2022-06-07T11:54:38.453Z"
   },
   {
    "duration": 16,
    "start_time": "2022-06-07T11:54:38.475Z"
   },
   {
    "duration": 43,
    "start_time": "2022-06-07T11:54:38.495Z"
   },
   {
    "duration": 22,
    "start_time": "2022-06-07T11:54:38.541Z"
   },
   {
    "duration": 24,
    "start_time": "2022-06-07T11:54:38.565Z"
   },
   {
    "duration": 17,
    "start_time": "2022-06-07T11:54:38.592Z"
   },
   {
    "duration": 29,
    "start_time": "2022-06-07T11:54:38.612Z"
   },
   {
    "duration": 44,
    "start_time": "2022-06-07T11:54:38.643Z"
   },
   {
    "duration": 21,
    "start_time": "2022-06-07T11:54:38.689Z"
   },
   {
    "duration": 6,
    "start_time": "2022-06-07T11:54:38.712Z"
   },
   {
    "duration": 24,
    "start_time": "2022-06-07T11:54:38.719Z"
   },
   {
    "duration": 9,
    "start_time": "2022-06-07T11:54:38.745Z"
   },
   {
    "duration": 14,
    "start_time": "2022-06-07T11:54:38.756Z"
   },
   {
    "duration": 13,
    "start_time": "2022-06-07T11:54:38.773Z"
   },
   {
    "duration": 1202,
    "start_time": "2022-06-07T11:54:38.788Z"
   },
   {
    "duration": 26,
    "start_time": "2022-06-07T11:54:39.992Z"
   },
   {
    "duration": 269,
    "start_time": "2022-06-07T11:54:40.021Z"
   },
   {
    "duration": 12,
    "start_time": "2022-06-07T11:54:40.293Z"
   },
   {
    "duration": 71,
    "start_time": "2022-06-07T11:54:40.307Z"
   },
   {
    "duration": 1664,
    "start_time": "2022-06-07T11:54:40.380Z"
   },
   {
    "duration": 17,
    "start_time": "2022-06-07T11:54:42.048Z"
   },
   {
    "duration": 1496,
    "start_time": "2022-06-07T11:54:42.068Z"
   },
   {
    "duration": 11,
    "start_time": "2022-06-07T11:54:43.571Z"
   },
   {
    "duration": 885,
    "start_time": "2022-06-07T11:54:43.584Z"
   },
   {
    "duration": 561,
    "start_time": "2022-06-07T11:54:44.471Z"
   },
   {
    "duration": 9,
    "start_time": "2022-06-07T11:54:45.035Z"
   },
   {
    "duration": 1177,
    "start_time": "2022-06-07T11:54:45.047Z"
   },
   {
    "duration": 1067,
    "start_time": "2022-06-07T11:54:46.226Z"
   },
   {
    "duration": 12,
    "start_time": "2022-06-07T11:54:47.295Z"
   },
   {
    "duration": 15,
    "start_time": "2022-06-07T11:54:47.344Z"
   },
   {
    "duration": 49,
    "start_time": "2022-06-07T11:54:47.361Z"
   },
   {
    "duration": 495,
    "start_time": "2022-06-07T11:54:47.412Z"
   },
   {
    "duration": 479,
    "start_time": "2022-06-07T11:54:47.910Z"
   },
   {
    "duration": 13,
    "start_time": "2022-06-07T11:54:48.391Z"
   },
   {
    "duration": 22,
    "start_time": "2022-06-07T11:54:48.406Z"
   },
   {
    "duration": 311,
    "start_time": "2022-06-07T11:54:48.430Z"
   },
   {
    "duration": 128,
    "start_time": "2022-06-07T11:54:48.743Z"
   },
   {
    "duration": 11,
    "start_time": "2022-06-07T11:54:48.873Z"
   },
   {
    "duration": 622,
    "start_time": "2022-06-07T11:54:48.885Z"
   },
   {
    "duration": 766,
    "start_time": "2022-06-07T11:54:49.509Z"
   },
   {
    "duration": 0,
    "start_time": "2022-06-07T11:54:50.278Z"
   },
   {
    "duration": 0,
    "start_time": "2022-06-07T11:54:50.280Z"
   },
   {
    "duration": 0,
    "start_time": "2022-06-07T11:54:50.281Z"
   },
   {
    "duration": 0,
    "start_time": "2022-06-07T11:54:50.283Z"
   },
   {
    "duration": 0,
    "start_time": "2022-06-07T11:54:50.285Z"
   },
   {
    "duration": 0,
    "start_time": "2022-06-07T11:54:50.286Z"
   },
   {
    "duration": 0,
    "start_time": "2022-06-07T11:54:50.289Z"
   },
   {
    "duration": 0,
    "start_time": "2022-06-07T11:54:50.290Z"
   },
   {
    "duration": 0,
    "start_time": "2022-06-07T11:54:50.291Z"
   },
   {
    "duration": 0,
    "start_time": "2022-06-07T11:54:50.293Z"
   },
   {
    "duration": 0,
    "start_time": "2022-06-07T11:54:50.294Z"
   },
   {
    "duration": 0,
    "start_time": "2022-06-07T11:54:50.295Z"
   },
   {
    "duration": 0,
    "start_time": "2022-06-07T11:54:50.296Z"
   },
   {
    "duration": 0,
    "start_time": "2022-06-07T11:54:50.326Z"
   },
   {
    "duration": 0,
    "start_time": "2022-06-07T11:54:50.327Z"
   },
   {
    "duration": 0,
    "start_time": "2022-06-07T11:54:50.328Z"
   },
   {
    "duration": 1421,
    "start_time": "2022-06-07T11:55:22.270Z"
   },
   {
    "duration": 896,
    "start_time": "2022-06-07T11:55:35.379Z"
   },
   {
    "duration": 757,
    "start_time": "2022-06-07T11:55:47.811Z"
   },
   {
    "duration": 872,
    "start_time": "2022-06-07T11:56:01.235Z"
   },
   {
    "duration": 802,
    "start_time": "2022-06-07T11:56:35.475Z"
   },
   {
    "duration": 902,
    "start_time": "2022-06-07T11:56:39.938Z"
   },
   {
    "duration": 743,
    "start_time": "2022-06-07T11:56:59.493Z"
   },
   {
    "duration": 800,
    "start_time": "2022-06-07T11:57:06.562Z"
   },
   {
    "duration": 910,
    "start_time": "2022-06-07T11:57:14.562Z"
   },
   {
    "duration": 857,
    "start_time": "2022-06-07T11:57:28.482Z"
   },
   {
    "duration": 774,
    "start_time": "2022-06-07T11:57:42.609Z"
   },
   {
    "duration": 850,
    "start_time": "2022-06-07T11:57:57.705Z"
   },
   {
    "duration": 808,
    "start_time": "2022-06-07T11:58:07.377Z"
   },
   {
    "duration": 851,
    "start_time": "2022-06-07T11:58:20.880Z"
   },
   {
    "duration": 756,
    "start_time": "2022-06-07T11:58:32.624Z"
   },
   {
    "duration": 748,
    "start_time": "2022-06-07T11:58:53.599Z"
   },
   {
    "duration": 990,
    "start_time": "2022-06-07T11:59:00.632Z"
   },
   {
    "duration": 900,
    "start_time": "2022-06-07T11:59:09.997Z"
   },
   {
    "duration": 1347,
    "start_time": "2022-06-07T11:59:48.762Z"
   },
   {
    "duration": 673,
    "start_time": "2022-06-07T11:59:54.912Z"
   },
   {
    "duration": 803,
    "start_time": "2022-06-07T12:00:41.416Z"
   },
   {
    "duration": 1004,
    "start_time": "2022-06-07T12:00:51.397Z"
   },
   {
    "duration": 846,
    "start_time": "2022-06-07T12:01:01.069Z"
   },
   {
    "duration": 766,
    "start_time": "2022-06-07T12:01:18.375Z"
   },
   {
    "duration": 14,
    "start_time": "2022-06-07T12:07:18.763Z"
   },
   {
    "duration": 7,
    "start_time": "2022-06-07T12:08:21.295Z"
   },
   {
    "duration": 678,
    "start_time": "2022-06-07T12:08:31.777Z"
   },
   {
    "duration": 18,
    "start_time": "2022-06-07T12:08:44.726Z"
   },
   {
    "duration": 9,
    "start_time": "2022-06-07T12:11:49.871Z"
   },
   {
    "duration": 732,
    "start_time": "2022-06-07T12:11:51.563Z"
   },
   {
    "duration": 252,
    "start_time": "2022-06-07T12:13:06.154Z"
   },
   {
    "duration": 28,
    "start_time": "2022-06-07T12:14:13.906Z"
   },
   {
    "duration": 28,
    "start_time": "2022-06-07T12:19:40.653Z"
   },
   {
    "duration": 27,
    "start_time": "2022-06-07T12:20:36.813Z"
   },
   {
    "duration": 23,
    "start_time": "2022-06-07T12:21:53.295Z"
   },
   {
    "duration": 11,
    "start_time": "2022-06-07T12:22:35.498Z"
   },
   {
    "duration": 558,
    "start_time": "2022-06-07T12:22:39.946Z"
   },
   {
    "duration": 20,
    "start_time": "2022-06-07T12:25:03.740Z"
   },
   {
    "duration": 25,
    "start_time": "2022-06-07T12:25:10.004Z"
   },
   {
    "duration": 16,
    "start_time": "2022-06-07T12:25:30.953Z"
   },
   {
    "duration": 23,
    "start_time": "2022-06-07T12:26:20.969Z"
   },
   {
    "duration": 12,
    "start_time": "2022-06-07T12:26:53.359Z"
   },
   {
    "duration": 22,
    "start_time": "2022-06-07T12:27:11.130Z"
   },
   {
    "duration": 13,
    "start_time": "2022-06-07T12:27:13.996Z"
   },
   {
    "duration": 19,
    "start_time": "2022-06-07T12:29:15.661Z"
   },
   {
    "duration": 5,
    "start_time": "2022-06-07T12:29:18.670Z"
   },
   {
    "duration": 588,
    "start_time": "2022-06-07T12:29:20.917Z"
   },
   {
    "duration": 18,
    "start_time": "2022-06-07T12:31:04.810Z"
   },
   {
    "duration": 588,
    "start_time": "2022-06-07T12:31:13.112Z"
   },
   {
    "duration": 14,
    "start_time": "2022-06-07T12:33:50.497Z"
   },
   {
    "duration": 22,
    "start_time": "2022-06-07T12:33:57.760Z"
   },
   {
    "duration": 556,
    "start_time": "2022-06-07T12:34:08.546Z"
   },
   {
    "duration": 37,
    "start_time": "2022-06-07T12:34:21.024Z"
   },
   {
    "duration": 33,
    "start_time": "2022-06-07T12:34:45.223Z"
   },
   {
    "duration": 17,
    "start_time": "2022-06-07T12:34:47.393Z"
   },
   {
    "duration": 15,
    "start_time": "2022-06-07T12:35:12.599Z"
   },
   {
    "duration": 687,
    "start_time": "2022-06-07T12:35:16.007Z"
   },
   {
    "duration": 16,
    "start_time": "2022-06-07T12:36:27.551Z"
   },
   {
    "duration": 260,
    "start_time": "2022-06-07T12:38:45.501Z"
   },
   {
    "duration": 14,
    "start_time": "2022-06-07T12:39:09.352Z"
   },
   {
    "duration": 586,
    "start_time": "2022-06-07T12:39:16.803Z"
   },
   {
    "duration": 436,
    "start_time": "2022-06-07T12:40:24.507Z"
   },
   {
    "duration": 447,
    "start_time": "2022-06-07T12:40:54.354Z"
   },
   {
    "duration": 10,
    "start_time": "2022-06-07T12:41:24.626Z"
   },
   {
    "duration": 270,
    "start_time": "2022-06-07T12:41:26.250Z"
   },
   {
    "duration": 313,
    "start_time": "2022-06-07T12:42:36.009Z"
   },
   {
    "duration": 476,
    "start_time": "2022-06-07T13:01:42.713Z"
   },
   {
    "duration": 1034,
    "start_time": "2022-06-07T13:02:32.869Z"
   },
   {
    "duration": 1252,
    "start_time": "2022-06-07T13:03:20.867Z"
   },
   {
    "duration": 1107,
    "start_time": "2022-06-07T13:03:33.402Z"
   },
   {
    "duration": 1046,
    "start_time": "2022-06-07T13:03:49.114Z"
   },
   {
    "duration": 889,
    "start_time": "2022-06-07T13:04:11.923Z"
   },
   {
    "duration": 468,
    "start_time": "2022-06-07T13:04:46.515Z"
   },
   {
    "duration": 5,
    "start_time": "2022-06-07T13:04:51.816Z"
   },
   {
    "duration": 1550,
    "start_time": "2022-06-07T13:04:53.206Z"
   },
   {
    "duration": 13,
    "start_time": "2022-06-07T13:05:07.517Z"
   },
   {
    "duration": 21,
    "start_time": "2022-06-07T13:06:14.504Z"
   },
   {
    "duration": 1376,
    "start_time": "2022-06-07T13:06:17.763Z"
   },
   {
    "duration": 21,
    "start_time": "2022-06-07T13:06:31.511Z"
   },
   {
    "duration": 1343,
    "start_time": "2022-06-07T13:06:34.009Z"
   },
   {
    "duration": 27,
    "start_time": "2022-06-07T13:06:55.759Z"
   },
   {
    "duration": 471,
    "start_time": "2022-06-07T13:06:58.475Z"
   },
   {
    "duration": 970,
    "start_time": "2022-06-07T13:10:02.365Z"
   },
   {
    "duration": 32,
    "start_time": "2022-06-07T13:10:33.169Z"
   },
   {
    "duration": 31,
    "start_time": "2022-06-07T13:11:01.265Z"
   },
   {
    "duration": 986,
    "start_time": "2022-06-07T13:11:24.015Z"
   },
   {
    "duration": 44,
    "start_time": "2022-06-07T13:11:54.170Z"
   },
   {
    "duration": 1128,
    "start_time": "2022-06-07T13:12:04.120Z"
   },
   {
    "duration": 1259,
    "start_time": "2022-06-07T13:13:07.188Z"
   },
   {
    "duration": 85,
    "start_time": "2022-06-07T13:13:36.951Z"
   },
   {
    "duration": 967,
    "start_time": "2022-06-07T13:14:04.872Z"
   },
   {
    "duration": 1298,
    "start_time": "2022-06-07T13:14:51.013Z"
   },
   {
    "duration": 1043,
    "start_time": "2022-06-07T13:15:09.074Z"
   },
   {
    "duration": 1071,
    "start_time": "2022-06-07T13:15:21.249Z"
   },
   {
    "duration": 6,
    "start_time": "2022-06-07T13:34:29.623Z"
   },
   {
    "duration": 330,
    "start_time": "2022-06-07T13:34:31.380Z"
   },
   {
    "duration": 19,
    "start_time": "2022-06-07T13:34:31.713Z"
   },
   {
    "duration": 556,
    "start_time": "2022-06-07T13:39:33.904Z"
   },
   {
    "duration": 12,
    "start_time": "2022-06-07T13:39:43.771Z"
   },
   {
    "duration": 10,
    "start_time": "2022-06-07T13:39:45.768Z"
   },
   {
    "duration": 5,
    "start_time": "2022-06-07T13:46:47.712Z"
   },
   {
    "duration": 10,
    "start_time": "2022-06-07T13:48:21.173Z"
   },
   {
    "duration": 295,
    "start_time": "2022-06-07T13:48:25.702Z"
   },
   {
    "duration": 10,
    "start_time": "2022-06-07T13:48:30.703Z"
   },
   {
    "duration": 270,
    "start_time": "2022-06-07T13:49:19.668Z"
   },
   {
    "duration": 17,
    "start_time": "2022-06-07T13:49:24.373Z"
   },
   {
    "duration": 5,
    "start_time": "2022-06-07T13:49:26.700Z"
   },
   {
    "duration": 80,
    "start_time": "2022-06-07T13:51:18.409Z"
   },
   {
    "duration": 14,
    "start_time": "2022-06-07T13:54:29.424Z"
   },
   {
    "duration": 9,
    "start_time": "2022-06-07T13:54:36.370Z"
   },
   {
    "duration": 1317,
    "start_time": "2022-06-07T18:51:32.920Z"
   },
   {
    "duration": 151,
    "start_time": "2022-06-07T18:51:34.240Z"
   },
   {
    "duration": 22,
    "start_time": "2022-06-07T18:51:34.393Z"
   },
   {
    "duration": 16,
    "start_time": "2022-06-07T18:51:34.419Z"
   },
   {
    "duration": 24,
    "start_time": "2022-06-07T18:51:34.437Z"
   },
   {
    "duration": 14,
    "start_time": "2022-06-07T18:51:34.462Z"
   },
   {
    "duration": 14,
    "start_time": "2022-06-07T18:51:34.477Z"
   },
   {
    "duration": 10,
    "start_time": "2022-06-07T18:51:34.493Z"
   },
   {
    "duration": 16,
    "start_time": "2022-06-07T18:51:34.505Z"
   },
   {
    "duration": 9,
    "start_time": "2022-06-07T18:51:34.524Z"
   },
   {
    "duration": 38,
    "start_time": "2022-06-07T18:51:34.535Z"
   },
   {
    "duration": 13,
    "start_time": "2022-06-07T18:51:34.574Z"
   },
   {
    "duration": 11,
    "start_time": "2022-06-07T18:51:34.589Z"
   },
   {
    "duration": 12,
    "start_time": "2022-06-07T18:51:34.602Z"
   },
   {
    "duration": 7,
    "start_time": "2022-06-07T18:51:34.615Z"
   },
   {
    "duration": 20,
    "start_time": "2022-06-07T18:51:34.653Z"
   },
   {
    "duration": 5,
    "start_time": "2022-06-07T18:51:34.675Z"
   },
   {
    "duration": 19,
    "start_time": "2022-06-07T18:51:34.682Z"
   },
   {
    "duration": 7,
    "start_time": "2022-06-07T18:51:34.703Z"
   },
   {
    "duration": 9,
    "start_time": "2022-06-07T18:51:34.712Z"
   },
   {
    "duration": 56,
    "start_time": "2022-06-07T18:51:34.722Z"
   },
   {
    "duration": 932,
    "start_time": "2022-06-07T18:51:34.780Z"
   },
   {
    "duration": 17,
    "start_time": "2022-06-07T18:51:35.714Z"
   },
   {
    "duration": 189,
    "start_time": "2022-06-07T18:51:35.732Z"
   },
   {
    "duration": 8,
    "start_time": "2022-06-07T18:51:35.923Z"
   },
   {
    "duration": 16,
    "start_time": "2022-06-07T18:51:35.933Z"
   },
   {
    "duration": 814,
    "start_time": "2022-06-07T18:51:35.952Z"
   },
   {
    "duration": 8,
    "start_time": "2022-06-07T18:51:36.771Z"
   },
   {
    "duration": 922,
    "start_time": "2022-06-07T18:51:36.781Z"
   },
   {
    "duration": 4,
    "start_time": "2022-06-07T18:51:37.704Z"
   },
   {
    "duration": 525,
    "start_time": "2022-06-07T18:51:37.710Z"
   },
   {
    "duration": 406,
    "start_time": "2022-06-07T18:51:38.236Z"
   },
   {
    "duration": 19,
    "start_time": "2022-06-07T18:51:38.644Z"
   },
   {
    "duration": 807,
    "start_time": "2022-06-07T18:51:38.665Z"
   },
   {
    "duration": 836,
    "start_time": "2022-06-07T18:51:39.474Z"
   },
   {
    "duration": 10,
    "start_time": "2022-06-07T18:51:40.312Z"
   },
   {
    "duration": 12,
    "start_time": "2022-06-07T18:51:40.324Z"
   },
   {
    "duration": 49,
    "start_time": "2022-06-07T18:51:40.337Z"
   },
   {
    "duration": 395,
    "start_time": "2022-06-07T18:51:40.388Z"
   },
   {
    "duration": 359,
    "start_time": "2022-06-07T18:51:40.785Z"
   },
   {
    "duration": 12,
    "start_time": "2022-06-07T18:51:41.146Z"
   },
   {
    "duration": 40,
    "start_time": "2022-06-07T18:51:41.160Z"
   },
   {
    "duration": 235,
    "start_time": "2022-06-07T18:51:41.202Z"
   },
   {
    "duration": 57,
    "start_time": "2022-06-07T18:51:41.439Z"
   },
   {
    "duration": 7,
    "start_time": "2022-06-07T18:51:41.497Z"
   },
   {
    "duration": 287,
    "start_time": "2022-06-07T18:51:41.505Z"
   },
   {
    "duration": 870,
    "start_time": "2022-06-07T18:51:41.793Z"
   },
   {
    "duration": 20,
    "start_time": "2022-06-07T18:51:42.665Z"
   },
   {
    "duration": 660,
    "start_time": "2022-06-07T18:51:42.687Z"
   },
   {
    "duration": 511,
    "start_time": "2022-06-07T18:51:43.351Z"
   },
   {
    "duration": 6,
    "start_time": "2022-06-07T18:51:43.864Z"
   },
   {
    "duration": 211,
    "start_time": "2022-06-07T18:51:43.871Z"
   },
   {
    "duration": 8,
    "start_time": "2022-06-07T18:51:44.084Z"
   },
   {
    "duration": 212,
    "start_time": "2022-06-07T18:51:44.093Z"
   },
   {
    "duration": 7,
    "start_time": "2022-06-07T18:51:44.306Z"
   },
   {
    "duration": 7,
    "start_time": "2022-06-07T18:51:44.315Z"
   },
   {
    "duration": 218,
    "start_time": "2022-06-07T18:51:44.324Z"
   },
   {
    "duration": 14,
    "start_time": "2022-06-07T18:51:44.544Z"
   },
   {
    "duration": 185,
    "start_time": "2022-06-07T18:51:44.560Z"
   },
   {
    "duration": 18,
    "start_time": "2022-06-07T18:51:44.746Z"
   },
   {
    "duration": 9,
    "start_time": "2022-06-07T18:51:44.766Z"
   },
   {
    "duration": 1225,
    "start_time": "2022-06-07T20:06:01.071Z"
   },
   {
    "duration": 490,
    "start_time": "2022-06-07T20:06:02.298Z"
   },
   {
    "duration": 14,
    "start_time": "2022-06-07T20:06:02.789Z"
   },
   {
    "duration": 21,
    "start_time": "2022-06-07T20:06:02.805Z"
   },
   {
    "duration": 14,
    "start_time": "2022-06-07T20:06:02.827Z"
   },
   {
    "duration": 5,
    "start_time": "2022-06-07T20:06:02.842Z"
   },
   {
    "duration": 5,
    "start_time": "2022-06-07T20:06:02.849Z"
   },
   {
    "duration": 5,
    "start_time": "2022-06-07T20:06:02.856Z"
   },
   {
    "duration": 11,
    "start_time": "2022-06-07T20:06:02.862Z"
   },
   {
    "duration": 22,
    "start_time": "2022-06-07T20:06:02.875Z"
   },
   {
    "duration": 14,
    "start_time": "2022-06-07T20:06:02.898Z"
   },
   {
    "duration": 8,
    "start_time": "2022-06-07T20:06:02.914Z"
   },
   {
    "duration": 8,
    "start_time": "2022-06-07T20:06:02.923Z"
   },
   {
    "duration": 9,
    "start_time": "2022-06-07T20:06:02.932Z"
   },
   {
    "duration": 5,
    "start_time": "2022-06-07T20:06:02.942Z"
   },
   {
    "duration": 10,
    "start_time": "2022-06-07T20:06:02.948Z"
   },
   {
    "duration": 3,
    "start_time": "2022-06-07T20:06:02.959Z"
   },
   {
    "duration": 16,
    "start_time": "2022-06-07T20:06:02.995Z"
   },
   {
    "duration": 9,
    "start_time": "2022-06-07T20:06:03.012Z"
   },
   {
    "duration": 10,
    "start_time": "2022-06-07T20:06:03.022Z"
   },
   {
    "duration": 12,
    "start_time": "2022-06-07T20:06:03.033Z"
   },
   {
    "duration": 767,
    "start_time": "2022-06-07T20:06:03.046Z"
   },
   {
    "duration": 18,
    "start_time": "2022-06-07T20:06:03.815Z"
   },
   {
    "duration": 139,
    "start_time": "2022-06-07T20:06:03.834Z"
   },
   {
    "duration": 7,
    "start_time": "2022-06-07T20:06:03.975Z"
   },
   {
    "duration": 19,
    "start_time": "2022-06-07T20:06:03.983Z"
   },
   {
    "duration": 732,
    "start_time": "2022-06-07T20:06:04.003Z"
   },
   {
    "duration": 9,
    "start_time": "2022-06-07T20:06:04.738Z"
   },
   {
    "duration": 872,
    "start_time": "2022-06-07T20:06:04.748Z"
   },
   {
    "duration": 3,
    "start_time": "2022-06-07T20:06:05.622Z"
   },
   {
    "duration": 515,
    "start_time": "2022-06-07T20:06:05.626Z"
   },
   {
    "duration": 296,
    "start_time": "2022-06-07T20:06:06.143Z"
   },
   {
    "duration": 7,
    "start_time": "2022-06-07T20:06:06.441Z"
   },
   {
    "duration": 707,
    "start_time": "2022-06-07T20:06:06.449Z"
   },
   {
    "duration": 725,
    "start_time": "2022-06-07T20:06:07.158Z"
   },
   {
    "duration": 15,
    "start_time": "2022-06-07T20:06:07.885Z"
   },
   {
    "duration": 16,
    "start_time": "2022-06-07T20:06:07.903Z"
   },
   {
    "duration": 19,
    "start_time": "2022-06-07T20:06:07.921Z"
   },
   {
    "duration": 328,
    "start_time": "2022-06-07T20:06:07.941Z"
   },
   {
    "duration": 332,
    "start_time": "2022-06-07T20:06:08.270Z"
   },
   {
    "duration": 8,
    "start_time": "2022-06-07T20:06:08.603Z"
   },
   {
    "duration": 15,
    "start_time": "2022-06-07T20:06:08.612Z"
   },
   {
    "duration": 201,
    "start_time": "2022-06-07T20:06:08.628Z"
   },
   {
    "duration": 48,
    "start_time": "2022-06-07T20:06:08.830Z"
   },
   {
    "duration": 19,
    "start_time": "2022-06-07T20:06:08.879Z"
   },
   {
    "duration": 247,
    "start_time": "2022-06-07T20:06:08.901Z"
   },
   {
    "duration": 612,
    "start_time": "2022-06-07T20:06:09.149Z"
   },
   {
    "duration": 21,
    "start_time": "2022-06-07T20:06:09.762Z"
   },
   {
    "duration": 774,
    "start_time": "2022-06-07T20:06:09.785Z"
   },
   {
    "duration": 436,
    "start_time": "2022-06-07T20:06:10.560Z"
   },
   {
    "duration": 5,
    "start_time": "2022-06-07T20:06:10.997Z"
   },
   {
    "duration": 183,
    "start_time": "2022-06-07T20:06:11.003Z"
   },
   {
    "duration": 8,
    "start_time": "2022-06-07T20:06:11.187Z"
   },
   {
    "duration": 188,
    "start_time": "2022-06-07T20:06:11.196Z"
   },
   {
    "duration": 12,
    "start_time": "2022-06-07T20:06:11.385Z"
   },
   {
    "duration": 21,
    "start_time": "2022-06-07T20:06:11.399Z"
   },
   {
    "duration": 171,
    "start_time": "2022-06-07T20:06:11.422Z"
   },
   {
    "duration": 9,
    "start_time": "2022-06-07T20:06:11.596Z"
   },
   {
    "duration": 172,
    "start_time": "2022-06-07T20:06:11.608Z"
   },
   {
    "duration": 18,
    "start_time": "2022-06-07T20:06:11.782Z"
   },
   {
    "duration": 10,
    "start_time": "2022-06-07T20:06:11.802Z"
   },
   {
    "duration": 19,
    "start_time": "2022-06-07T20:27:30.189Z"
   },
   {
    "duration": 12,
    "start_time": "2022-06-07T20:27:54.314Z"
   },
   {
    "duration": 16,
    "start_time": "2022-06-07T20:28:10.277Z"
   },
   {
    "duration": 1044,
    "start_time": "2022-06-07T21:03:50.978Z"
   },
   {
    "duration": 62,
    "start_time": "2022-06-07T21:03:52.026Z"
   },
   {
    "duration": 24,
    "start_time": "2022-06-07T21:03:52.090Z"
   },
   {
    "duration": 14,
    "start_time": "2022-06-07T21:03:52.119Z"
   },
   {
    "duration": 9,
    "start_time": "2022-06-07T21:03:52.134Z"
   },
   {
    "duration": 6,
    "start_time": "2022-06-07T21:03:52.144Z"
   },
   {
    "duration": 8,
    "start_time": "2022-06-07T21:03:52.151Z"
   },
   {
    "duration": 7,
    "start_time": "2022-06-07T21:03:52.160Z"
   },
   {
    "duration": 12,
    "start_time": "2022-06-07T21:03:52.168Z"
   },
   {
    "duration": 6,
    "start_time": "2022-06-07T21:03:52.182Z"
   },
   {
    "duration": 13,
    "start_time": "2022-06-07T21:03:52.200Z"
   },
   {
    "duration": 19,
    "start_time": "2022-06-07T21:03:52.215Z"
   },
   {
    "duration": 14,
    "start_time": "2022-06-07T21:03:52.236Z"
   },
   {
    "duration": 8,
    "start_time": "2022-06-07T21:03:52.252Z"
   },
   {
    "duration": 5,
    "start_time": "2022-06-07T21:03:52.262Z"
   },
   {
    "duration": 10,
    "start_time": "2022-06-07T21:03:52.268Z"
   },
   {
    "duration": 3,
    "start_time": "2022-06-07T21:03:52.280Z"
   },
   {
    "duration": 22,
    "start_time": "2022-06-07T21:03:52.285Z"
   },
   {
    "duration": 22,
    "start_time": "2022-06-07T21:03:52.311Z"
   },
   {
    "duration": 6,
    "start_time": "2022-06-07T21:03:52.334Z"
   },
   {
    "duration": 9,
    "start_time": "2022-06-07T21:03:52.342Z"
   },
   {
    "duration": 748,
    "start_time": "2022-06-07T21:03:52.352Z"
   },
   {
    "duration": 22,
    "start_time": "2022-06-07T21:03:53.101Z"
   },
   {
    "duration": 149,
    "start_time": "2022-06-07T21:03:53.125Z"
   },
   {
    "duration": 7,
    "start_time": "2022-06-07T21:03:53.276Z"
   },
   {
    "duration": 20,
    "start_time": "2022-06-07T21:03:53.284Z"
   },
   {
    "duration": 732,
    "start_time": "2022-06-07T21:03:53.306Z"
   },
   {
    "duration": 10,
    "start_time": "2022-06-07T21:03:54.042Z"
   },
   {
    "duration": 910,
    "start_time": "2022-06-07T21:03:54.053Z"
   },
   {
    "duration": 4,
    "start_time": "2022-06-07T21:03:54.964Z"
   },
   {
    "duration": 476,
    "start_time": "2022-06-07T21:03:54.970Z"
   },
   {
    "duration": 393,
    "start_time": "2022-06-07T21:03:55.448Z"
   },
   {
    "duration": 6,
    "start_time": "2022-06-07T21:03:55.842Z"
   },
   {
    "duration": 733,
    "start_time": "2022-06-07T21:03:55.850Z"
   },
   {
    "duration": 686,
    "start_time": "2022-06-07T21:03:56.585Z"
   },
   {
    "duration": 8,
    "start_time": "2022-06-07T21:03:57.273Z"
   },
   {
    "duration": 29,
    "start_time": "2022-06-07T21:03:57.292Z"
   },
   {
    "duration": 29,
    "start_time": "2022-06-07T21:03:57.323Z"
   },
   {
    "duration": 364,
    "start_time": "2022-06-07T21:03:57.353Z"
   },
   {
    "duration": 302,
    "start_time": "2022-06-07T21:03:57.718Z"
   },
   {
    "duration": 7,
    "start_time": "2022-06-07T21:03:58.022Z"
   },
   {
    "duration": 7,
    "start_time": "2022-06-07T21:03:58.032Z"
   },
   {
    "duration": 226,
    "start_time": "2022-06-07T21:03:58.041Z"
   },
   {
    "duration": 204,
    "start_time": "2022-06-07T21:03:58.269Z"
   },
   {
    "duration": 65,
    "start_time": "2022-06-07T21:03:58.474Z"
   },
   {
    "duration": 6,
    "start_time": "2022-06-07T21:03:58.541Z"
   },
   {
    "duration": 235,
    "start_time": "2022-06-07T21:03:58.548Z"
   },
   {
    "duration": 767,
    "start_time": "2022-06-07T21:03:58.784Z"
   },
   {
    "duration": 21,
    "start_time": "2022-06-07T21:03:59.553Z"
   },
   {
    "duration": 606,
    "start_time": "2022-06-07T21:03:59.575Z"
   },
   {
    "duration": 489,
    "start_time": "2022-06-07T21:04:00.182Z"
   },
   {
    "duration": 4,
    "start_time": "2022-06-07T21:04:00.673Z"
   },
   {
    "duration": 193,
    "start_time": "2022-06-07T21:04:00.678Z"
   },
   {
    "duration": 7,
    "start_time": "2022-06-07T21:04:00.873Z"
   },
   {
    "duration": 209,
    "start_time": "2022-06-07T21:04:00.881Z"
   },
   {
    "duration": 11,
    "start_time": "2022-06-07T21:04:01.095Z"
   },
   {
    "duration": 14,
    "start_time": "2022-06-07T21:04:01.109Z"
   },
   {
    "duration": 215,
    "start_time": "2022-06-07T21:04:01.124Z"
   },
   {
    "duration": 8,
    "start_time": "2022-06-07T21:04:01.340Z"
   },
   {
    "duration": 191,
    "start_time": "2022-06-07T21:04:01.350Z"
   },
   {
    "duration": 7,
    "start_time": "2022-06-07T21:04:01.543Z"
   },
   {
    "duration": 11,
    "start_time": "2022-06-07T21:04:01.552Z"
   },
   {
    "duration": 12,
    "start_time": "2022-06-07T21:04:56.618Z"
   },
   {
    "duration": 190,
    "start_time": "2022-06-07T21:05:05.593Z"
   },
   {
    "duration": 103,
    "start_time": "2022-06-07T21:06:01.549Z"
   },
   {
    "duration": 149,
    "start_time": "2022-06-07T21:07:41.753Z"
   },
   {
    "duration": 264,
    "start_time": "2022-06-07T21:08:28.319Z"
   },
   {
    "duration": 16,
    "start_time": "2022-06-07T21:10:04.936Z"
   },
   {
    "duration": 15,
    "start_time": "2022-06-07T21:10:38.271Z"
   },
   {
    "duration": 172,
    "start_time": "2022-06-07T21:10:46.616Z"
   },
   {
    "duration": 229,
    "start_time": "2022-06-07T21:14:24.677Z"
   },
   {
    "duration": 186,
    "start_time": "2022-06-07T21:14:45.421Z"
   },
   {
    "duration": 4,
    "start_time": "2022-06-07T21:28:55.817Z"
   },
   {
    "duration": 6,
    "start_time": "2022-06-07T21:29:49.552Z"
   },
   {
    "duration": 5,
    "start_time": "2022-06-07T21:30:02.951Z"
   },
   {
    "duration": 6,
    "start_time": "2022-06-07T21:30:13.252Z"
   },
   {
    "duration": 259,
    "start_time": "2022-06-07T21:35:55.620Z"
   },
   {
    "duration": 1315,
    "start_time": "2022-06-09T11:55:04.450Z"
   },
   {
    "duration": 134,
    "start_time": "2022-06-09T11:55:05.768Z"
   },
   {
    "duration": 19,
    "start_time": "2022-06-09T11:55:05.904Z"
   },
   {
    "duration": 17,
    "start_time": "2022-06-09T11:55:05.926Z"
   },
   {
    "duration": 12,
    "start_time": "2022-06-09T11:55:05.945Z"
   },
   {
    "duration": 7,
    "start_time": "2022-06-09T11:55:05.960Z"
   },
   {
    "duration": 11,
    "start_time": "2022-06-09T11:55:05.969Z"
   },
   {
    "duration": 29,
    "start_time": "2022-06-09T11:55:05.982Z"
   },
   {
    "duration": 21,
    "start_time": "2022-06-09T11:55:06.022Z"
   },
   {
    "duration": 16,
    "start_time": "2022-06-09T11:55:06.045Z"
   },
   {
    "duration": 18,
    "start_time": "2022-06-09T11:55:06.063Z"
   },
   {
    "duration": 40,
    "start_time": "2022-06-09T11:55:06.083Z"
   },
   {
    "duration": 11,
    "start_time": "2022-06-09T11:55:06.125Z"
   },
   {
    "duration": 14,
    "start_time": "2022-06-09T11:55:06.139Z"
   },
   {
    "duration": 11,
    "start_time": "2022-06-09T11:55:06.155Z"
   },
   {
    "duration": 23,
    "start_time": "2022-06-09T11:55:06.168Z"
   },
   {
    "duration": 33,
    "start_time": "2022-06-09T11:55:06.193Z"
   },
   {
    "duration": 20,
    "start_time": "2022-06-09T11:55:06.228Z"
   },
   {
    "duration": 9,
    "start_time": "2022-06-09T11:55:06.250Z"
   },
   {
    "duration": 11,
    "start_time": "2022-06-09T11:55:06.261Z"
   },
   {
    "duration": 15,
    "start_time": "2022-06-09T11:55:06.274Z"
   },
   {
    "duration": 40,
    "start_time": "2022-06-09T11:55:06.290Z"
   },
   {
    "duration": 789,
    "start_time": "2022-06-09T11:55:06.331Z"
   },
   {
    "duration": 23,
    "start_time": "2022-06-09T11:55:07.123Z"
   },
   {
    "duration": 180,
    "start_time": "2022-06-09T11:55:07.147Z"
   },
   {
    "duration": 11,
    "start_time": "2022-06-09T11:55:07.329Z"
   },
   {
    "duration": 16,
    "start_time": "2022-06-09T11:55:07.342Z"
   },
   {
    "duration": 912,
    "start_time": "2022-06-09T11:55:07.360Z"
   },
   {
    "duration": 54,
    "start_time": "2022-06-09T11:55:08.274Z"
   },
   {
    "duration": 1279,
    "start_time": "2022-06-09T11:55:08.330Z"
   },
   {
    "duration": 6,
    "start_time": "2022-06-09T11:55:09.611Z"
   },
   {
    "duration": 525,
    "start_time": "2022-06-09T11:55:09.623Z"
   },
   {
    "duration": 355,
    "start_time": "2022-06-09T11:55:10.151Z"
   },
   {
    "duration": 16,
    "start_time": "2022-06-09T11:55:10.508Z"
   },
   {
    "duration": 817,
    "start_time": "2022-06-09T11:55:10.527Z"
   },
   {
    "duration": 887,
    "start_time": "2022-06-09T11:55:11.346Z"
   },
   {
    "duration": 19,
    "start_time": "2022-06-09T11:55:12.243Z"
   },
   {
    "duration": 13,
    "start_time": "2022-06-09T11:55:12.264Z"
   },
   {
    "duration": 33,
    "start_time": "2022-06-09T11:55:12.279Z"
   },
   {
    "duration": 492,
    "start_time": "2022-06-09T11:55:12.314Z"
   },
   {
    "duration": 399,
    "start_time": "2022-06-09T11:55:12.811Z"
   },
   {
    "duration": 15,
    "start_time": "2022-06-09T11:55:13.212Z"
   },
   {
    "duration": 22,
    "start_time": "2022-06-09T11:55:13.229Z"
   },
   {
    "duration": 507,
    "start_time": "2022-06-09T11:55:13.253Z"
   },
   {
    "duration": 74,
    "start_time": "2022-06-09T11:55:13.762Z"
   },
   {
    "duration": 8,
    "start_time": "2022-06-09T11:55:13.838Z"
   },
   {
    "duration": 342,
    "start_time": "2022-06-09T11:55:13.848Z"
   },
   {
    "duration": 839,
    "start_time": "2022-06-09T11:55:14.192Z"
   },
   {
    "duration": 24,
    "start_time": "2022-06-09T11:55:15.033Z"
   },
   {
    "duration": 752,
    "start_time": "2022-06-09T11:55:15.059Z"
   },
   {
    "duration": 10,
    "start_time": "2022-06-09T11:55:15.813Z"
   },
   {
    "duration": 586,
    "start_time": "2022-06-09T11:55:15.825Z"
   },
   {
    "duration": 10,
    "start_time": "2022-06-09T11:55:16.414Z"
   },
   {
    "duration": 204,
    "start_time": "2022-06-09T11:55:16.426Z"
   },
   {
    "duration": 8,
    "start_time": "2022-06-09T11:55:16.632Z"
   },
   {
    "duration": 232,
    "start_time": "2022-06-09T11:55:16.642Z"
   },
   {
    "duration": 9,
    "start_time": "2022-06-09T11:55:16.875Z"
   },
   {
    "duration": 9,
    "start_time": "2022-06-09T11:55:16.886Z"
   },
   {
    "duration": 360,
    "start_time": "2022-06-09T11:55:16.897Z"
   },
   {
    "duration": 10,
    "start_time": "2022-06-09T11:55:17.260Z"
   },
   {
    "duration": 202,
    "start_time": "2022-06-09T11:55:17.272Z"
   },
   {
    "duration": 9,
    "start_time": "2022-06-09T11:55:17.476Z"
   },
   {
    "duration": 7,
    "start_time": "2022-06-09T11:55:17.487Z"
   },
   {
    "duration": 617,
    "start_time": "2022-06-09T12:22:16.744Z"
   },
   {
    "duration": 605,
    "start_time": "2022-06-09T12:22:52.340Z"
   },
   {
    "duration": 23,
    "start_time": "2022-06-09T12:23:21.544Z"
   },
   {
    "duration": 8,
    "start_time": "2022-06-09T12:23:32.916Z"
   },
   {
    "duration": 23,
    "start_time": "2022-06-09T12:23:41.347Z"
   },
   {
    "duration": 378,
    "start_time": "2022-06-09T12:25:24.649Z"
   },
   {
    "duration": 8,
    "start_time": "2022-06-09T12:30:33.510Z"
   },
   {
    "duration": 299,
    "start_time": "2022-06-09T12:30:41.013Z"
   },
   {
    "duration": 9,
    "start_time": "2022-06-09T12:31:25.194Z"
   },
   {
    "duration": 275,
    "start_time": "2022-06-09T12:31:26.327Z"
   },
   {
    "duration": 11,
    "start_time": "2022-06-09T12:32:22.542Z"
   },
   {
    "duration": 339,
    "start_time": "2022-06-09T12:32:23.957Z"
   },
   {
    "duration": 311,
    "start_time": "2022-06-09T12:46:14.794Z"
   },
   {
    "duration": 884,
    "start_time": "2022-06-09T12:49:04.617Z"
   },
   {
    "duration": 566,
    "start_time": "2022-06-09T12:52:30.439Z"
   },
   {
    "duration": 727,
    "start_time": "2022-06-09T12:52:38.864Z"
   },
   {
    "duration": 333,
    "start_time": "2022-06-09T12:54:19.973Z"
   },
   {
    "duration": 693,
    "start_time": "2022-06-09T12:54:26.510Z"
   },
   {
    "duration": 364,
    "start_time": "2022-06-09T12:54:53.950Z"
   },
   {
    "duration": 1064,
    "start_time": "2022-06-09T12:55:06.054Z"
   },
   {
    "duration": 624,
    "start_time": "2022-06-09T12:56:05.692Z"
   },
   {
    "duration": 351,
    "start_time": "2022-06-09T12:56:12.717Z"
   },
   {
    "duration": 759,
    "start_time": "2022-06-09T12:56:15.667Z"
   },
   {
    "duration": 675,
    "start_time": "2022-06-09T12:57:13.299Z"
   },
   {
    "duration": 909,
    "start_time": "2022-06-09T13:04:35.083Z"
   },
   {
    "duration": 720,
    "start_time": "2022-06-09T13:04:48.796Z"
   },
   {
    "duration": 423,
    "start_time": "2022-06-09T13:06:01.764Z"
   },
   {
    "duration": 344,
    "start_time": "2022-06-09T13:07:23.092Z"
   },
   {
    "duration": 336,
    "start_time": "2022-06-09T13:09:04.149Z"
   },
   {
    "duration": 703,
    "start_time": "2022-06-09T13:09:11.691Z"
   },
   {
    "duration": 912,
    "start_time": "2022-06-09T13:10:06.504Z"
   },
   {
    "duration": 721,
    "start_time": "2022-06-09T13:10:43.904Z"
   },
   {
    "duration": 653,
    "start_time": "2022-06-09T13:14:04.261Z"
   },
   {
    "duration": 691,
    "start_time": "2022-06-09T13:14:21.430Z"
   },
   {
    "duration": 8809,
    "start_time": "2022-06-09T13:16:08.228Z"
   },
   {
    "duration": 106443,
    "start_time": "2022-06-09T13:16:37.600Z"
   },
   {
    "duration": 732,
    "start_time": "2022-06-09T13:26:34.080Z"
   },
   {
    "duration": 5,
    "start_time": "2022-06-09T13:26:50.242Z"
   },
   {
    "duration": 1179,
    "start_time": "2022-06-09T13:30:59.668Z"
   },
   {
    "duration": 71,
    "start_time": "2022-06-09T13:31:00.849Z"
   },
   {
    "duration": 17,
    "start_time": "2022-06-09T13:31:00.922Z"
   },
   {
    "duration": 69,
    "start_time": "2022-06-09T13:31:00.940Z"
   },
   {
    "duration": 47,
    "start_time": "2022-06-09T13:31:01.011Z"
   },
   {
    "duration": 17,
    "start_time": "2022-06-09T13:31:01.060Z"
   },
   {
    "duration": 26,
    "start_time": "2022-06-09T13:31:01.079Z"
   },
   {
    "duration": 37,
    "start_time": "2022-06-09T13:31:01.106Z"
   },
   {
    "duration": 22,
    "start_time": "2022-06-09T13:31:01.146Z"
   },
   {
    "duration": 41,
    "start_time": "2022-06-09T13:31:01.171Z"
   },
   {
    "duration": 39,
    "start_time": "2022-06-09T13:31:01.215Z"
   },
   {
    "duration": 85,
    "start_time": "2022-06-09T13:31:01.256Z"
   },
   {
    "duration": 77,
    "start_time": "2022-06-09T13:31:01.343Z"
   },
   {
    "duration": 38,
    "start_time": "2022-06-09T13:31:01.424Z"
   },
   {
    "duration": 28,
    "start_time": "2022-06-09T13:31:01.464Z"
   },
   {
    "duration": 33,
    "start_time": "2022-06-09T13:31:01.493Z"
   },
   {
    "duration": 14,
    "start_time": "2022-06-09T13:31:01.528Z"
   },
   {
    "duration": 55,
    "start_time": "2022-06-09T13:31:01.545Z"
   },
   {
    "duration": 13,
    "start_time": "2022-06-09T13:31:01.602Z"
   },
   {
    "duration": 50,
    "start_time": "2022-06-09T13:31:01.616Z"
   },
   {
    "duration": 36,
    "start_time": "2022-06-09T13:31:01.668Z"
   },
   {
    "duration": 76,
    "start_time": "2022-06-09T13:31:01.706Z"
   },
   {
    "duration": 815,
    "start_time": "2022-06-09T13:31:01.784Z"
   },
   {
    "duration": 24,
    "start_time": "2022-06-09T13:31:02.601Z"
   },
   {
    "duration": 219,
    "start_time": "2022-06-09T13:31:02.627Z"
   },
   {
    "duration": 13,
    "start_time": "2022-06-09T13:31:02.848Z"
   },
   {
    "duration": 34,
    "start_time": "2022-06-09T13:31:02.863Z"
   },
   {
    "duration": 820,
    "start_time": "2022-06-09T13:31:02.899Z"
   },
   {
    "duration": 12,
    "start_time": "2022-06-09T13:31:03.721Z"
   },
   {
    "duration": 1030,
    "start_time": "2022-06-09T13:31:03.734Z"
   },
   {
    "duration": 5,
    "start_time": "2022-06-09T13:31:04.765Z"
   },
   {
    "duration": 529,
    "start_time": "2022-06-09T13:31:04.771Z"
   },
   {
    "duration": 525,
    "start_time": "2022-06-09T13:31:05.302Z"
   },
   {
    "duration": 345,
    "start_time": "2022-06-09T13:31:05.829Z"
   },
   {
    "duration": 7,
    "start_time": "2022-06-09T13:31:06.176Z"
   },
   {
    "duration": 835,
    "start_time": "2022-06-09T13:31:06.185Z"
   },
   {
    "duration": 794,
    "start_time": "2022-06-09T13:31:07.022Z"
   },
   {
    "duration": 13,
    "start_time": "2022-06-09T13:31:07.818Z"
   },
   {
    "duration": 42,
    "start_time": "2022-06-09T13:31:07.834Z"
   },
   {
    "duration": 35,
    "start_time": "2022-06-09T13:31:07.878Z"
   },
   {
    "duration": 739,
    "start_time": "2022-06-09T13:31:07.917Z"
   },
   {
    "duration": 444,
    "start_time": "2022-06-09T13:31:08.658Z"
   },
   {
    "duration": 8,
    "start_time": "2022-06-09T13:31:09.104Z"
   },
   {
    "duration": 18,
    "start_time": "2022-06-09T13:31:09.124Z"
   },
   {
    "duration": 267,
    "start_time": "2022-06-09T13:31:09.143Z"
   },
   {
    "duration": 62,
    "start_time": "2022-06-09T13:31:09.412Z"
   },
   {
    "duration": 9,
    "start_time": "2022-06-09T13:31:09.476Z"
   },
   {
    "duration": 320,
    "start_time": "2022-06-09T13:31:09.487Z"
   },
   {
    "duration": 329,
    "start_time": "2022-06-09T13:31:09.809Z"
   },
   {
    "duration": 785,
    "start_time": "2022-06-09T13:31:10.141Z"
   },
   {
    "duration": 22,
    "start_time": "2022-06-09T13:31:10.928Z"
   },
   {
    "duration": 666,
    "start_time": "2022-06-09T13:31:10.952Z"
   },
   {
    "duration": 6,
    "start_time": "2022-06-09T13:31:11.620Z"
   },
   {
    "duration": 632,
    "start_time": "2022-06-09T13:31:11.628Z"
   },
   {
    "duration": 5,
    "start_time": "2022-06-09T13:31:12.262Z"
   },
   {
    "duration": 208,
    "start_time": "2022-06-09T13:31:12.268Z"
   },
   {
    "duration": 9,
    "start_time": "2022-06-09T13:31:12.478Z"
   },
   {
    "duration": 283,
    "start_time": "2022-06-09T13:31:12.488Z"
   },
   {
    "duration": 12,
    "start_time": "2022-06-09T13:31:12.774Z"
   },
   {
    "duration": 14,
    "start_time": "2022-06-09T13:31:12.788Z"
   },
   {
    "duration": 297,
    "start_time": "2022-06-09T13:31:12.804Z"
   },
   {
    "duration": 21,
    "start_time": "2022-06-09T13:31:13.103Z"
   },
   {
    "duration": 212,
    "start_time": "2022-06-09T13:31:13.127Z"
   },
   {
    "duration": 9,
    "start_time": "2022-06-09T13:31:13.341Z"
   },
   {
    "duration": 14,
    "start_time": "2022-06-09T13:31:13.353Z"
   }
  ],
  "celltoolbar": "Необработанный формат ячейки",
  "kernelspec": {
   "display_name": "Python 3 (ipykernel)",
   "language": "python",
   "name": "python3"
  },
  "language_info": {
   "codemirror_mode": {
    "name": "ipython",
    "version": 3
   },
   "file_extension": ".py",
   "mimetype": "text/x-python",
   "name": "python",
   "nbconvert_exporter": "python",
   "pygments_lexer": "ipython3",
   "version": "3.9.13"
  },
  "toc": {
   "base_numbering": 1,
   "nav_menu": {},
   "number_sections": true,
   "sideBar": true,
   "skip_h1_title": true,
   "title_cell": "Содержание",
   "title_sidebar": "Содержание",
   "toc_cell": true,
   "toc_position": {
    "height": "calc(100% - 180px)",
    "left": "10px",
    "top": "150px",
    "width": "329.774px"
   },
   "toc_section_display": true,
   "toc_window_display": true
  }
 },
 "nbformat": 4,
 "nbformat_minor": 2
}
